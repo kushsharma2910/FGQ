{
  "nbformat": 4,
  "nbformat_minor": 0,
  "metadata": {
    "accelerator": "GPU",
    "colab": {
      "name": "GAN.ipynb",
      "provenance": [],
      "collapsed_sections": [],
      "machine_shape": "hm",
      "include_colab_link": true
    },
    "kernelspec": {
      "name": "python3",
      "display_name": "Python 3"
    },
    "language_info": {
      "codemirror_mode": {
        "name": "ipython",
        "version": 3
      },
      "file_extension": ".py",
      "mimetype": "text/x-python",
      "name": "python",
      "nbconvert_exporter": "python",
      "pygments_lexer": "ipython3",
      "version": "3.6.9"
    },
    "widgets": {
      "application/vnd.jupyter.widget-state+json": {
        "16679fdc50bd4f53850e6695fb5e5539": {
          "model_module": "@jupyter-widgets/controls",
          "model_name": "HBoxModel",
          "state": {
            "_view_name": "HBoxView",
            "_dom_classes": [],
            "_model_name": "HBoxModel",
            "_view_module": "@jupyter-widgets/controls",
            "_model_module_version": "1.5.0",
            "_view_count": null,
            "_view_module_version": "1.5.0",
            "box_style": "",
            "layout": "IPY_MODEL_abfce2a0ccb84c84ad6918d92feabc69",
            "_model_module": "@jupyter-widgets/controls",
            "children": [
              "IPY_MODEL_6b3a8366fd564f65a60a662be17b2fa7",
              "IPY_MODEL_dff88c87e32d40a186bfac7271b90e5c"
            ]
          }
        },
        "abfce2a0ccb84c84ad6918d92feabc69": {
          "model_module": "@jupyter-widgets/base",
          "model_name": "LayoutModel",
          "state": {
            "_view_name": "LayoutView",
            "grid_template_rows": null,
            "right": null,
            "justify_content": null,
            "_view_module": "@jupyter-widgets/base",
            "overflow": null,
            "_model_module_version": "1.2.0",
            "_view_count": null,
            "flex_flow": null,
            "width": null,
            "min_width": null,
            "border": null,
            "align_items": null,
            "bottom": null,
            "_model_module": "@jupyter-widgets/base",
            "top": null,
            "grid_column": null,
            "overflow_y": null,
            "overflow_x": null,
            "grid_auto_flow": null,
            "grid_area": null,
            "grid_template_columns": null,
            "flex": null,
            "_model_name": "LayoutModel",
            "justify_items": null,
            "grid_row": null,
            "max_height": null,
            "align_content": null,
            "visibility": null,
            "align_self": null,
            "height": null,
            "min_height": null,
            "padding": null,
            "grid_auto_rows": null,
            "grid_gap": null,
            "max_width": null,
            "order": null,
            "_view_module_version": "1.2.0",
            "grid_template_areas": null,
            "object_position": null,
            "object_fit": null,
            "grid_auto_columns": null,
            "margin": null,
            "display": null,
            "left": null
          }
        },
        "6b3a8366fd564f65a60a662be17b2fa7": {
          "model_module": "@jupyter-widgets/controls",
          "model_name": "IntProgressModel",
          "state": {
            "_view_name": "ProgressView",
            "style": "IPY_MODEL_cb235223b50847e69d049e0754564f84",
            "_dom_classes": [],
            "description": "",
            "_model_name": "IntProgressModel",
            "bar_style": "success",
            "max": 49626,
            "_view_module": "@jupyter-widgets/controls",
            "_model_module_version": "1.5.0",
            "value": 49626,
            "_view_count": null,
            "_view_module_version": "1.5.0",
            "orientation": "horizontal",
            "min": 0,
            "description_tooltip": null,
            "_model_module": "@jupyter-widgets/controls",
            "layout": "IPY_MODEL_7c56b098dc7c4d178f4fcfef0caee697"
          }
        },
        "dff88c87e32d40a186bfac7271b90e5c": {
          "model_module": "@jupyter-widgets/controls",
          "model_name": "HTMLModel",
          "state": {
            "_view_name": "HTMLView",
            "style": "IPY_MODEL_43fefe65803944b1bc723ae804d47298",
            "_dom_classes": [],
            "description": "",
            "_model_name": "HTMLModel",
            "placeholder": "​",
            "_view_module": "@jupyter-widgets/controls",
            "_model_module_version": "1.5.0",
            "value": "100% 49626/49626 [00:42&lt;00:00, 1176.56it/s]",
            "_view_count": null,
            "_view_module_version": "1.5.0",
            "description_tooltip": null,
            "_model_module": "@jupyter-widgets/controls",
            "layout": "IPY_MODEL_e45012074b584c98a4dd92b0df162dc4"
          }
        },
        "cb235223b50847e69d049e0754564f84": {
          "model_module": "@jupyter-widgets/controls",
          "model_name": "ProgressStyleModel",
          "state": {
            "_view_name": "StyleView",
            "_model_name": "ProgressStyleModel",
            "description_width": "",
            "_view_module": "@jupyter-widgets/base",
            "_model_module_version": "1.5.0",
            "_view_count": null,
            "_view_module_version": "1.2.0",
            "bar_color": null,
            "_model_module": "@jupyter-widgets/controls"
          }
        },
        "7c56b098dc7c4d178f4fcfef0caee697": {
          "model_module": "@jupyter-widgets/base",
          "model_name": "LayoutModel",
          "state": {
            "_view_name": "LayoutView",
            "grid_template_rows": null,
            "right": null,
            "justify_content": null,
            "_view_module": "@jupyter-widgets/base",
            "overflow": null,
            "_model_module_version": "1.2.0",
            "_view_count": null,
            "flex_flow": null,
            "width": null,
            "min_width": null,
            "border": null,
            "align_items": null,
            "bottom": null,
            "_model_module": "@jupyter-widgets/base",
            "top": null,
            "grid_column": null,
            "overflow_y": null,
            "overflow_x": null,
            "grid_auto_flow": null,
            "grid_area": null,
            "grid_template_columns": null,
            "flex": null,
            "_model_name": "LayoutModel",
            "justify_items": null,
            "grid_row": null,
            "max_height": null,
            "align_content": null,
            "visibility": null,
            "align_self": null,
            "height": null,
            "min_height": null,
            "padding": null,
            "grid_auto_rows": null,
            "grid_gap": null,
            "max_width": null,
            "order": null,
            "_view_module_version": "1.2.0",
            "grid_template_areas": null,
            "object_position": null,
            "object_fit": null,
            "grid_auto_columns": null,
            "margin": null,
            "display": null,
            "left": null
          }
        },
        "43fefe65803944b1bc723ae804d47298": {
          "model_module": "@jupyter-widgets/controls",
          "model_name": "DescriptionStyleModel",
          "state": {
            "_view_name": "StyleView",
            "_model_name": "DescriptionStyleModel",
            "description_width": "",
            "_view_module": "@jupyter-widgets/base",
            "_model_module_version": "1.5.0",
            "_view_count": null,
            "_view_module_version": "1.2.0",
            "_model_module": "@jupyter-widgets/controls"
          }
        },
        "e45012074b584c98a4dd92b0df162dc4": {
          "model_module": "@jupyter-widgets/base",
          "model_name": "LayoutModel",
          "state": {
            "_view_name": "LayoutView",
            "grid_template_rows": null,
            "right": null,
            "justify_content": null,
            "_view_module": "@jupyter-widgets/base",
            "overflow": null,
            "_model_module_version": "1.2.0",
            "_view_count": null,
            "flex_flow": null,
            "width": null,
            "min_width": null,
            "border": null,
            "align_items": null,
            "bottom": null,
            "_model_module": "@jupyter-widgets/base",
            "top": null,
            "grid_column": null,
            "overflow_y": null,
            "overflow_x": null,
            "grid_auto_flow": null,
            "grid_area": null,
            "grid_template_columns": null,
            "flex": null,
            "_model_name": "LayoutModel",
            "justify_items": null,
            "grid_row": null,
            "max_height": null,
            "align_content": null,
            "visibility": null,
            "align_self": null,
            "height": null,
            "min_height": null,
            "padding": null,
            "grid_auto_rows": null,
            "grid_gap": null,
            "max_width": null,
            "order": null,
            "_view_module_version": "1.2.0",
            "grid_template_areas": null,
            "object_position": null,
            "object_fit": null,
            "grid_auto_columns": null,
            "margin": null,
            "display": null,
            "left": null
          }
        },
        "e23e67446f064bd1891038bf4689d6ee": {
          "model_module": "@jupyter-widgets/controls",
          "model_name": "HBoxModel",
          "state": {
            "_view_name": "HBoxView",
            "_dom_classes": [],
            "_model_name": "HBoxModel",
            "_view_module": "@jupyter-widgets/controls",
            "_model_module_version": "1.5.0",
            "_view_count": null,
            "_view_module_version": "1.5.0",
            "box_style": "",
            "layout": "IPY_MODEL_caa528db60e34784bf78bd2ab87acd65",
            "_model_module": "@jupyter-widgets/controls",
            "children": [
              "IPY_MODEL_e7c473885cbc4094b57c1bb43bcfd850",
              "IPY_MODEL_b91cfd64c4f64d87849374362432ea24"
            ]
          }
        },
        "caa528db60e34784bf78bd2ab87acd65": {
          "model_module": "@jupyter-widgets/base",
          "model_name": "LayoutModel",
          "state": {
            "_view_name": "LayoutView",
            "grid_template_rows": null,
            "right": null,
            "justify_content": null,
            "_view_module": "@jupyter-widgets/base",
            "overflow": null,
            "_model_module_version": "1.2.0",
            "_view_count": null,
            "flex_flow": null,
            "width": null,
            "min_width": null,
            "border": null,
            "align_items": null,
            "bottom": null,
            "_model_module": "@jupyter-widgets/base",
            "top": null,
            "grid_column": null,
            "overflow_y": null,
            "overflow_x": null,
            "grid_auto_flow": null,
            "grid_area": null,
            "grid_template_columns": null,
            "flex": null,
            "_model_name": "LayoutModel",
            "justify_items": null,
            "grid_row": null,
            "max_height": null,
            "align_content": null,
            "visibility": null,
            "align_self": null,
            "height": null,
            "min_height": null,
            "padding": null,
            "grid_auto_rows": null,
            "grid_gap": null,
            "max_width": null,
            "order": null,
            "_view_module_version": "1.2.0",
            "grid_template_areas": null,
            "object_position": null,
            "object_fit": null,
            "grid_auto_columns": null,
            "margin": null,
            "display": null,
            "left": null
          }
        },
        "e7c473885cbc4094b57c1bb43bcfd850": {
          "model_module": "@jupyter-widgets/controls",
          "model_name": "IntProgressModel",
          "state": {
            "_view_name": "ProgressView",
            "style": "IPY_MODEL_722888a92a33421a8e58d00b49269008",
            "_dom_classes": [],
            "description": "",
            "_model_name": "IntProgressModel",
            "bar_style": "success",
            "max": 12209,
            "_view_module": "@jupyter-widgets/controls",
            "_model_module_version": "1.5.0",
            "value": 12209,
            "_view_count": null,
            "_view_module_version": "1.5.0",
            "orientation": "horizontal",
            "min": 0,
            "description_tooltip": null,
            "_model_module": "@jupyter-widgets/controls",
            "layout": "IPY_MODEL_3c6d2a037f2b498eb9b8b48373a5665d"
          }
        },
        "b91cfd64c4f64d87849374362432ea24": {
          "model_module": "@jupyter-widgets/controls",
          "model_name": "HTMLModel",
          "state": {
            "_view_name": "HTMLView",
            "style": "IPY_MODEL_521d8170de0c4c199bc156b9decaffc7",
            "_dom_classes": [],
            "description": "",
            "_model_name": "HTMLModel",
            "placeholder": "​",
            "_view_module": "@jupyter-widgets/controls",
            "_model_module_version": "1.5.0",
            "value": "100% 12209/12209 [00:11&lt;00:00, 1072.67it/s]",
            "_view_count": null,
            "_view_module_version": "1.5.0",
            "description_tooltip": null,
            "_model_module": "@jupyter-widgets/controls",
            "layout": "IPY_MODEL_b0daae35f2ac4beaba277b94b1260290"
          }
        },
        "722888a92a33421a8e58d00b49269008": {
          "model_module": "@jupyter-widgets/controls",
          "model_name": "ProgressStyleModel",
          "state": {
            "_view_name": "StyleView",
            "_model_name": "ProgressStyleModel",
            "description_width": "",
            "_view_module": "@jupyter-widgets/base",
            "_model_module_version": "1.5.0",
            "_view_count": null,
            "_view_module_version": "1.2.0",
            "bar_color": null,
            "_model_module": "@jupyter-widgets/controls"
          }
        },
        "3c6d2a037f2b498eb9b8b48373a5665d": {
          "model_module": "@jupyter-widgets/base",
          "model_name": "LayoutModel",
          "state": {
            "_view_name": "LayoutView",
            "grid_template_rows": null,
            "right": null,
            "justify_content": null,
            "_view_module": "@jupyter-widgets/base",
            "overflow": null,
            "_model_module_version": "1.2.0",
            "_view_count": null,
            "flex_flow": null,
            "width": null,
            "min_width": null,
            "border": null,
            "align_items": null,
            "bottom": null,
            "_model_module": "@jupyter-widgets/base",
            "top": null,
            "grid_column": null,
            "overflow_y": null,
            "overflow_x": null,
            "grid_auto_flow": null,
            "grid_area": null,
            "grid_template_columns": null,
            "flex": null,
            "_model_name": "LayoutModel",
            "justify_items": null,
            "grid_row": null,
            "max_height": null,
            "align_content": null,
            "visibility": null,
            "align_self": null,
            "height": null,
            "min_height": null,
            "padding": null,
            "grid_auto_rows": null,
            "grid_gap": null,
            "max_width": null,
            "order": null,
            "_view_module_version": "1.2.0",
            "grid_template_areas": null,
            "object_position": null,
            "object_fit": null,
            "grid_auto_columns": null,
            "margin": null,
            "display": null,
            "left": null
          }
        },
        "521d8170de0c4c199bc156b9decaffc7": {
          "model_module": "@jupyter-widgets/controls",
          "model_name": "DescriptionStyleModel",
          "state": {
            "_view_name": "StyleView",
            "_model_name": "DescriptionStyleModel",
            "description_width": "",
            "_view_module": "@jupyter-widgets/base",
            "_model_module_version": "1.5.0",
            "_view_count": null,
            "_view_module_version": "1.2.0",
            "_model_module": "@jupyter-widgets/controls"
          }
        },
        "b0daae35f2ac4beaba277b94b1260290": {
          "model_module": "@jupyter-widgets/base",
          "model_name": "LayoutModel",
          "state": {
            "_view_name": "LayoutView",
            "grid_template_rows": null,
            "right": null,
            "justify_content": null,
            "_view_module": "@jupyter-widgets/base",
            "overflow": null,
            "_model_module_version": "1.2.0",
            "_view_count": null,
            "flex_flow": null,
            "width": null,
            "min_width": null,
            "border": null,
            "align_items": null,
            "bottom": null,
            "_model_module": "@jupyter-widgets/base",
            "top": null,
            "grid_column": null,
            "overflow_y": null,
            "overflow_x": null,
            "grid_auto_flow": null,
            "grid_area": null,
            "grid_template_columns": null,
            "flex": null,
            "_model_name": "LayoutModel",
            "justify_items": null,
            "grid_row": null,
            "max_height": null,
            "align_content": null,
            "visibility": null,
            "align_self": null,
            "height": null,
            "min_height": null,
            "padding": null,
            "grid_auto_rows": null,
            "grid_gap": null,
            "max_width": null,
            "order": null,
            "_view_module_version": "1.2.0",
            "grid_template_areas": null,
            "object_position": null,
            "object_fit": null,
            "grid_auto_columns": null,
            "margin": null,
            "display": null,
            "left": null
          }
        },
        "8191eb412662403894b89561561316c8": {
          "model_module": "@jupyter-widgets/controls",
          "model_name": "HBoxModel",
          "state": {
            "_view_name": "HBoxView",
            "_dom_classes": [],
            "_model_name": "HBoxModel",
            "_view_module": "@jupyter-widgets/controls",
            "_model_module_version": "1.5.0",
            "_view_count": null,
            "_view_module_version": "1.5.0",
            "box_style": "",
            "layout": "IPY_MODEL_783ff7c44e8d4ce992a1723464db9392",
            "_model_module": "@jupyter-widgets/controls",
            "children": [
              "IPY_MODEL_23a22d06181b44d6a190a62cbac916a7",
              "IPY_MODEL_d028a134afef4d8dabdd963f3f9f897b"
            ]
          }
        },
        "783ff7c44e8d4ce992a1723464db9392": {
          "model_module": "@jupyter-widgets/base",
          "model_name": "LayoutModel",
          "state": {
            "_view_name": "LayoutView",
            "grid_template_rows": null,
            "right": null,
            "justify_content": null,
            "_view_module": "@jupyter-widgets/base",
            "overflow": null,
            "_model_module_version": "1.2.0",
            "_view_count": null,
            "flex_flow": null,
            "width": null,
            "min_width": null,
            "border": null,
            "align_items": null,
            "bottom": null,
            "_model_module": "@jupyter-widgets/base",
            "top": null,
            "grid_column": null,
            "overflow_y": null,
            "overflow_x": null,
            "grid_auto_flow": null,
            "grid_area": null,
            "grid_template_columns": null,
            "flex": null,
            "_model_name": "LayoutModel",
            "justify_items": null,
            "grid_row": null,
            "max_height": null,
            "align_content": null,
            "visibility": null,
            "align_self": null,
            "height": null,
            "min_height": null,
            "padding": null,
            "grid_auto_rows": null,
            "grid_gap": null,
            "max_width": null,
            "order": null,
            "_view_module_version": "1.2.0",
            "grid_template_areas": null,
            "object_position": null,
            "object_fit": null,
            "grid_auto_columns": null,
            "margin": null,
            "display": null,
            "left": null
          }
        },
        "23a22d06181b44d6a190a62cbac916a7": {
          "model_module": "@jupyter-widgets/controls",
          "model_name": "IntProgressModel",
          "state": {
            "_view_name": "ProgressView",
            "style": "IPY_MODEL_0e4048d8e9de4eddae39c2e230d9a6fd",
            "_dom_classes": [],
            "description": "",
            "_model_name": "IntProgressModel",
            "bar_style": "danger",
            "max": 96,
            "_view_module": "@jupyter-widgets/controls",
            "_model_module_version": "1.5.0",
            "value": 1,
            "_view_count": null,
            "_view_module_version": "1.5.0",
            "orientation": "horizontal",
            "min": 0,
            "description_tooltip": null,
            "_model_module": "@jupyter-widgets/controls",
            "layout": "IPY_MODEL_048547876e114ea99c3817a9154ea2a2"
          }
        },
        "d028a134afef4d8dabdd963f3f9f897b": {
          "model_module": "@jupyter-widgets/controls",
          "model_name": "HTMLModel",
          "state": {
            "_view_name": "HTMLView",
            "style": "IPY_MODEL_3bdb945ef0db4e749fbe6e5dd44a09bc",
            "_dom_classes": [],
            "description": "",
            "_model_name": "HTMLModel",
            "placeholder": "​",
            "_view_module": "@jupyter-widgets/controls",
            "_model_module_version": "1.5.0",
            "value": "  1% 1/96 [00:00&lt;01:24,  1.13it/s]",
            "_view_count": null,
            "_view_module_version": "1.5.0",
            "description_tooltip": null,
            "_model_module": "@jupyter-widgets/controls",
            "layout": "IPY_MODEL_b290bef00c36447b9f654cd5210866c1"
          }
        },
        "0e4048d8e9de4eddae39c2e230d9a6fd": {
          "model_module": "@jupyter-widgets/controls",
          "model_name": "ProgressStyleModel",
          "state": {
            "_view_name": "StyleView",
            "_model_name": "ProgressStyleModel",
            "description_width": "",
            "_view_module": "@jupyter-widgets/base",
            "_model_module_version": "1.5.0",
            "_view_count": null,
            "_view_module_version": "1.2.0",
            "bar_color": null,
            "_model_module": "@jupyter-widgets/controls"
          }
        },
        "048547876e114ea99c3817a9154ea2a2": {
          "model_module": "@jupyter-widgets/base",
          "model_name": "LayoutModel",
          "state": {
            "_view_name": "LayoutView",
            "grid_template_rows": null,
            "right": null,
            "justify_content": null,
            "_view_module": "@jupyter-widgets/base",
            "overflow": null,
            "_model_module_version": "1.2.0",
            "_view_count": null,
            "flex_flow": null,
            "width": null,
            "min_width": null,
            "border": null,
            "align_items": null,
            "bottom": null,
            "_model_module": "@jupyter-widgets/base",
            "top": null,
            "grid_column": null,
            "overflow_y": null,
            "overflow_x": null,
            "grid_auto_flow": null,
            "grid_area": null,
            "grid_template_columns": null,
            "flex": null,
            "_model_name": "LayoutModel",
            "justify_items": null,
            "grid_row": null,
            "max_height": null,
            "align_content": null,
            "visibility": null,
            "align_self": null,
            "height": null,
            "min_height": null,
            "padding": null,
            "grid_auto_rows": null,
            "grid_gap": null,
            "max_width": null,
            "order": null,
            "_view_module_version": "1.2.0",
            "grid_template_areas": null,
            "object_position": null,
            "object_fit": null,
            "grid_auto_columns": null,
            "margin": null,
            "display": null,
            "left": null
          }
        },
        "3bdb945ef0db4e749fbe6e5dd44a09bc": {
          "model_module": "@jupyter-widgets/controls",
          "model_name": "DescriptionStyleModel",
          "state": {
            "_view_name": "StyleView",
            "_model_name": "DescriptionStyleModel",
            "description_width": "",
            "_view_module": "@jupyter-widgets/base",
            "_model_module_version": "1.5.0",
            "_view_count": null,
            "_view_module_version": "1.2.0",
            "_model_module": "@jupyter-widgets/controls"
          }
        },
        "b290bef00c36447b9f654cd5210866c1": {
          "model_module": "@jupyter-widgets/base",
          "model_name": "LayoutModel",
          "state": {
            "_view_name": "LayoutView",
            "grid_template_rows": null,
            "right": null,
            "justify_content": null,
            "_view_module": "@jupyter-widgets/base",
            "overflow": null,
            "_model_module_version": "1.2.0",
            "_view_count": null,
            "flex_flow": null,
            "width": null,
            "min_width": null,
            "border": null,
            "align_items": null,
            "bottom": null,
            "_model_module": "@jupyter-widgets/base",
            "top": null,
            "grid_column": null,
            "overflow_y": null,
            "overflow_x": null,
            "grid_auto_flow": null,
            "grid_area": null,
            "grid_template_columns": null,
            "flex": null,
            "_model_name": "LayoutModel",
            "justify_items": null,
            "grid_row": null,
            "max_height": null,
            "align_content": null,
            "visibility": null,
            "align_self": null,
            "height": null,
            "min_height": null,
            "padding": null,
            "grid_auto_rows": null,
            "grid_gap": null,
            "max_width": null,
            "order": null,
            "_view_module_version": "1.2.0",
            "grid_template_areas": null,
            "object_position": null,
            "object_fit": null,
            "grid_auto_columns": null,
            "margin": null,
            "display": null,
            "left": null
          }
        }
      }
    }
  },
  "cells": [
    {
      "cell_type": "markdown",
      "metadata": {
        "id": "view-in-github",
        "colab_type": "text"
      },
      "source": [
        "<a href=\"https://colab.research.google.com/github/kushsharma2910/FGQ/blob/kush/custom_loss.ipynb\" target=\"_parent\"><img src=\"https://colab.research.google.com/assets/colab-badge.svg\" alt=\"Open In Colab\"/></a>"
      ]
    },
    {
      "cell_type": "code",
      "metadata": {
        "colab_type": "code",
        "collapsed": true,
        "id": "u4Ofmk-G-Nk4",
        "outputId": "2497616b-7f82-42f9-b4fb-7a4046524c6f",
        "colab": {
          "base_uri": "https://localhost:8080/",
          "height": 125
        }
      },
      "source": [
        "from google.colab import drive\n",
        "drive.mount('/content/drive')"
      ],
      "execution_count": 1,
      "outputs": [
        {
          "output_type": "stream",
          "text": [
            "Go to this URL in a browser: https://accounts.google.com/o/oauth2/auth?client_id=947318989803-6bn6qk8qdgf4n4g3pfee6491hc0brc4i.apps.googleusercontent.com&redirect_uri=urn%3aietf%3awg%3aoauth%3a2.0%3aoob&response_type=code&scope=email%20https%3a%2f%2fwww.googleapis.com%2fauth%2fdocs.test%20https%3a%2f%2fwww.googleapis.com%2fauth%2fdrive%20https%3a%2f%2fwww.googleapis.com%2fauth%2fdrive.photos.readonly%20https%3a%2f%2fwww.googleapis.com%2fauth%2fpeopleapi.readonly\n",
            "\n",
            "Enter your authorization code:\n",
            "··········\n",
            "Mounted at /content/drive\n"
          ],
          "name": "stdout"
        }
      ]
    },
    {
      "cell_type": "code",
      "metadata": {
        "colab_type": "code",
        "id": "fSXEcqqhhBBY",
        "outputId": "72f850b8-7cc3-4ec6-84fa-a28a13aae7b0",
        "colab": {
          "base_uri": "https://localhost:8080/",
          "height": 81
        }
      },
      "source": [
        "import tensorflow as tf\n",
        "device_name = tf.test.gpu_device_name()\n",
        "if device_name != '/device:GPU:0':\n",
        "    raise SystemError('GPU device not found')\n",
        "print('Found GPU at: {}'.format(device_name))"
      ],
      "execution_count": 2,
      "outputs": [
        {
          "output_type": "display_data",
          "data": {
            "text/html": [
              "<p style=\"color: red;\">\n",
              "The default version of TensorFlow in Colab will soon switch to TensorFlow 2.x.<br>\n",
              "We recommend you <a href=\"https://www.tensorflow.org/guide/migrate\" target=\"_blank\">upgrade</a> now \n",
              "or ensure your notebook will continue to use TensorFlow 1.x via the <code>%tensorflow_version 1.x</code> magic:\n",
              "<a href=\"https://colab.research.google.com/notebooks/tensorflow_version.ipynb\" target=\"_blank\">more info</a>.</p>\n"
            ],
            "text/plain": [
              "<IPython.core.display.HTML object>"
            ]
          },
          "metadata": {
            "tags": []
          }
        },
        {
          "output_type": "stream",
          "text": [
            "Found GPU at: /device:GPU:0\n"
          ],
          "name": "stdout"
        }
      ]
    },
    {
      "cell_type": "code",
      "metadata": {
        "colab_type": "code",
        "id": "32BpqMho9hU-",
        "outputId": "162d83be-aba5-43bf-9dfd-e5c3b3546aff",
        "colab": {
          "base_uri": "https://localhost:8080/",
          "height": 35
        }
      },
      "source": [
        "import os\n",
        "import pandas as pd\n",
        "import numpy as np\n",
        "import matplotlib.pyplot as plt\n",
        "from sklearn.decomposition import PCA\n",
        "import os\n",
        "import time\n",
        "from tqdm._tqdm_notebook import tqdm_notebook\n",
        "import pickle\n",
        "from keras.models import Sequential, Model, load_model\n",
        "from keras.layers import Dense, Dropout, BatchNormalization, TimeDistributed, RepeatVector, Reshape, Lambda\n",
        "from keras.layers import LSTM, LeakyReLU, RepeatVector, Conv1D, MaxPooling1D, Flatten, Input, concatenate\n",
        "from keras.callbacks import ModelCheckpoint, EarlyStopping, ReduceLROnPlateau, CSVLogger\n",
        "from keras import optimizers, initializers\n",
        "from keras import backend as K\n",
        "from sklearn.preprocessing import MinMaxScaler\n",
        "from sklearn.model_selection import train_test_split\n",
        "from sklearn.metrics import mean_squared_error\n",
        "import logging\n",
        "import keras.backend.tensorflow_backend as tfb"
      ],
      "execution_count": 3,
      "outputs": [
        {
          "output_type": "stream",
          "text": [
            "Using TensorFlow backend.\n"
          ],
          "name": "stderr"
        }
      ]
    },
    {
      "cell_type": "code",
      "metadata": {
        "colab_type": "code",
        "id": "YDjFHyaS9hVF",
        "colab": {}
      },
      "source": [
        "#######################################################################################\n",
        "################################# CREATING LARGEDF  ###################################\n",
        "#######################################################################################\n",
        "\n",
        "def change_index_to_time(df):\n",
        "    if \"Time (UTC)\" in df.columns:\n",
        "      df['Time (UTC)'] = pd.to_datetime(df['Time (UTC)'])\n",
        "      df.set_index('Time (UTC)', inplace = True, drop = True)\n",
        "    \n",
        "#Finds the dataframe with largest number of time stamps and returns an empty dataframe with same index\n",
        "def create_empty_df(dir_name):\n",
        "    largest_timeframe = 0\n",
        "    path_to_largest = \"\"\n",
        "\n",
        "    for asset_class in os.listdir(dir_name):\n",
        "        for asset in os.listdir(dir_name +  \"/\" + asset_class):    \n",
        "            df = pd.read_csv(dir_name +  \"/\" + asset_class + \"/\" + asset)\n",
        "            if df.shape[0] > largest_timeframe:\n",
        "                largest_timeframe = df.shape[0]\n",
        "                path_to_largest = dir_name +  \"/\" + asset_class + \"/\" + asset\n",
        "\n",
        "    largest_dataframe = pd.read_csv(path_to_largest)\n",
        "    change_index_to_time(largest_dataframe)\n",
        "    largest_dataframe = pd.DataFrame(index = largest_dataframe.index)\n",
        "    return largest_dataframe\n",
        "\n",
        "#######################################################################################\n",
        "################################# FEATURE BUILDING  ###################################\n",
        "#######################################################################################\n",
        "\n",
        "def fill_large_df(dir_name, large_df):\n",
        "    asset67 = []\n",
        "    for asset_class in os.listdir(dir_name):\n",
        "        for asset in os.listdir(dir_name +  \"/\" + asset_class): \n",
        "            extract_name = asset.split(\"_\")\n",
        "            asset67.append(extract_name[0][:-4])\n",
        "            df = pd.read_csv(dir_name +  \"/\" + asset_class + \"/\" + asset)\n",
        "            change_index_to_time(df)\n",
        "            large_df = large_df.join(df)\n",
        "            rename_dic = {}\n",
        "            for column in df.columns:    \n",
        "                rename_dic[column] = column + \"@\" + extract_name[0][:-4]\n",
        "            large_df = large_df.rename(columns = rename_dic) \n",
        "            \n",
        "    return large_df, asset67\n",
        "\n",
        "def add_lag_features(only_feat_df):\n",
        "  lag_feat = only_feat_df.copy()\n",
        "  BASE_FEATURES = [\"Open@\" + target_asset, \"High@\" + target_asset, \"Low@\" + target_asset, \"Close@\" + target_asset]\n",
        "  N_WINDOW = [4, 24, 128, 256]\n",
        "  prevlag = 1 \n",
        "  for window in N_WINDOW:\n",
        "    rolled = lag_feat[BASE_FEATURES].shift(prevlag).rolling(window=window)\n",
        "    lag_feat = lag_feat.join(rolled.mean().add_suffix(f'_window_{window}_mean'))\n",
        "    lag_feat = lag_feat.join(rolled.max().add_suffix(f'_window_{window}_max'))\n",
        "    lag_feat = lag_feat.join(rolled.min().add_suffix(f'_window_{window}_min'))\n",
        "    lag_feat = lag_feat.join(rolled.std().add_suffix(f'_window_{window}_std'))\n",
        "  return lag_feat\n",
        "\n",
        "def remove_spread(df, target_asset):\n",
        "    target_asset_spread = []\n",
        "    features = [\"Open\", \"High\", \"Low\", \"Close\", \"Volume \"]\n",
        "\n",
        "    for feature in features:\n",
        "        target_asset_spread.append(feature + \"_spread@\" + target_asset)\n",
        "\n",
        "    remove_columns = []\n",
        "    for column in df.columns:\n",
        "        if (column not in target_asset_spread) and (\"spread\" in column):\n",
        "            remove_columns.append(column)\n",
        "\n",
        "    df = df.drop(columns = remove_columns)\n",
        "    return df\n",
        "\n",
        "def denoise_fft(df, target_asset, level):\n",
        "    features = [\"Open@\" + target_asset, \"High@\" + target_asset, \"Low@\" + target_asset, \"Close@\" + target_asset]\n",
        "    \n",
        "    for feature in features:\n",
        "        close_fft = np.fft.fft(np.asarray(df[feature].tolist()))\n",
        "        fft_df = pd.DataFrame({'fft':close_fft})\n",
        "        fft_list = np.asarray(fft_df['fft'].tolist())\n",
        "        fft_list_m10 = np.copy(fft_list)\n",
        "        fft_list_m10[level:-level] = 0\n",
        "        df[feature] = np.real(np.fft.ifft(fft_list_m10))\n",
        "\n",
        "def extract_features(large_df, target_asset, target_window, asset67, \\\n",
        "                    add_lag = False, keep_spread = True, denoise = True):\n",
        "    df = large_df.copy()\n",
        "\n",
        "    if denoise == True:\n",
        "        level = 2000\n",
        "        denoise_fft(df, target_asset, level)\n",
        "\n",
        "    #remove the spread columns of assets\n",
        "    #other than the target asset\n",
        "    if keep_spread == False:\n",
        "        df = remove_spread(df, target_asset)\n",
        "\n",
        "    #comment out this line if you \n",
        "    #don't want to use the lag features\n",
        "    if add_lag == True:\n",
        "      df = add_lag_features(df)\n",
        "\n",
        "    df[\"H-\" + str(target_window) + \"hr\" ] = df.pop(\"H-\" + str(target_window) + \"hr@\" + target_asset)\n",
        "    df[\"L-\" + str(target_window) + \"hr\" ] = df.pop(\"L-\" + str(target_window) + \"hr@\" + target_asset)\n",
        "    \n",
        "    #removing targets of assets other\n",
        "    # than the target assset\n",
        "    for asset in asset67:\n",
        "        if asset != target_asset:\n",
        "            df = df.drop(columns = [\"H-4hr@\" + asset, \"L-4hr@\" + asset, \"H-12hr@\" + asset,\n",
        "                               \"L-12hr@\" + asset, \"H-24hr@\" + asset,\"L-24hr@\" + asset])\n",
        "            \n",
        "    #this loop asserts that labels for target asset is\n",
        "    #not present for other windows\n",
        "    windows = [\"4\", \"12\", \"24\"]\n",
        "    for window in windows:\n",
        "      if window != str(target_window):\n",
        "        high = \"H-\" + window + \"hr@\" + target_asset\n",
        "        low = \"L-\" + window + \"hr@\" + target_asset\n",
        "        if high in df.columns:\n",
        "          df = df.drop(columns = [high])\n",
        "        if low in df.columns:\n",
        "          df = df.drop(columns = [low])\n",
        "\n",
        "    change_index_to_time(df)        \n",
        "    return df\n",
        "\n",
        "def normalize_df(df):\n",
        "    result = df.copy()\n",
        "    for feature_name in df.columns:\n",
        "        max_value = df[feature_name].max()\n",
        "        min_value = df[feature_name].min()\n",
        "        result[feature_name] = (df[feature_name] - min_value) / (max_value - min_value)\n",
        "    return result\n",
        "\n",
        "def standard_df(df):\n",
        "    result = df.copy()\n",
        "    for feature_name in df.columns:\n",
        "        df[feature_name] = (df[feature_name]-df[feature_name].mean()) / df[feature_name].std()\n",
        "    return result\n",
        "\n",
        "#######################################################################################\n",
        "################################# MODEL BUILDING  #####################################\n",
        "#######################################################################################\n",
        "\n",
        "\n",
        "#predicting the H as previous value\n",
        "def create_baseline(only_feat_df, direction, target_window):     \n",
        "    preds = np.array(pd.Series(only_feat_df[direction + \"-\" + str(target_window) + \"hr\"]).shift(1).bfill(axis = 0))\n",
        "    actual = np.array(only_feat_df[direction + \"-\" + str(target_window) + \"hr\"])\n",
        "    return preds, actual\n",
        "\n",
        "#######################################################################################\n",
        "############################# ACCURACY CALCULATIONS  ##################################\n",
        "#######################################################################################\n",
        "\n",
        "def acc_abs(preds, actual, tolerance):\n",
        "    tolerance /= 100\n",
        "    return np.sum(np.abs(preds/actual-1) <= tolerance) / preds.shape[0]\n",
        "\n",
        "def acc_dir(preds, actual, tolerance, direction):\n",
        "    tolerance /= 100\n",
        "    score = 0\n",
        "    for ix in range(preds.shape[0]):\n",
        "        if actual[ix] > preds[ix]*(1+tolerance)  and direction == \"H\":\n",
        "            score += 1\n",
        "        elif actual[ix] < preds[ix]*(1-tolerance)  and direction == \"L\":\n",
        "             score += 1\n",
        "    return score / preds.shape[0]\n",
        "\n",
        "def min_pips(preds, actual, opens, tolerance, pips, direction):\n",
        "    pips /= 100\n",
        "    tolerance /= 100\n",
        "    score = 0\n",
        "    for ix in range(preds.shape[0]):\n",
        "        if preds[ix] < actual[ix]*(1+tolerance)  and (direction == \"H\" and (actual[ix] - opens[ix])>=pips):\n",
        "            score += 1 \n",
        "        elif preds[ix] > actual[ix]*(1+tolerance)  and (direction == \"L\" and (opens[ix] - actual[ix])>=pips):\n",
        "             score += 1\n",
        "    return score / preds.shape[0]"
      ],
      "execution_count": 0,
      "outputs": []
    },
    {
      "cell_type": "code",
      "metadata": {
        "colab_type": "code",
        "id": "6ox-Y7o39hVJ",
        "colab": {}
      },
      "source": [
        "#name of the root directory which contains asset classes which further contain asset csv ask and bid pairs\n",
        "# dir_name = \"drive/My Drive/FGQ/Assets\"\n",
        "# large_df = create_empty_df(dir_name)"
      ],
      "execution_count": 0,
      "outputs": []
    },
    {
      "cell_type": "code",
      "metadata": {
        "colab_type": "code",
        "id": "dL0w8A809hVO",
        "colab": {}
      },
      "source": [
        "#asset67 contains the 67 selected assets which have data for more than 6 years\n",
        "# large_df_, asset67 = fill_large_df(dir_name, large_df)"
      ],
      "execution_count": 0,
      "outputs": []
    },
    {
      "cell_type": "code",
      "metadata": {
        "colab_type": "code",
        "id": "0lGdKz6O9hVS",
        "colab": {}
      },
      "source": [
        "#Filling in previous values for values in middle\n",
        "# large_df_ = large_df_.ffill(axis=0)\n",
        "\n",
        "#Filling in next value for initial nan values\n",
        "#This is used for assets which do not have initial data\n",
        "# large_df_ = large_df_.bfill(axis=0)"
      ],
      "execution_count": 0,
      "outputs": []
    },
    {
      "cell_type": "code",
      "metadata": {
        "colab_type": "code",
        "id": "Vztj-_QJ_Kah",
        "outputId": "3083cb8d-5972-4f73-8d4e-d697410004f6",
        "colab": {
          "base_uri": "https://localhost:8080/",
          "height": 52
        }
      },
      "source": [
        "#When using google drive\n",
        "\n",
        "#to extract to the home dir\n",
        "!unzip \"drive/My Drive/FGQ/large_df_.zip\"\n",
        "large_df_ = pd.read_csv(\"large_df_.csv\")\n",
        "\n",
        "#List of assets present in large_df_\n",
        "asset67 = np.array(pd.read_csv(\"drive/My Drive/FGQ/asset67.csv\").iloc[:, 1])"
      ],
      "execution_count": 8,
      "outputs": [
        {
          "output_type": "stream",
          "text": [
            "Archive:  drive/My Drive/FGQ/large_df_.zip\n",
            "  inflating: large_df_.csv           \n"
          ],
          "name": "stdout"
        }
      ]
    },
    {
      "cell_type": "code",
      "metadata": {
        "colab_type": "code",
        "id": "EDBBD8Sn9hVX",
        "colab": {}
      },
      "source": [
        "#input variables\n",
        "target_asset = \"XAGUSD\"\n",
        "target_window = 12\n",
        "direction = \"L\"\n",
        "#give tolerance in percent\n",
        "tolerance = 0.5\n",
        "#in the xlsx file, first row and columns have been removed for efficient reading\n",
        "pip_xl = pd.read_excel(\"drive/My Drive/FGQ/Labels to Forecast.xlsx\")\n",
        "\n",
        "#querying pips\n",
        "pips = pip_xl[pip_xl[\"Label\"] == target_asset][str(target_window) + \" Hour\"].values[0]\n",
        "\n",
        "only_feat_df = extract_features(large_df_, target_asset, target_window, asset67, add_lag=False, keep_spread=False, denoise=True)"
      ],
      "execution_count": 0,
      "outputs": []
    },
    {
      "cell_type": "markdown",
      "metadata": {
        "colab_type": "text",
        "id": "IK3HAvE1Eyl4"
      },
      "source": [
        ""
      ]
    },
    {
      "cell_type": "code",
      "metadata": {
        "colab_type": "code",
        "id": "57UvZ4hIqzXP",
        "colab": {}
      },
      "source": [
        "# preds, actual = create_baseline(only_feat_df, direction, target_window)\n",
        "\n",
        "# #calculate accuracies\n",
        "# print(acc_abs(preds, actual, tolerance))\n",
        "# print(acc_dir(preds, actual, tolerance, direction))\n",
        "# print(min_pips(preds, actual, only_feat_df[\"Open@\" + target_asset], tolerance, pips, direction))"
      ],
      "execution_count": 0,
      "outputs": []
    },
    {
      "cell_type": "code",
      "metadata": {
        "colab_type": "code",
        "id": "fA2iL8KQkUJb",
        "outputId": "6ffaa623-f9be-4030-d551-fefa4afc3ccc",
        "colab": {
          "base_uri": "https://localhost:8080/",
          "height": 35
        }
      },
      "source": [
        "features = [\"Open@\" + target_asset, \"High@\" + target_asset, \"Low@\" + target_asset, \"Close@\" + target_asset, direction + \"-\" + str(target_window) + \"hr\"]\n",
        "\n",
        "# features = []\n",
        "# for feature in only_feat_df.columns:\n",
        "#     if target_asset in feature:\n",
        "#         features.append(feature)\n",
        "# features.append(direction + \"-\" + str(target_window) + \"hr\")\n",
        "\n",
        "only_norm = normalize_df(only_feat_df[features])\n",
        "# only_norm = standard_df(only_feat_df[features])\n",
        "\n",
        "#using only half training data for faster training\n",
        "split = int(0.5 * only_norm.shape[0])\n",
        "only_norm = only_norm.iloc[:split, :]\n",
        "\n",
        "print(only_norm.shape)"
      ],
      "execution_count": 11,
      "outputs": [
        {
          "output_type": "stream",
          "text": [
            "(62363, 5)\n"
          ],
          "name": "stdout"
        }
      ]
    },
    {
      "cell_type": "code",
      "metadata": {
        "colab_type": "code",
        "id": "_FdLD68SEu3e",
        "colab": {}
      },
      "source": [
        "os.environ['TF_CPP_MIN_LOG_LEVEL'] = '2'\n",
        "logging.getLogger(\"tensorflow\").setLevel(logging.ERROR)\n",
        "\n",
        "params = {\n",
        "    \"batch_size\": 512, \n",
        "    \"epochs\": 150,\n",
        "    \"lr_g\": 0.00070000,\n",
        "    \"lr_d\": 0.00700000,\n",
        "    \"time_steps\": 256,\n",
        "    #\"n_outputs\" : 2*target_window\n",
        "    \"n_outputs\" : 8\n",
        "}\n",
        "\n",
        "OUTPUT_PATH = \"drive/My Drive/FGQ/models/\"\n",
        "TIME_STEPS = params[\"time_steps\"]\n",
        "BATCH_SIZE = params[\"batch_size\"]\n",
        "N_OUTPUTS = params[\"n_outputs\"]\n",
        "\n",
        "def trim_dataset(x_t,batch_size):\n",
        "    no_of_rows_drop = x_t.shape[0]%batch_size\n",
        "    if no_of_rows_drop > 0:\n",
        "        return x_t[:-no_of_rows_drop]\n",
        "    else:\n",
        "        return x_t\n",
        "\n",
        "def build_timeseries(only_norm):\n",
        "    temp_dir = direction\n",
        "    if temp_dir == \"H\":\n",
        "        temp_dir = \"High@\"\n",
        "    else:\n",
        "        temp_dir = \"Low@\"\n",
        "    Y = only_norm[temp_dir + target_asset]\n",
        "    dim_0 = only_norm.shape[0] - N_OUTPUTS - TIME_STEPS\n",
        "    dim_1 = only_norm.shape[1]-1\n",
        "    x = np.zeros((dim_0, TIME_STEPS + N_OUTPUTS, dim_1))\n",
        "    y = np.zeros((dim_0, N_OUTPUTS))\n",
        "    target_prices = np.zeros((dim_0, ))\n",
        "    for i in tqdm_notebook(range(dim_0)):\n",
        "        x[i] = only_norm.iloc[i:TIME_STEPS+i+N_OUTPUTS, :-1]\n",
        "        y[i] = Y[TIME_STEPS+i : TIME_STEPS+i+N_OUTPUTS]\n",
        "        target_prices[i] = only_norm[direction + \"-\" + str(target_window) + \"hr\"].iloc[i+TIME_STEPS]\n",
        "    return x, y, target_prices"
      ],
      "execution_count": 0,
      "outputs": []
    },
    {
      "cell_type": "code",
      "metadata": {
        "id": "D_7NyhVwLJLM",
        "colab_type": "code",
        "colab": {}
      },
      "source": [
        "feat_to_ind = {\n",
        "    'O' : 0,\n",
        "    'H' : 1,\n",
        "    'L' : 2,\n",
        "    'C' : 3\n",
        "}"
      ],
      "execution_count": 0,
      "outputs": []
    },
    {
      "cell_type": "code",
      "metadata": {
        "id": "BSJwYMpZ-lE-",
        "colab_type": "code",
        "colab": {}
      },
      "source": [
        "def create_generator():\n",
        "    generator = Sequential()\n",
        "    generator.add(LSTM(50, input_shape=(TIME_STEPS, x_t.shape[2]), dropout=0.2, recurrent_dropout=0.2, stateful=False, kernel_initializer='zeros'))\n",
        "    generator.add(RepeatVector(N_OUTPUTS))\n",
        "    generator.add(LSTM(25, return_sequences=True))\n",
        "    # generator.add(TimeDistributed(Dense(16, activation='relu')))\n",
        "    generator.add(TimeDistributed(Dense(1)))\n",
        "    optimizer = optimizers.Adam(lr=params[\"lr_g\"])\n",
        "    generator.compile(loss='mse', optimizer=optimizer)\n",
        "    return generator\n",
        "\n",
        "def create_discriminator():\n",
        "    discriminator = Sequential()\n",
        "    discriminator.add(Conv1D(8, kernel_size=3, strides=2, padding = 'same', input_shape=(N_OUTPUTS + TIME_STEPS, 1), \n",
        "                            kernel_initializer=initializers.RandomNormal(stddev=0.02)))\n",
        "    discriminator.add(LeakyReLU(alpha = 0.01))\n",
        "    discriminator.add(Conv1D(16, kernel_size=3, strides=2, padding = 'same'))\n",
        "    discriminator.add(LeakyReLU(alpha = 0.01))\n",
        "    discriminator.add(BatchNormalization())\n",
        "    discriminator.add(Dropout(0.2))\n",
        "    discriminator.add(MaxPooling1D(pool_size=2))\n",
        "    discriminator.add(Flatten())\n",
        "    discriminator.add(Dense(50, activation='relu'))\n",
        "    discriminator.add(Dense(1, activation='sigmoid'))\n",
        "    optimizer = optimizers.Adam(lr=params[\"lr_d\"])\n",
        "    discriminator.compile(loss='binary_crossentropy', optimizer=optimizer)\n",
        "    return discriminator\n",
        "\n",
        "def modify(tensors):\n",
        "    return concatenate([tf.slice(tensors[0], [0, 0, feat_to_ind[direction]], [-1, -1, 1]), tensors[1]], axis = 1)\n",
        "\n",
        "def split_IPOP(IPOP):\n",
        "    return tf.slice(IPOP, [0, 0, 0], [-1, TIME_STEPS, -1])\n",
        "\n",
        "def custom_loss(IPOP, x):\n",
        "    true_predictions = tf.slice(IPOP, [0, TIME_STEPS, feat_to_ind[direction]], [-1, -1, 1])\n",
        "    def loss(y_true, y_pred):\n",
        "        return K.mean(binary_crossentropy_custom_tf(y_true, y_pred) + K.sum(K.square(true_predictions - x), axis=1), axis=-1)\n",
        "    return loss\n",
        "\n",
        "def binary_crossentropy_custom_tf(target, output, from_logits=False):\n",
        "    \"\"\"Binary crossentropy between an output tensor and a target tensor.\n",
        "\n",
        "    # Arguments\n",
        "        target: A tensor with the same shape as `output`.\n",
        "        output: A tensor.\n",
        "        from_logits: Whether `output` is expected to be a logits tensor.\n",
        "            By default, we consider that `output`\n",
        "            encodes a probability distribution.\n",
        "\n",
        "    # Returns\n",
        "        A tensor.\n",
        "    \"\"\"\n",
        "    # Note: tf.nn.sigmoid_cross_entropy_with_logits\n",
        "    # expects logits, Keras expects probabilities.\n",
        "    if not from_logits:\n",
        "        # transform back to logits\n",
        "        _epsilon = tfb._to_tensor(tfb.epsilon(), output.dtype.base_dtype)\n",
        "        output = tf.clip_by_value(output, _epsilon, 1 - _epsilon)\n",
        "        output = tf.log(output / (1 - output))\n",
        "\n",
        "    return tf.nn.sigmoid_cross_entropy_with_logits(labels=target,\n",
        "                                                   logits=output)\n",
        "\n",
        "# def custom_loss():\n",
        "#     _EPSILON = K.epsilon()\n",
        "#     def loss(y_true, y_pred):\n",
        "#         y_pred = K.clip(y_pred, _EPSILON, 1-_EPSILON)\n",
        "#         return K.mean(K.max(y_pred, 0) - y_pred * y_true + K.log(1 + K.exp(-K.abs(y_pred))) , axis=-1)\n",
        "#     return loss\n",
        "\n",
        "def create_gan(generator, discriminator):\n",
        "    discriminator.trainable = False\n",
        "    IPOP = Input(shape=(TIME_STEPS + N_OUTPUTS, x_t.shape[2]))\n",
        "    ganInput = Lambda(split_IPOP)(IPOP)\n",
        "    x = generator(ganInput)\n",
        "    mod_x = Lambda(modify)([ganInput, x])\n",
        "    ganOutput = discriminator(mod_x)\n",
        "    gan = Model(inputs=IPOP, outputs=ganOutput)\n",
        "    optimizer = optimizers.Adam(lr=params[\"lr_g\"])\n",
        "    gan.compile(loss = custom_loss(IPOP, x), optimizer=optimizer)\n",
        "    return gan\n",
        "\n",
        "# def create_gan(generator, discriminator):\n",
        "#     discriminator.trainable = False\n",
        "#     ganInput = Input(shape=(TIME_STEPS, x_t.shape[2]))\n",
        "#     x = generator(ganInput)\n",
        "#     mod_x = Lambda(modify)([ganInput, x])\n",
        "#     ganOutput = discriminator(mod_x)\n",
        "#     gan = Model(inputs=ganInput, outputs=ganOutput)\n",
        "#     optimizer = optimizers.Adam(lr=params[\"lr_g\"])\n",
        "#     gan.compile(loss = custom_loss(), optimizer=optimizer)\n",
        "#     return gan"
      ],
      "execution_count": 0,
      "outputs": []
    },
    {
      "cell_type": "code",
      "metadata": {
        "colab_type": "code",
        "id": "ogLeUxBGvKiH",
        "outputId": "72b4f03b-2ccf-43a4-f388-45b31267d370",
        "colab": {
          "base_uri": "https://localhost:8080/",
          "height": 134,
          "referenced_widgets": [
            "16679fdc50bd4f53850e6695fb5e5539",
            "abfce2a0ccb84c84ad6918d92feabc69",
            "6b3a8366fd564f65a60a662be17b2fa7",
            "dff88c87e32d40a186bfac7271b90e5c",
            "cb235223b50847e69d049e0754564f84",
            "7c56b098dc7c4d178f4fcfef0caee697",
            "43fefe65803944b1bc723ae804d47298",
            "e45012074b584c98a4dd92b0df162dc4",
            "e23e67446f064bd1891038bf4689d6ee",
            "caa528db60e34784bf78bd2ab87acd65",
            "e7c473885cbc4094b57c1bb43bcfd850",
            "b91cfd64c4f64d87849374362432ea24",
            "722888a92a33421a8e58d00b49269008",
            "3c6d2a037f2b498eb9b8b48373a5665d",
            "521d8170de0c4c199bc156b9decaffc7",
            "b0daae35f2ac4beaba277b94b1260290"
          ]
        }
      },
      "source": [
        "df_train, df_test = train_test_split(only_norm, train_size=0.8, test_size=0.2, shuffle=False)\n",
        "print(\"Train--Test size\", len(df_train), len(df_test))\n",
        "\n",
        "x_t, y_t, target_prices_t = build_timeseries(df_train)\n",
        "x_t = trim_dataset(x_t, BATCH_SIZE)\n",
        "y_t = trim_dataset(y_t, BATCH_SIZE)\n",
        "target_prices_t = trim_dataset(target_prices_t, BATCH_SIZE)\n",
        "print(\"Batch trimmed size\",x_t.shape, y_t.shape)\n",
        "\n",
        "x_temp, y_temp, target_prices_temp = build_timeseries(df_test)\n",
        "x_val, x_test_t = np.split(trim_dataset(x_temp, BATCH_SIZE),2)\n",
        "y_val, y_test_t = np.split(trim_dataset(y_temp, BATCH_SIZE),2)\n",
        "target_prices_val, target_prices_test_t = np.split(trim_dataset(target_prices_temp, BATCH_SIZE),2)\n",
        "\n",
        "x_val = trim_dataset(x_val, BATCH_SIZE)\n",
        "y_val = trim_dataset(y_val, BATCH_SIZE)\n",
        "target_prices_val = trim_dataset(target_prices_val, BATCH_SIZE)\n",
        "\n",
        "x_test_t = trim_dataset(x_test_t, BATCH_SIZE)\n",
        "y_test_t = trim_dataset(y_test_t, BATCH_SIZE)\n",
        "target_prices_test_t = trim_dataset(target_prices_t, BATCH_SIZE)\n",
        "\n",
        "print(\"Test size\", x_test_t.shape, y_test_t.shape, x_val.shape, y_val.shape)"
      ],
      "execution_count": 32,
      "outputs": [
        {
          "output_type": "stream",
          "text": [
            "Train--Test size 49890 12473\n"
          ],
          "name": "stdout"
        },
        {
          "output_type": "display_data",
          "data": {
            "application/vnd.jupyter.widget-view+json": {
              "model_id": "16679fdc50bd4f53850e6695fb5e5539",
              "version_minor": 0,
              "version_major": 2
            },
            "text/plain": [
              "HBox(children=(IntProgress(value=0, max=49626), HTML(value='')))"
            ]
          },
          "metadata": {
            "tags": []
          }
        },
        {
          "output_type": "stream",
          "text": [
            "Batch trimmed size (49152, 264, 4) (49152, 8)\n"
          ],
          "name": "stdout"
        },
        {
          "output_type": "display_data",
          "data": {
            "application/vnd.jupyter.widget-view+json": {
              "model_id": "e23e67446f064bd1891038bf4689d6ee",
              "version_minor": 0,
              "version_major": 2
            },
            "text/plain": [
              "HBox(children=(IntProgress(value=0, max=12209), HTML(value='')))"
            ]
          },
          "metadata": {
            "tags": []
          }
        },
        {
          "output_type": "stream",
          "text": [
            "Test size (5632, 264, 4) (5632, 8) (5632, 264, 4) (5632, 8)\n"
          ],
          "name": "stdout"
        }
      ]
    },
    {
      "cell_type": "code",
      "metadata": {
        "id": "rt3PbABPBRUX",
        "colab_type": "code",
        "colab": {}
      },
      "source": [
        "discriminator = create_discriminator()\n",
        "generator = create_generator()\n",
        "gan = create_gan(generator, discriminator)"
      ],
      "execution_count": 0,
      "outputs": []
    },
    {
      "cell_type": "code",
      "metadata": {
        "colab_type": "code",
        "id": "qqC_3XDs7HMb",
        "colab": {}
      },
      "source": [
        "def validation_plot():\n",
        "    BATCH_COUNT_VAL = int(x_val.shape[0] / BATCH_SIZE)\n",
        "    x_val_list = np.split(x_val, BATCH_COUNT_VAL)\n",
        "    pred_prices = np.zeros((target_prices_val.shape[0], ))\n",
        "    for b_num in range(BATCH_COUNT_VAL):\n",
        "        pred_seq = generator.predict(x_val_list[b_num][:, :TIME_STEPS, :], batch_size=BATCH_SIZE)\n",
        "        if direction == \"L\":\n",
        "            pred_prices[b_num*BATCH_SIZE : (b_num+1)*BATCH_SIZE] = np.min(pred_seq, axis = 1)[:, 0]\n",
        "        else:\n",
        "            pred_prices[b_num*BATCH_SIZE : (b_num+1)*BATCH_SIZE] = np.max(pred_seq, axis = 1)[:, 0]\n",
        "\n",
        "\n",
        "    print(\"mse : \")\n",
        "    print(mean_squared_error(target_prices_val, pred_prices))\n",
        "\n",
        "    plt.figure(figsize = (18, 5))\n",
        "    plt.plot(pred_prices, label = 'pred_prices')\n",
        "    # plt.show()\n",
        "\n",
        "    # plt.figure(figsize = (18, 5))\n",
        "    plt.plot(target_prices_val, label = 'target_prices')\n",
        "    plt.legend()\n",
        "    plt.show()"
      ],
      "execution_count": 0,
      "outputs": []
    },
    {
      "cell_type": "code",
      "metadata": {
        "id": "SAs0bpm1WwpL",
        "colab_type": "code",
        "colab": {}
      },
      "source": [
        "dLosses = []\n",
        "gLosses = []"
      ],
      "execution_count": 0,
      "outputs": []
    },
    {
      "cell_type": "code",
      "metadata": {
        "id": "hs7lVZSaWG1A",
        "colab_type": "code",
        "colab": {}
      },
      "source": [
        "def plot_loss():\n",
        "    plt.figure(figsize=(18, 5))\n",
        "    plt.plot(dLosses, label='Discriminitive loss')\n",
        "    plt.plot(gLosses, label='Generative loss')\n",
        "    plt.legend()\n",
        "    plt.show()"
      ],
      "execution_count": 0,
      "outputs": []
    },
    {
      "cell_type": "code",
      "metadata": {
        "id": "HC0h86HPqTxX",
        "colab_type": "code",
        "colab": {}
      },
      "source": [
        "def train_():\n",
        "    EPOCHS = params[\"epochs\"]\n",
        "    BATCH_SIZE = params[\"batch_size\"]\n",
        "    BATCH_COUNT = int(x_t.shape[0] / BATCH_SIZE)\n",
        "    for e in (range(1, EPOCHS+1)):\n",
        "        print ('-'*15, 'Epoch %d' % e, '-'*15)\n",
        "        x_t_list = np.split(x_t, BATCH_COUNT)\n",
        "        y_t_list = np.split(y_t, BATCH_COUNT)\n",
        "\n",
        "        for b_num in tqdm_notebook(range(BATCH_COUNT)):\n",
        "\n",
        "            fake_seq = generator.predict(x_t_list[b_num][:, :TIME_STEPS, :], batch_size = BATCH_SIZE) \n",
        "            fake_seq = np.concatenate((x_t_list[b_num][:, :TIME_STEPS, feat_to_ind['L']], fake_seq[:, :, 0]), axis = 1)\n",
        "            fake_seq = fake_seq.reshape(BATCH_SIZE, N_OUTPUTS + TIME_STEPS, 1)\n",
        "\n",
        "            real_seq = y_t_list[b_num]\n",
        "            real_seq = np.concatenate((x_t_list[b_num][:, :TIME_STEPS, feat_to_ind['L']], real_seq), axis = 1)\n",
        "            real_seq = real_seq.reshape(BATCH_SIZE, N_OUTPUTS + TIME_STEPS, 1)\n",
        "\n",
        "            x_stack = np.concatenate([fake_seq, real_seq])\n",
        "            \n",
        "            y_stack = np.zeros(2*BATCH_SIZE)\n",
        "            y_stack[BATCH_SIZE:] = 0.9\n",
        "            y_stack = y_stack.reshape(-1, 1)\n",
        "            \n",
        "            discriminator.trainable = True\n",
        "            dloss = discriminator.train_on_batch(x_stack, y_stack)\n",
        "            \n",
        "            discriminator.trainable = False\n",
        "            gloss = gan.train_on_batch(x_t_list[b_num], np.ones(BATCH_SIZE))\n",
        "\n",
        "        dLosses.append(dloss)\n",
        "        gLosses.append(gloss)\n",
        "\n",
        "            #This line of code checks that generator works well as a standalone\n",
        "            # generator.train_on_batch(x_t_list[b_num], y_t_list[b_num].reshape(BATCH_SIZE, N_OUTPUTS, 1))\n",
        "\n",
        "        if e == 1 or e % 1 == 0:\n",
        "            validation_plot()   \n",
        "            #plot_loss()"
      ],
      "execution_count": 0,
      "outputs": []
    },
    {
      "cell_type": "code",
      "metadata": {
        "id": "OWiTrDFBYxeb",
        "colab_type": "code",
        "outputId": "43a59fd6-b28b-461c-d821-c7ad9359d25d",
        "colab": {
          "base_uri": "https://localhost:8080/",
          "height": 365,
          "referenced_widgets": [
            "8191eb412662403894b89561561316c8",
            "783ff7c44e8d4ce992a1723464db9392",
            "23a22d06181b44d6a190a62cbac916a7",
            "d028a134afef4d8dabdd963f3f9f897b",
            "0e4048d8e9de4eddae39c2e230d9a6fd",
            "048547876e114ea99c3817a9154ea2a2",
            "3bdb945ef0db4e749fbe6e5dd44a09bc",
            "b290bef00c36447b9f654cd5210866c1"
          ]
        }
      },
      "source": [
        "train_()"
      ],
      "execution_count": 105,
      "outputs": [
        {
          "output_type": "stream",
          "text": [
            "--------------- Epoch 1 ---------------\n"
          ],
          "name": "stdout"
        },
        {
          "output_type": "display_data",
          "data": {
            "application/vnd.jupyter.widget-view+json": {
              "model_id": "8191eb412662403894b89561561316c8",
              "version_minor": 0,
              "version_major": 2
            },
            "text/plain": [
              "HBox(children=(IntProgress(value=0, max=96), HTML(value='')))"
            ]
          },
          "metadata": {
            "tags": []
          }
        },
        {
          "output_type": "error",
          "ename": "KeyboardInterrupt",
          "evalue": "ignored",
          "traceback": [
            "\u001b[0;31m---------------------------------------------------------------------------\u001b[0m",
            "\u001b[0;31mKeyboardInterrupt\u001b[0m                         Traceback (most recent call last)",
            "\u001b[0;32m<ipython-input-105-e8af12e8afbe>\u001b[0m in \u001b[0;36m<module>\u001b[0;34m()\u001b[0m\n\u001b[0;32m----> 1\u001b[0;31m \u001b[0mtrain_\u001b[0m\u001b[0;34m(\u001b[0m\u001b[0;34m)\u001b[0m\u001b[0;34m\u001b[0m\u001b[0;34m\u001b[0m\u001b[0m\n\u001b[0m",
            "\u001b[0;32m<ipython-input-99-f1204d0a413f>\u001b[0m in \u001b[0;36mtrain_\u001b[0;34m()\u001b[0m\n\u001b[1;32m     28\u001b[0m \u001b[0;34m\u001b[0m\u001b[0m\n\u001b[1;32m     29\u001b[0m             \u001b[0mdiscriminator\u001b[0m\u001b[0;34m.\u001b[0m\u001b[0mtrainable\u001b[0m \u001b[0;34m=\u001b[0m \u001b[0;32mFalse\u001b[0m\u001b[0;34m\u001b[0m\u001b[0;34m\u001b[0m\u001b[0m\n\u001b[0;32m---> 30\u001b[0;31m             \u001b[0mgloss\u001b[0m \u001b[0;34m=\u001b[0m \u001b[0mgan\u001b[0m\u001b[0;34m.\u001b[0m\u001b[0mtrain_on_batch\u001b[0m\u001b[0;34m(\u001b[0m\u001b[0mx_t_list\u001b[0m\u001b[0;34m[\u001b[0m\u001b[0mb_num\u001b[0m\u001b[0;34m]\u001b[0m\u001b[0;34m,\u001b[0m \u001b[0mnp\u001b[0m\u001b[0;34m.\u001b[0m\u001b[0mones\u001b[0m\u001b[0;34m(\u001b[0m\u001b[0mBATCH_SIZE\u001b[0m\u001b[0;34m)\u001b[0m\u001b[0;34m)\u001b[0m\u001b[0;34m\u001b[0m\u001b[0;34m\u001b[0m\u001b[0m\n\u001b[0m\u001b[1;32m     31\u001b[0m \u001b[0;34m\u001b[0m\u001b[0m\n\u001b[1;32m     32\u001b[0m         \u001b[0mdLosses\u001b[0m\u001b[0;34m.\u001b[0m\u001b[0mappend\u001b[0m\u001b[0;34m(\u001b[0m\u001b[0mdloss\u001b[0m\u001b[0;34m)\u001b[0m\u001b[0;34m\u001b[0m\u001b[0;34m\u001b[0m\u001b[0m\n",
            "\u001b[0;32m/usr/local/lib/python3.6/dist-packages/keras/engine/training.py\u001b[0m in \u001b[0;36mtrain_on_batch\u001b[0;34m(self, x, y, sample_weight, class_weight)\u001b[0m\n\u001b[1;32m   1447\u001b[0m             \u001b[0mins\u001b[0m \u001b[0;34m=\u001b[0m \u001b[0mx\u001b[0m \u001b[0;34m+\u001b[0m \u001b[0my\u001b[0m \u001b[0;34m+\u001b[0m \u001b[0msample_weights\u001b[0m\u001b[0;34m\u001b[0m\u001b[0;34m\u001b[0m\u001b[0m\n\u001b[1;32m   1448\u001b[0m         \u001b[0mself\u001b[0m\u001b[0;34m.\u001b[0m\u001b[0m_make_train_function\u001b[0m\u001b[0;34m(\u001b[0m\u001b[0;34m)\u001b[0m\u001b[0;34m\u001b[0m\u001b[0;34m\u001b[0m\u001b[0m\n\u001b[0;32m-> 1449\u001b[0;31m         \u001b[0moutputs\u001b[0m \u001b[0;34m=\u001b[0m \u001b[0mself\u001b[0m\u001b[0;34m.\u001b[0m\u001b[0mtrain_function\u001b[0m\u001b[0;34m(\u001b[0m\u001b[0mins\u001b[0m\u001b[0;34m)\u001b[0m\u001b[0;34m\u001b[0m\u001b[0;34m\u001b[0m\u001b[0m\n\u001b[0m\u001b[1;32m   1450\u001b[0m         \u001b[0;32mreturn\u001b[0m \u001b[0munpack_singleton\u001b[0m\u001b[0;34m(\u001b[0m\u001b[0moutputs\u001b[0m\u001b[0;34m)\u001b[0m\u001b[0;34m\u001b[0m\u001b[0;34m\u001b[0m\u001b[0m\n\u001b[1;32m   1451\u001b[0m \u001b[0;34m\u001b[0m\u001b[0m\n",
            "\u001b[0;32m/usr/local/lib/python3.6/dist-packages/keras/backend/tensorflow_backend.py\u001b[0m in \u001b[0;36m__call__\u001b[0;34m(self, inputs)\u001b[0m\n\u001b[1;32m   2977\u001b[0m                     \u001b[0;32mreturn\u001b[0m \u001b[0mself\u001b[0m\u001b[0;34m.\u001b[0m\u001b[0m_legacy_call\u001b[0m\u001b[0;34m(\u001b[0m\u001b[0minputs\u001b[0m\u001b[0;34m)\u001b[0m\u001b[0;34m\u001b[0m\u001b[0;34m\u001b[0m\u001b[0m\n\u001b[1;32m   2978\u001b[0m \u001b[0;34m\u001b[0m\u001b[0m\n\u001b[0;32m-> 2979\u001b[0;31m             \u001b[0;32mreturn\u001b[0m \u001b[0mself\u001b[0m\u001b[0;34m.\u001b[0m\u001b[0m_call\u001b[0m\u001b[0;34m(\u001b[0m\u001b[0minputs\u001b[0m\u001b[0;34m)\u001b[0m\u001b[0;34m\u001b[0m\u001b[0;34m\u001b[0m\u001b[0m\n\u001b[0m\u001b[1;32m   2980\u001b[0m         \u001b[0;32melse\u001b[0m\u001b[0;34m:\u001b[0m\u001b[0;34m\u001b[0m\u001b[0;34m\u001b[0m\u001b[0m\n\u001b[1;32m   2981\u001b[0m             \u001b[0;32mif\u001b[0m \u001b[0mpy_any\u001b[0m\u001b[0;34m(\u001b[0m\u001b[0mis_tensor\u001b[0m\u001b[0;34m(\u001b[0m\u001b[0mx\u001b[0m\u001b[0;34m)\u001b[0m \u001b[0;32mfor\u001b[0m \u001b[0mx\u001b[0m \u001b[0;32min\u001b[0m \u001b[0minputs\u001b[0m\u001b[0;34m)\u001b[0m\u001b[0;34m:\u001b[0m\u001b[0;34m\u001b[0m\u001b[0;34m\u001b[0m\u001b[0m\n",
            "\u001b[0;32m/usr/local/lib/python3.6/dist-packages/keras/backend/tensorflow_backend.py\u001b[0m in \u001b[0;36m_call\u001b[0;34m(self, inputs)\u001b[0m\n\u001b[1;32m   2935\u001b[0m             \u001b[0mfetched\u001b[0m \u001b[0;34m=\u001b[0m \u001b[0mself\u001b[0m\u001b[0;34m.\u001b[0m\u001b[0m_callable_fn\u001b[0m\u001b[0;34m(\u001b[0m\u001b[0;34m*\u001b[0m\u001b[0marray_vals\u001b[0m\u001b[0;34m,\u001b[0m \u001b[0mrun_metadata\u001b[0m\u001b[0;34m=\u001b[0m\u001b[0mself\u001b[0m\u001b[0;34m.\u001b[0m\u001b[0mrun_metadata\u001b[0m\u001b[0;34m)\u001b[0m\u001b[0;34m\u001b[0m\u001b[0;34m\u001b[0m\u001b[0m\n\u001b[1;32m   2936\u001b[0m         \u001b[0;32melse\u001b[0m\u001b[0;34m:\u001b[0m\u001b[0;34m\u001b[0m\u001b[0;34m\u001b[0m\u001b[0m\n\u001b[0;32m-> 2937\u001b[0;31m             \u001b[0mfetched\u001b[0m \u001b[0;34m=\u001b[0m \u001b[0mself\u001b[0m\u001b[0;34m.\u001b[0m\u001b[0m_callable_fn\u001b[0m\u001b[0;34m(\u001b[0m\u001b[0;34m*\u001b[0m\u001b[0marray_vals\u001b[0m\u001b[0;34m)\u001b[0m\u001b[0;34m\u001b[0m\u001b[0;34m\u001b[0m\u001b[0m\n\u001b[0m\u001b[1;32m   2938\u001b[0m         \u001b[0;32mreturn\u001b[0m \u001b[0mfetched\u001b[0m\u001b[0;34m[\u001b[0m\u001b[0;34m:\u001b[0m\u001b[0mlen\u001b[0m\u001b[0;34m(\u001b[0m\u001b[0mself\u001b[0m\u001b[0;34m.\u001b[0m\u001b[0moutputs\u001b[0m\u001b[0;34m)\u001b[0m\u001b[0;34m]\u001b[0m\u001b[0;34m\u001b[0m\u001b[0;34m\u001b[0m\u001b[0m\n\u001b[1;32m   2939\u001b[0m \u001b[0;34m\u001b[0m\u001b[0m\n",
            "\u001b[0;32m/usr/local/lib/python3.6/dist-packages/tensorflow_core/python/client/session.py\u001b[0m in \u001b[0;36m__call__\u001b[0;34m(self, *args, **kwargs)\u001b[0m\n\u001b[1;32m   1470\u001b[0m         ret = tf_session.TF_SessionRunCallable(self._session._session,\n\u001b[1;32m   1471\u001b[0m                                                \u001b[0mself\u001b[0m\u001b[0;34m.\u001b[0m\u001b[0m_handle\u001b[0m\u001b[0;34m,\u001b[0m \u001b[0margs\u001b[0m\u001b[0;34m,\u001b[0m\u001b[0;34m\u001b[0m\u001b[0;34m\u001b[0m\u001b[0m\n\u001b[0;32m-> 1472\u001b[0;31m                                                run_metadata_ptr)\n\u001b[0m\u001b[1;32m   1473\u001b[0m         \u001b[0;32mif\u001b[0m \u001b[0mrun_metadata\u001b[0m\u001b[0;34m:\u001b[0m\u001b[0;34m\u001b[0m\u001b[0;34m\u001b[0m\u001b[0m\n\u001b[1;32m   1474\u001b[0m           \u001b[0mproto_data\u001b[0m \u001b[0;34m=\u001b[0m \u001b[0mtf_session\u001b[0m\u001b[0;34m.\u001b[0m\u001b[0mTF_GetBuffer\u001b[0m\u001b[0;34m(\u001b[0m\u001b[0mrun_metadata_ptr\u001b[0m\u001b[0;34m)\u001b[0m\u001b[0;34m\u001b[0m\u001b[0;34m\u001b[0m\u001b[0m\n",
            "\u001b[0;31mKeyboardInterrupt\u001b[0m: "
          ]
        }
      ]
    },
    {
      "cell_type": "code",
      "metadata": {
        "id": "qg2N784rsw4B",
        "colab_type": "code",
        "colab": {}
      },
      "source": [
        " def test_plot():\n",
        "    BATCH_COUNT_TES = int(x_test_t.shape[0] / BATCH_SIZE)\n",
        "    x_test_list = np.split(x_test_t, BATCH_COUNT_TES)\n",
        "    pred_prices = np.zeros((target_prices_test_t.shape[0], ))\n",
        "    for b_num in range(BATCH_COUNT_TES):\n",
        "        pred_seq = generator.predict(x_test_list[b_num], batch_size=BATCH_SIZE)\n",
        "        if direction == \"L\":\n",
        "            pred_prices[b_num*BATCH_SIZE : (b_num+1)*BATCH_SIZE] = np.min(pred_seq, axis = 1)[:, 0]\n",
        "        else:\n",
        "            pred_prices[b_num*BATCH_SIZE : (b_num+1)*BATCH_SIZE] = np.max(pred_seq, axis = 1)[:, 0]\n",
        "\n",
        "\n",
        "    print(\"mse : \")\n",
        "    print(mean_squared_error(target_prices_test_t, pred_prices))\n",
        "\n",
        "    plt.figure(figsize = (18, 5))\n",
        "    plt.plot(pred_prices, label = 'pred_prices')\n",
        "    plt.show()\n",
        "\n",
        "    plt.figure(figsize = (18, 5))\n",
        "    plt.plot(target_prices_test_t, label = 'target_prices')\n",
        "    plt.show()"
      ],
      "execution_count": 0,
      "outputs": []
    },
    {
      "cell_type": "code",
      "metadata": {
        "id": "AX46nhEljS3f",
        "colab_type": "code",
        "outputId": "25f5989e-2324-4866-d95d-d56c9b089391",
        "colab": {
          "base_uri": "https://localhost:8080/",
          "height": 658
        }
      },
      "source": [
        "test_plot()"
      ],
      "execution_count": 19,
      "outputs": [
        {
          "output_type": "stream",
          "text": [
            "mse : \n",
            "0.19913432480093604\n"
          ],
          "name": "stdout"
        },
        {
          "output_type": "display_data",
          "data": {
            "image/png": "[encoded data removed]",
            "text/plain": [
              "<Figure size 1296x360 with 1 Axes>"
            ]
          },
          "metadata": {
            "tags": []
          }
        },
        {
          "output_type": "display_data",
          "data": {
            "image/png": "[encoded data removed]",
            "text/plain": [
              "<Figure size 1296x360 with 1 Axes>"
            ]
          },
          "metadata": {
            "tags": []
          }
        }
      ]
    },
    {
      "cell_type": "code",
      "metadata": {
        "id": "DVDzMmA5iUhZ",
        "colab_type": "code",
        "colab": {
          "base_uri": "https://localhost:8080/",
          "height": 355
        },
        "outputId": "7c86d046-8686-4b77-f3b3-94fa5c429ffa"
      },
      "source": [
        "validation_plot()"
      ],
      "execution_count": 102,
      "outputs": [
        {
          "output_type": "stream",
          "text": [
            "mse : \n",
            "0.07350690429596671\n"
          ],
          "name": "stdout"
        },
        {
          "output_type": "display_data",
          "data": {
            "image/png": "[encoded data removed]",
            "text/plain": [
              "<Figure size 1296x360 with 1 Axes>"
            ]
          },
          "metadata": {
            "tags": []
          }
        }
      ]
    },
    {
      "cell_type": "code",
      "metadata": {
        "id": "0lAThF3AXL_j",
        "colab_type": "code",
        "colab": {}
      },
      "source": [
        ""
      ],
      "execution_count": 0,
      "outputs": []
    }
  ]
}