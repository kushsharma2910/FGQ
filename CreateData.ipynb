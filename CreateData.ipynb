{
  "nbformat": 4,
  "nbformat_minor": 0,
  "metadata": {
    "kernelspec": {
      "name": "python3",
      "display_name": "Python 3"
    },
    "language_info": {
      "codemirror_mode": {
        "name": "ipython",
        "version": 3
      },
      "file_extension": ".py",
      "mimetype": "text/x-python",
      "name": "python",
      "nbconvert_exporter": "python",
      "pygments_lexer": "ipython3",
      "version": "3.6.9"
    },
    "colab": {
      "name": "CreateData.ipynb",
      "provenance": [],
      "include_colab_link": true
    },
    "accelerator": "GPU"
  },
  "cells": [
    {
      "cell_type": "markdown",
      "metadata": {
        "id": "view-in-github",
        "colab_type": "text"
      },
      "source": [
        "<a href=\"https://colab.research.google.com/github/kushsharma2910/FGQ/blob/master/CreateData.ipynb\" target=\"_parent\"><img src=\"https://colab.research.google.com/assets/colab-badge.svg\" alt=\"Open In Colab\"/></a>"
      ]
    },
    {
      "cell_type": "code",
      "metadata": {
        "id": "7LQcD6_vWZCK",
        "colab_type": "code",
        "colab": {
          "base_uri": "https://localhost:8080/",
          "height": 125
        },
        "outputId": "b7a036de-f2ed-4e6f-c444-e266182fdedd"
      },
      "source": [
        "from google.colab import drive\n",
        "drive.mount('/content/drive')"
      ],
      "execution_count": 1,
      "outputs": [
        {
          "output_type": "stream",
          "text": [
            "Go to this URL in a browser: https://accounts.google.com/o/oauth2/auth?client_id=947318989803-6bn6qk8qdgf4n4g3pfee6491hc0brc4i.apps.googleusercontent.com&redirect_uri=urn%3aietf%3awg%3aoauth%3a2.0%3aoob&response_type=code&scope=email%20https%3a%2f%2fwww.googleapis.com%2fauth%2fdocs.test%20https%3a%2f%2fwww.googleapis.com%2fauth%2fdrive%20https%3a%2f%2fwww.googleapis.com%2fauth%2fdrive.photos.readonly%20https%3a%2f%2fwww.googleapis.com%2fauth%2fpeopleapi.readonly\n",
            "\n",
            "Enter your authorization code:\n",
            "··········\n",
            "Mounted at /content/drive\n"
          ],
          "name": "stdout"
        }
      ]
    },
    {
      "cell_type": "code",
      "metadata": {
        "id": "_mdI_N_4Esxy",
        "colab_type": "code",
        "colab": {}
      },
      "source": [
        "import os\n",
        "import pandas as pd\n",
        "import numpy as np"
      ],
      "execution_count": 0,
      "outputs": []
    },
    {
      "cell_type": "code",
      "metadata": {
        "id": "kJ9UD0YPEsx7",
        "colab_type": "code",
        "colab": {}
      },
      "source": [
        "def get_ask_name(extract_name):\n",
        "    extract_name[2] = \"Ask\"\n",
        "    s = \"_\"\n",
        "    s = s.join(extract_name)\n",
        "    return s\n",
        "\n",
        "def change_index_to_time(df):\n",
        "    df['Time (UTC)'] = pd.to_datetime(df['Time (UTC)'])\n",
        "    df.set_index('Time (UTC)', inplace = True, drop = True)\n",
        "\n",
        "def merge_bid_ask(bid, ask):  \n",
        "    change_index_to_time(bid)\n",
        "    change_index_to_time(ask)\n",
        "    result = pd.merge(bid, ask, how = 'inner', right_index = True, left_index = True, suffixes=('', '_spread'))\n",
        "    \n",
        "    for col in bid.columns:\n",
        "        result[col + \"_spread\"] = result[col + \"_spread\"] - result[col] \n",
        "\n",
        "    return result\n",
        "\n",
        "def add_label(bid_ask):\n",
        "    #4h = 8, 12h = 24, 24h = 48 entries\n",
        "    windows = [8, 24, 48]\n",
        "    \n",
        "    for window in windows :\n",
        "        High_series = bid_ask[\"High\"]\n",
        "        Low_series = bid_ask[\"Low\"]\n",
        "                \n",
        "        bid_ask[\"H-\" + str(int(window/2)) + \"hr\"] = High_series[::-1].rolling(window = window, min_periods=0).max()[::-1]\n",
        "        bid_ask[\"L-\" + str(int(window/2)) + \"hr\"] = Low_series[::-1].rolling(window = window, min_periods=0).min()[::-1]\n",
        "                \n",
        "def add_fft(bid_ask):\n",
        "    features = [\"High\", \"Low\", \"Open\", \"Close\"]\n",
        "    components = [8, 32, 256]\n",
        "    \n",
        "    for feature in features:\n",
        "        close_fft = np.fft.fft(np.array(bid_ask[feature]))\n",
        "        fft_list = np.array(pd.DataFrame({'fft':close_fft}))\n",
        "        for component in components:\n",
        "            fft_list_m10 = np.copy(fft_list)\n",
        "            fft_list_m10[component:-component] = 0\n",
        "            bid_ask[feature + \"_fft_\" + str(component)] = np.fft.ifft(fft_list_m10)\n",
        "\n",
        "def create_data(dir_name, save_to_dir):\n",
        "    for asset_class in os.listdir(dir_name):\n",
        "        for asset in os.listdir(dir_name +  \"/\" + asset_class):    \n",
        "            extract_name = asset.split(\"_\")\n",
        "\n",
        "            #To make the code reproducible ignore\n",
        "            #those not present in original data\n",
        "            if len(extract_name) < 2:\n",
        "                continue\n",
        "\n",
        "            if extract_name[2] == \"Bid\":\n",
        "                bid = pd.read_csv(dir_name + \"/\" + asset_class + \"/\" + asset)\n",
        "                ask = pd.read_csv(dir_name + \"/\" + asset_class + \"/\" + get_ask_name(extract_name))\n",
        "                bid_ask = merge_bid_ask(bid, ask)\n",
        "                add_label(bid_ask)\n",
        "                bid_ask.to_csv(save_to_dir + \"/\" + asset_class + \"/\" + extract_name[0] + \".csv\")"
      ],
      "execution_count": 0,
      "outputs": []
    },
    {
      "cell_type": "code",
      "metadata": {
        "id": "qwdIvhwgWyhz",
        "colab_type": "code",
        "colab": {}
      },
      "source": [
        "!unzip \"drive/My Drive/FGQ/Data.zip\""
      ],
      "execution_count": 0,
      "outputs": []
    },
    {
      "cell_type": "code",
      "metadata": {
        "id": "32Ie-nvxEsyB",
        "colab_type": "code",
        "colab": {}
      },
      "source": [
        "dir_name = \"Data\"\n",
        "os.mkdir(\"drive/My Drive/FGQ/Assets\")\n",
        "save_to_dir = \"drive/My Drive/FGQ/Assets\"\n",
        "for asset_class in os.listdir(dir_name):\n",
        "    if not os.path.exists(save_to_dir + asset_class):\n",
        "        os.mkdir(save_to_dir + \"/\" + asset_class)"
      ],
      "execution_count": 0,
      "outputs": []
    },
    {
      "cell_type": "code",
      "metadata": {
        "id": "GcqcHaUggOi4",
        "colab_type": "code",
        "colab": {}
      },
      "source": [
        "create_data(dir_name, save_to_dir)"
      ],
      "execution_count": 0,
      "outputs": []
    },
    {
      "cell_type": "code",
      "metadata": {
        "id": "ANOYMDrQhMA-",
        "colab_type": "code",
        "colab": {}
      },
      "source": [
        ""
      ],
      "execution_count": 0,
      "outputs": []
    }
  ]
}