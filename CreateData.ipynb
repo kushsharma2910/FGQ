{
 "cells": [
  {
   "cell_type": "code",
   "execution_count": 1,
   "metadata": {},
   "outputs": [],
   "source": [
    "import os\n",
    "import pandas as pd\n",
    "import numpy as np"
   ]
  },
  {
   "cell_type": "code",
   "execution_count": 8,
   "metadata": {},
   "outputs": [],
   "source": [
    "def get_ask_name(extract_name):\n",
    "    extract_name[2] = \"Ask\"\n",
    "    s = \"_\"\n",
    "    s = s.join(extract_name)\n",
    "    return s\n",
    "\n",
    "def change_index_to_time(df):\n",
    "    df['Time (UTC)'] = pd.to_datetime(df['Time (UTC)'])\n",
    "    df.set_index('Time (UTC)', inplace = True, drop = True)\n",
    "\n",
    "def merge_bid_ask(bid, ask):  \n",
    "    change_index_to_time(bid)\n",
    "    change_index_to_time(ask)\n",
    "    result = pd.merge(bid, ask, how = 'inner', right_index = True, left_index = True, suffixes=('', '_spread'))\n",
    "    \n",
    "    for col in bid.columns:\n",
    "        result[col + \"_spread\"] = result[col + \"_spread\"] - result[col] \n",
    "\n",
    "    return result\n",
    "\n",
    "def add_label(bid_ask):\n",
    "    #4h = 8, 12h = 24, 24h = 48 entries\n",
    "    windows = [8, 24, 48]\n",
    "    \n",
    "    for window in windows :\n",
    "        High_series = bid_ask[\"High\"]\n",
    "        Low_series = bid_ask[\"Low\"]\n",
    "                \n",
    "        bid_ask[\"H-\" + str(int(window/2)) + \"hr\"] = High_series[::-1].rolling(window = window, min_periods=0).max()[::-1]\n",
    "        bid_ask[\"L-\" + str(int(window/2)) + \"hr\"] = Low_series[::-1].rolling(window = window, min_periods=0).min()[::-1]\n",
    "                \n",
    "def add_fft(bid_ask):\n",
    "    features = [\"High\", \"Low\", \"Open\", \"Close\"]\n",
    "    components = [32, 128, 512]\n",
    "    \n",
    "    for feature in features:\n",
    "        close_fft = np.fft.fft(np.array(bid_ask[feature]))\n",
    "        fft_list = np.array(pd.DataFrame({'fft':close_fft}))\n",
    "        for component in components:\n",
    "            fft_list_m10 = np.copy(fft_list)\n",
    "            fft_list_m10[component:-component] = 0\n",
    "            bid_ask[feature + \"_fft_\" + str(component)] = np.fft.ifft(fft_list_m10)\n",
    "\n",
    "def create_data(dir_name):\n",
    "    for asset_class in os.listdir(dir_name):\n",
    "        for asset in os.listdir(dir_name +  \"/\" + asset_class):    \n",
    "            extract_name = asset.split(\"_\")\n",
    "            if extract_name[2] == \"Bid\":\n",
    "                bid = pd.read_csv(dir_name + \"/\" + asset_class + \"/\" + asset)\n",
    "                ask = pd.read_csv(dir_name + \"/\" + asset_class + \"/\" + get_ask_name(extract_name))\n",
    "                bid_ask = merge_bid_ask(bid, ask)\n",
    "                add_fft(bid_ask)\n",
    "                add_label(bid_ask)\n",
    "                bid_ask.to_csv(dir_name + \"/\" + asset_class + \"/\" + extract_name[0] + \".csv\")\n",
    "                os.remove(dir_name + \"/\" + asset_class + \"/\" + asset)\n",
    "                os.remove(dir_name + \"/\" + asset_class + \"/\" + get_ask_name(extract_name)) "
   ]
  },
  {
   "cell_type": "code",
   "execution_count": 9,
   "metadata": {},
   "outputs": [],
   "source": [
    "dir_name = \"Data\"\n",
    "create_data(dir_name)"
   ]
  },
  {
   "cell_type": "code",
   "execution_count": null,
   "metadata": {},
   "outputs": [],
   "source": []
  }
 ],
 "metadata": {
  "kernelspec": {
   "display_name": "Python 3",
   "language": "python",
   "name": "python3"
  },
  "language_info": {
   "codemirror_mode": {
    "name": "ipython",
    "version": 3
   },
   "file_extension": ".py",
   "mimetype": "text/x-python",
   "name": "python",
   "nbconvert_exporter": "python",
   "pygments_lexer": "ipython3",
   "version": "3.6.9"
  }
 },
 "nbformat": 4,
 "nbformat_minor": 2
}
