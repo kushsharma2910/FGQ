{
 "cells": [
  {
   "cell_type": "code",
   "execution_count": 1,
   "metadata": {},
   "outputs": [],
   "source": [
    "import os\n",
    "import pandas as pd\n",
    "import numpy as np\n",
    "import matplotlib.pyplot as plt"
   ]
  },
  {
   "cell_type": "code",
   "execution_count": 47,
   "metadata": {},
   "outputs": [],
   "source": [
    "#######################################################################################\n",
    "################################# CREATING LARGEDF  ###################################\n",
    "#######################################################################################\n",
    "\n",
    "def change_index_to_time(df):\n",
    "    df['Time (UTC)'] = pd.to_datetime(df['Time (UTC)'])\n",
    "    df.set_index('Time (UTC)', inplace = True, drop = True)\n",
    "\n",
    "\n",
    "#Finds the dataframe with largest number of time stamps and returns an empty dataframe with same index\n",
    "def create_empty_df(dir_name):\n",
    "    largest_timeframe = 0\n",
    "    path_to_largest = \"\"\n",
    "\n",
    "    for asset_class in os.listdir(dir_name):\n",
    "        for asset in os.listdir(dir_name +  \"/\" + asset_class):    \n",
    "            df = pd.read_csv(dir_name +  \"/\" + asset_class + \"/\" + asset)\n",
    "            if df.shape[0] > largest_timeframe:\n",
    "                largest_timeframe = df.shape[0]\n",
    "                path_to_largest = dir_name +  \"/\" + asset_class + \"/\" + asset\n",
    "\n",
    "    largest_dataframe = pd.read_csv(path_to_largest)\n",
    "    change_index_to_time(largest_dataframe)\n",
    "    largest_dataframe = pd.DataFrame(index = largest_dataframe.index)\n",
    "    return largest_dataframe\n",
    "\n",
    "#######################################################################################\n",
    "################################# FEATURE BUILDING  ###################################\n",
    "#######################################################################################\n",
    "\n",
    "def trim_fft(df):\n",
    "    all_fft = []\n",
    "    for column in df.columns:\n",
    "        if \"fft\" in column:\n",
    "            all_fft.append(column)\n",
    "    df = df.drop(columns = all_fft)\n",
    "    return df\n",
    "\n",
    "def fill_large_df(dir_name, large_df):\n",
    "    asset67 = []\n",
    "    for asset_class in os.listdir(dir_name):\n",
    "        for asset in os.listdir(dir_name +  \"/\" + asset_class): \n",
    "            extract_name = asset.split(\"_\")\n",
    "            asset67.append(extract_name[0][:-4])\n",
    "            df = pd.read_csv(dir_name +  \"/\" + asset_class + \"/\" + asset)\n",
    "            change_index_to_time(df)\n",
    "            df = trim_fft(df)\n",
    "            large_df = large_df.join(df)\n",
    "            rename_dic = {}\n",
    "            for column in df.columns:    \n",
    "                rename_dic[column] = column + \"@\" + extract_name[0][:-4]\n",
    "            large_df = large_df.rename(columns = rename_dic) \n",
    "            \n",
    "    return large_df, asset67\n",
    "\n",
    "def extract_only_features(large_df, target_asset, target_window, asset67):\n",
    "    df = large_df\n",
    "    df[\"H-\" + str(target_window) + \"hr\" ] = df.pop(\"H-\" + str(target_window) + \"hr@\" + target_asset)\n",
    "    df[\"L-\" + str(target_window) + \"hr\" ] = df.pop(\"L-\" + str(target_window) + \"hr@\" + target_asset)\n",
    "    \n",
    "    for asset in asset67:\n",
    "        if asset != target_asset:\n",
    "            df = df.drop(columns = [\"H-4hr@\" + asset, \"L-4hr@\" + asset, \"H-12hr@\" + asset,\n",
    "                               \"L-12hr@\" + asset, \"H-24hr@\" + asset,\"L-24hr@\" + asset])\n",
    "    return df\n",
    "\n",
    "\n",
    "#######################################################################################\n",
    "################################# MODEL BUILDING  #####################################\n",
    "#######################################################################################\n",
    "\n",
    "\n",
    "#predicting the H as previous value\n",
    "def create_baseline(only_feat_df, direction, target_window):     \n",
    "    preds = np.array(pd.Series(only_feat_df[direction + \"-\" + str(target_window) + \"hr\"]).shift(1).bfill(axis = 0))\n",
    "    actual = np.array(only_feat_df[direction + \"-\" + str(target_window) + \"hr\"])\n",
    "    return preds, actual\n",
    "\n",
    "def model:\n",
    "    pass\n",
    "\n",
    "#######################################################################################\n",
    "############################# ACCURACY CALCULATIONS  ##################################\n",
    "#######################################################################################\n",
    "\n",
    "def acc_abs(preds, actual, tolerance):\n",
    "    tolerance /= 100\n",
    "    return np.sum(np.abs(preds/actual-1) <= tolerance)\n",
    "\n",
    "def acc_dir(preds, actual, tolerance, direction):\n",
    "    tolerance /= 100\n",
    "    score = 0\n",
    "    for ix in range(records):\n",
    "        if actual[ix] > preds[ix]*(1+tolerance)  and direction == \"H\":\n",
    "            score += 1\n",
    "        elif actual[ix] < preds[ix]*(1-tolerance)  and direction == \"L\":\n",
    "             score += 1\n",
    "    return score\n",
    "\n",
    "def min_pips(preds, actual, opens, tolerance, pips, direction):\n",
    "    pips /= 100\n",
    "    tolerance /= 100\n",
    "    score = 0\n",
    "    for ix in range(records):\n",
    "        if preds[ix] < actual[ix]*(1+tolerance)  and (direction == \"H\" and (actual[ix] - opens[ix])>=pips):\n",
    "            score += 1 \n",
    "        elif preds[ix] > actual[ix]*(1+tolerance)  and (direction == \"L\" and (opens[ix] - actual[ix])>=pips):\n",
    "             score += 1\n",
    "    return score"
   ]
  },
  {
   "cell_type": "code",
   "execution_count": 3,
   "metadata": {},
   "outputs": [],
   "source": [
    "#name of the root directory which contains asset classes which further contain asset csv ask and bid pairs\n",
    "dir_name = \"Data\"\n",
    "large_df = create_empty_df(dir_name)"
   ]
  },
  {
   "cell_type": "code",
   "execution_count": 4,
   "metadata": {},
   "outputs": [],
   "source": [
    "#asset67 contains the 67 selected assets which have data for more than 6 years\n",
    "large_df_, asset67 = fill_large_df(dir_name, large_df)"
   ]
  },
  {
   "cell_type": "code",
   "execution_count": 5,
   "metadata": {},
   "outputs": [],
   "source": [
    "#Filling in previous values for values in middle\n",
    "large_df_ = large_df_.ffill(axis=0)\n",
    "\n",
    "#Filling in next value for initial nan values\n",
    "#This is used for assets which do not have initial data\n",
    "large_df_ = large_df_.bfill(axis=0)"
   ]
  },
  {
   "cell_type": "code",
   "execution_count": 94,
   "metadata": {},
   "outputs": [],
   "source": [
    "#input variables\n",
    "target_asset = \"XAGUSD\"\n",
    "target_window = 12\n",
    "direction = \"L\"\n",
    "\n",
    "only_feat_df = extract_only_features(large_df_, target_asset, target_window, asset67)\n",
    "preds, actual = create_baseline(only_feat_df, direction, target_window)"
   ]
  },
  {
   "cell_type": "code",
   "execution_count": 96,
   "metadata": {},
   "outputs": [
    {
     "name": "stdout",
     "output_type": "stream",
     "text": [
      "105908\n",
      "7871\n",
      "999\n"
     ]
    }
   ],
   "source": [
    "#in the xlsx file, first row and columns have been removed for efficient reading\n",
    "pip_xl = pd.read_excel(\"Labels to Forecast.xlsx\")\n",
    "\n",
    "#give tolerance in percent\n",
    "tolerance = 0.04\n",
    "\n",
    "#querying pips\n",
    "pips = pip_xl[pip_xl[\"Label\"] == target_asset][str(target_window) + \" Hour\"].values[0]\n",
    "\n",
    "#calculate accuracies\n",
    "print(acc_abs(preds, actual, tolerance))\n",
    "print(acc_dir(preds, actual, tolerance, direction))\n",
    "print(min_pips(preds, actual, only_feat_df[\"Open@\" + target_asset], tolerance, pips, direction))"
   ]
  },
  {
   "cell_type": "code",
   "execution_count": null,
   "metadata": {},
   "outputs": [],
   "source": []
  }
 ],
 "metadata": {
  "kernelspec": {
   "display_name": "Python 3",
   "language": "python",
   "name": "python3"
  },
  "language_info": {
   "codemirror_mode": {
    "name": "ipython",
    "version": 3
   },
   "file_extension": ".py",
   "mimetype": "text/x-python",
   "name": "python",
   "nbconvert_exporter": "python",
   "pygments_lexer": "ipython3",
   "version": "3.6.9"
  }
 },
 "nbformat": 4,
 "nbformat_minor": 2
}
