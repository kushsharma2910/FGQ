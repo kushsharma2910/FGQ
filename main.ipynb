{
  "nbformat": 4,
  "nbformat_minor": 0,
  "metadata": {
    "accelerator": "GPU",
    "colab": {
      "name": "main.ipynb",
      "provenance": [],
      "machine_shape": "hm",
      "include_colab_link": true
    },
    "kernelspec": {
      "display_name": "Python 3",
      "language": "python",
      "name": "python3"
    },
    "language_info": {
      "codemirror_mode": {
        "name": "ipython",
        "version": 3
      },
      "file_extension": ".py",
      "mimetype": "text/x-python",
      "name": "python",
      "nbconvert_exporter": "python",
      "pygments_lexer": "ipython3",
      "version": "3.6.9"
    },
    "widgets": {
      "application/vnd.jupyter.widget-state+json": {
        "47c6e8b7a05746838d05b67a9b5eb0a4": {
          "model_module": "@jupyter-widgets/controls",
          "model_name": "HBoxModel",
          "state": {
            "_view_name": "HBoxView",
            "_dom_classes": [],
            "_model_name": "HBoxModel",
            "_view_module": "@jupyter-widgets/controls",
            "_model_module_version": "1.5.0",
            "_view_count": null,
            "_view_module_version": "1.5.0",
            "box_style": "",
            "layout": "IPY_MODEL_67427e33dea648f587ec7249085befcd",
            "_model_module": "@jupyter-widgets/controls",
            "children": [
              "IPY_MODEL_8302ebd64fd44e1dbc7a32891ea08f44",
              "IPY_MODEL_a6e096e1b9d642eb86826ecca4bd2412"
            ]
          }
        },
        "67427e33dea648f587ec7249085befcd": {
          "model_module": "@jupyter-widgets/base",
          "model_name": "LayoutModel",
          "state": {
            "_view_name": "LayoutView",
            "grid_template_rows": null,
            "right": null,
            "justify_content": null,
            "_view_module": "@jupyter-widgets/base",
            "overflow": null,
            "_model_module_version": "1.2.0",
            "_view_count": null,
            "flex_flow": null,
            "width": null,
            "min_width": null,
            "border": null,
            "align_items": null,
            "bottom": null,
            "_model_module": "@jupyter-widgets/base",
            "top": null,
            "grid_column": null,
            "overflow_y": null,
            "overflow_x": null,
            "grid_auto_flow": null,
            "grid_area": null,
            "grid_template_columns": null,
            "flex": null,
            "_model_name": "LayoutModel",
            "justify_items": null,
            "grid_row": null,
            "max_height": null,
            "align_content": null,
            "visibility": null,
            "align_self": null,
            "height": null,
            "min_height": null,
            "padding": null,
            "grid_auto_rows": null,
            "grid_gap": null,
            "max_width": null,
            "order": null,
            "_view_module_version": "1.2.0",
            "grid_template_areas": null,
            "object_position": null,
            "object_fit": null,
            "grid_auto_columns": null,
            "margin": null,
            "display": null,
            "left": null
          }
        },
        "8302ebd64fd44e1dbc7a32891ea08f44": {
          "model_module": "@jupyter-widgets/controls",
          "model_name": "IntProgressModel",
          "state": {
            "_view_name": "ProgressView",
            "style": "IPY_MODEL_89b815c9df1549618cc5f789866c02e2",
            "_dom_classes": [],
            "description": "",
            "_model_name": "IntProgressModel",
            "bar_style": "success",
            "max": 49634,
            "_view_module": "@jupyter-widgets/controls",
            "_model_module_version": "1.5.0",
            "value": 49634,
            "_view_count": null,
            "_view_module_version": "1.5.0",
            "orientation": "horizontal",
            "min": 0,
            "description_tooltip": null,
            "_model_module": "@jupyter-widgets/controls",
            "layout": "IPY_MODEL_8a74b1a21f5b4654884286335ae0a336"
          }
        },
        "a6e096e1b9d642eb86826ecca4bd2412": {
          "model_module": "@jupyter-widgets/controls",
          "model_name": "HTMLModel",
          "state": {
            "_view_name": "HTMLView",
            "style": "IPY_MODEL_66545799ef6647f78e32e310754cef72",
            "_dom_classes": [],
            "description": "",
            "_model_name": "HTMLModel",
            "placeholder": "​",
            "_view_module": "@jupyter-widgets/controls",
            "_model_module_version": "1.5.0",
            "value": "100% 49634/49634 [00:27&lt;00:00, 1836.55it/s]",
            "_view_count": null,
            "_view_module_version": "1.5.0",
            "description_tooltip": null,
            "_model_module": "@jupyter-widgets/controls",
            "layout": "IPY_MODEL_a51d8e6ac17a4d79b2e4adee7ce0c290"
          }
        },
        "89b815c9df1549618cc5f789866c02e2": {
          "model_module": "@jupyter-widgets/controls",
          "model_name": "ProgressStyleModel",
          "state": {
            "_view_name": "StyleView",
            "_model_name": "ProgressStyleModel",
            "description_width": "",
            "_view_module": "@jupyter-widgets/base",
            "_model_module_version": "1.5.0",
            "_view_count": null,
            "_view_module_version": "1.2.0",
            "bar_color": null,
            "_model_module": "@jupyter-widgets/controls"
          }
        },
        "8a74b1a21f5b4654884286335ae0a336": {
          "model_module": "@jupyter-widgets/base",
          "model_name": "LayoutModel",
          "state": {
            "_view_name": "LayoutView",
            "grid_template_rows": null,
            "right": null,
            "justify_content": null,
            "_view_module": "@jupyter-widgets/base",
            "overflow": null,
            "_model_module_version": "1.2.0",
            "_view_count": null,
            "flex_flow": null,
            "width": null,
            "min_width": null,
            "border": null,
            "align_items": null,
            "bottom": null,
            "_model_module": "@jupyter-widgets/base",
            "top": null,
            "grid_column": null,
            "overflow_y": null,
            "overflow_x": null,
            "grid_auto_flow": null,
            "grid_area": null,
            "grid_template_columns": null,
            "flex": null,
            "_model_name": "LayoutModel",
            "justify_items": null,
            "grid_row": null,
            "max_height": null,
            "align_content": null,
            "visibility": null,
            "align_self": null,
            "height": null,
            "min_height": null,
            "padding": null,
            "grid_auto_rows": null,
            "grid_gap": null,
            "max_width": null,
            "order": null,
            "_view_module_version": "1.2.0",
            "grid_template_areas": null,
            "object_position": null,
            "object_fit": null,
            "grid_auto_columns": null,
            "margin": null,
            "display": null,
            "left": null
          }
        },
        "66545799ef6647f78e32e310754cef72": {
          "model_module": "@jupyter-widgets/controls",
          "model_name": "DescriptionStyleModel",
          "state": {
            "_view_name": "StyleView",
            "_model_name": "DescriptionStyleModel",
            "description_width": "",
            "_view_module": "@jupyter-widgets/base",
            "_model_module_version": "1.5.0",
            "_view_count": null,
            "_view_module_version": "1.2.0",
            "_model_module": "@jupyter-widgets/controls"
          }
        },
        "a51d8e6ac17a4d79b2e4adee7ce0c290": {
          "model_module": "@jupyter-widgets/base",
          "model_name": "LayoutModel",
          "state": {
            "_view_name": "LayoutView",
            "grid_template_rows": null,
            "right": null,
            "justify_content": null,
            "_view_module": "@jupyter-widgets/base",
            "overflow": null,
            "_model_module_version": "1.2.0",
            "_view_count": null,
            "flex_flow": null,
            "width": null,
            "min_width": null,
            "border": null,
            "align_items": null,
            "bottom": null,
            "_model_module": "@jupyter-widgets/base",
            "top": null,
            "grid_column": null,
            "overflow_y": null,
            "overflow_x": null,
            "grid_auto_flow": null,
            "grid_area": null,
            "grid_template_columns": null,
            "flex": null,
            "_model_name": "LayoutModel",
            "justify_items": null,
            "grid_row": null,
            "max_height": null,
            "align_content": null,
            "visibility": null,
            "align_self": null,
            "height": null,
            "min_height": null,
            "padding": null,
            "grid_auto_rows": null,
            "grid_gap": null,
            "max_width": null,
            "order": null,
            "_view_module_version": "1.2.0",
            "grid_template_areas": null,
            "object_position": null,
            "object_fit": null,
            "grid_auto_columns": null,
            "margin": null,
            "display": null,
            "left": null
          }
        },
        "a76b4d231ba84a5ab8a480e84ceec351": {
          "model_module": "@jupyter-widgets/controls",
          "model_name": "HBoxModel",
          "state": {
            "_view_name": "HBoxView",
            "_dom_classes": [],
            "_model_name": "HBoxModel",
            "_view_module": "@jupyter-widgets/controls",
            "_model_module_version": "1.5.0",
            "_view_count": null,
            "_view_module_version": "1.5.0",
            "box_style": "",
            "layout": "IPY_MODEL_5805d1c4254347f98a30d5baad08d1d7",
            "_model_module": "@jupyter-widgets/controls",
            "children": [
              "IPY_MODEL_dd424fc549cd45d3a7c017f1f72a59b6",
              "IPY_MODEL_63052c8c3873489d9ae293a86f284e8b"
            ]
          }
        },
        "5805d1c4254347f98a30d5baad08d1d7": {
          "model_module": "@jupyter-widgets/base",
          "model_name": "LayoutModel",
          "state": {
            "_view_name": "LayoutView",
            "grid_template_rows": null,
            "right": null,
            "justify_content": null,
            "_view_module": "@jupyter-widgets/base",
            "overflow": null,
            "_model_module_version": "1.2.0",
            "_view_count": null,
            "flex_flow": null,
            "width": null,
            "min_width": null,
            "border": null,
            "align_items": null,
            "bottom": null,
            "_model_module": "@jupyter-widgets/base",
            "top": null,
            "grid_column": null,
            "overflow_y": null,
            "overflow_x": null,
            "grid_auto_flow": null,
            "grid_area": null,
            "grid_template_columns": null,
            "flex": null,
            "_model_name": "LayoutModel",
            "justify_items": null,
            "grid_row": null,
            "max_height": null,
            "align_content": null,
            "visibility": null,
            "align_self": null,
            "height": null,
            "min_height": null,
            "padding": null,
            "grid_auto_rows": null,
            "grid_gap": null,
            "max_width": null,
            "order": null,
            "_view_module_version": "1.2.0",
            "grid_template_areas": null,
            "object_position": null,
            "object_fit": null,
            "grid_auto_columns": null,
            "margin": null,
            "display": null,
            "left": null
          }
        },
        "dd424fc549cd45d3a7c017f1f72a59b6": {
          "model_module": "@jupyter-widgets/controls",
          "model_name": "IntProgressModel",
          "state": {
            "_view_name": "ProgressView",
            "style": "IPY_MODEL_f1a2762318724ad280760280f5c98d9b",
            "_dom_classes": [],
            "description": "",
            "_model_name": "IntProgressModel",
            "bar_style": "success",
            "max": 12217,
            "_view_module": "@jupyter-widgets/controls",
            "_model_module_version": "1.5.0",
            "value": 12217,
            "_view_count": null,
            "_view_module_version": "1.5.0",
            "orientation": "horizontal",
            "min": 0,
            "description_tooltip": null,
            "_model_module": "@jupyter-widgets/controls",
            "layout": "IPY_MODEL_0c35db054b2348ba95757861460ae7fb"
          }
        },
        "63052c8c3873489d9ae293a86f284e8b": {
          "model_module": "@jupyter-widgets/controls",
          "model_name": "HTMLModel",
          "state": {
            "_view_name": "HTMLView",
            "style": "IPY_MODEL_b557394eb73f4e75a83a42ea44272a84",
            "_dom_classes": [],
            "description": "",
            "_model_name": "HTMLModel",
            "placeholder": "​",
            "_view_module": "@jupyter-widgets/controls",
            "_model_module_version": "1.5.0",
            "value": "100% 12217/12217 [00:06&lt;00:00, 1801.93it/s]",
            "_view_count": null,
            "_view_module_version": "1.5.0",
            "description_tooltip": null,
            "_model_module": "@jupyter-widgets/controls",
            "layout": "IPY_MODEL_424d2ff6da2e48ffab3ce458ad90e510"
          }
        },
        "f1a2762318724ad280760280f5c98d9b": {
          "model_module": "@jupyter-widgets/controls",
          "model_name": "ProgressStyleModel",
          "state": {
            "_view_name": "StyleView",
            "_model_name": "ProgressStyleModel",
            "description_width": "",
            "_view_module": "@jupyter-widgets/base",
            "_model_module_version": "1.5.0",
            "_view_count": null,
            "_view_module_version": "1.2.0",
            "bar_color": null,
            "_model_module": "@jupyter-widgets/controls"
          }
        },
        "0c35db054b2348ba95757861460ae7fb": {
          "model_module": "@jupyter-widgets/base",
          "model_name": "LayoutModel",
          "state": {
            "_view_name": "LayoutView",
            "grid_template_rows": null,
            "right": null,
            "justify_content": null,
            "_view_module": "@jupyter-widgets/base",
            "overflow": null,
            "_model_module_version": "1.2.0",
            "_view_count": null,
            "flex_flow": null,
            "width": null,
            "min_width": null,
            "border": null,
            "align_items": null,
            "bottom": null,
            "_model_module": "@jupyter-widgets/base",
            "top": null,
            "grid_column": null,
            "overflow_y": null,
            "overflow_x": null,
            "grid_auto_flow": null,
            "grid_area": null,
            "grid_template_columns": null,
            "flex": null,
            "_model_name": "LayoutModel",
            "justify_items": null,
            "grid_row": null,
            "max_height": null,
            "align_content": null,
            "visibility": null,
            "align_self": null,
            "height": null,
            "min_height": null,
            "padding": null,
            "grid_auto_rows": null,
            "grid_gap": null,
            "max_width": null,
            "order": null,
            "_view_module_version": "1.2.0",
            "grid_template_areas": null,
            "object_position": null,
            "object_fit": null,
            "grid_auto_columns": null,
            "margin": null,
            "display": null,
            "left": null
          }
        },
        "b557394eb73f4e75a83a42ea44272a84": {
          "model_module": "@jupyter-widgets/controls",
          "model_name": "DescriptionStyleModel",
          "state": {
            "_view_name": "StyleView",
            "_model_name": "DescriptionStyleModel",
            "description_width": "",
            "_view_module": "@jupyter-widgets/base",
            "_model_module_version": "1.5.0",
            "_view_count": null,
            "_view_module_version": "1.2.0",
            "_model_module": "@jupyter-widgets/controls"
          }
        },
        "424d2ff6da2e48ffab3ce458ad90e510": {
          "model_module": "@jupyter-widgets/base",
          "model_name": "LayoutModel",
          "state": {
            "_view_name": "LayoutView",
            "grid_template_rows": null,
            "right": null,
            "justify_content": null,
            "_view_module": "@jupyter-widgets/base",
            "overflow": null,
            "_model_module_version": "1.2.0",
            "_view_count": null,
            "flex_flow": null,
            "width": null,
            "min_width": null,
            "border": null,
            "align_items": null,
            "bottom": null,
            "_model_module": "@jupyter-widgets/base",
            "top": null,
            "grid_column": null,
            "overflow_y": null,
            "overflow_x": null,
            "grid_auto_flow": null,
            "grid_area": null,
            "grid_template_columns": null,
            "flex": null,
            "_model_name": "LayoutModel",
            "justify_items": null,
            "grid_row": null,
            "max_height": null,
            "align_content": null,
            "visibility": null,
            "align_self": null,
            "height": null,
            "min_height": null,
            "padding": null,
            "grid_auto_rows": null,
            "grid_gap": null,
            "max_width": null,
            "order": null,
            "_view_module_version": "1.2.0",
            "grid_template_areas": null,
            "object_position": null,
            "object_fit": null,
            "grid_auto_columns": null,
            "margin": null,
            "display": null,
            "left": null
          }
        }
      }
    }
  },
  "cells": [
    {
      "cell_type": "markdown",
      "metadata": {
        "id": "view-in-github",
        "colab_type": "text"
      },
      "source": [
        "<a href=\"https://colab.research.google.com/github/kushsharma2910/FGQ/blob/kush/main.ipynb\" target=\"_parent\"><img src=\"https://colab.research.google.com/assets/colab-badge.svg\" alt=\"Open In Colab\"/></a>"
      ]
    },
    {
      "cell_type": "code",
      "metadata": {
        "colab_type": "code",
        "collapsed": true,
        "id": "u4Ofmk-G-Nk4",
        "outputId": "7b80fee0-9658-4b3a-f250-b1a0eb0e721d",
        "colab": {
          "base_uri": "https://localhost:8080/",
          "height": 125
        }
      },
      "source": [
        "from google.colab import drive\n",
        "drive.mount('/content/drive')"
      ],
      "execution_count": 1,
      "outputs": [
        {
          "output_type": "stream",
          "text": [
            "Go to this URL in a browser: https://accounts.google.com/o/oauth2/auth?client_id=947318989803-6bn6qk8qdgf4n4g3pfee6491hc0brc4i.apps.googleusercontent.com&redirect_uri=urn%3aietf%3awg%3aoauth%3a2.0%3aoob&response_type=code&scope=email%20https%3a%2f%2fwww.googleapis.com%2fauth%2fdocs.test%20https%3a%2f%2fwww.googleapis.com%2fauth%2fdrive%20https%3a%2f%2fwww.googleapis.com%2fauth%2fdrive.photos.readonly%20https%3a%2f%2fwww.googleapis.com%2fauth%2fpeopleapi.readonly\n",
            "\n",
            "Enter your authorization code:\n",
            "··········\n",
            "Mounted at /content/drive\n"
          ],
          "name": "stdout"
        }
      ]
    },
    {
      "cell_type": "code",
      "metadata": {
        "id": "fSXEcqqhhBBY",
        "colab_type": "code",
        "outputId": "13e80ecb-9b41-487d-b967-0720cce20de0",
        "colab": {
          "base_uri": "https://localhost:8080/",
          "height": 81
        }
      },
      "source": [
        "import tensorflow as tf\n",
        "device_name = tf.test.gpu_device_name()\n",
        "if device_name != '/device:GPU:0':\n",
        "    raise SystemError('GPU device not found')\n",
        "print('Found GPU at: {}'.format(device_name))"
      ],
      "execution_count": 2,
      "outputs": [
        {
          "output_type": "display_data",
          "data": {
            "text/html": [
              "<p style=\"color: red;\">\n",
              "The default version of TensorFlow in Colab will soon switch to TensorFlow 2.x.<br>\n",
              "We recommend you <a href=\"https://www.tensorflow.org/guide/migrate\" target=\"_blank\">upgrade</a> now \n",
              "or ensure your notebook will continue to use TensorFlow 1.x via the <code>%tensorflow_version 1.x</code> magic:\n",
              "<a href=\"https://colab.research.google.com/notebooks/tensorflow_version.ipynb\" target=\"_blank\">more info</a>.</p>\n"
            ],
            "text/plain": [
              "<IPython.core.display.HTML object>"
            ]
          },
          "metadata": {
            "tags": []
          }
        },
        {
          "output_type": "stream",
          "text": [
            "Found GPU at: /device:GPU:0\n"
          ],
          "name": "stdout"
        }
      ]
    },
    {
      "cell_type": "code",
      "metadata": {
        "colab_type": "code",
        "id": "32BpqMho9hU-",
        "outputId": "ba957bd8-d4e1-4878-f70c-cf608ae4c33b",
        "colab": {
          "base_uri": "https://localhost:8080/",
          "height": 35
        }
      },
      "source": [
        "import os\n",
        "import pandas as pd\n",
        "import numpy as np\n",
        "import matplotlib.pyplot as plt\n",
        "from sklearn.decomposition import PCA\n",
        "import os\n",
        "import time\n",
        "from tqdm._tqdm_notebook import tqdm_notebook\n",
        "import pickle\n",
        "from keras.models import Sequential, load_model\n",
        "from keras.layers import Dense, Dropout, BatchNormalization\n",
        "from keras.layers import LSTM, LeakyReLU\n",
        "from keras.callbacks import ModelCheckpoint, EarlyStopping, ReduceLROnPlateau, CSVLogger\n",
        "from keras import optimizers\n",
        "from sklearn.preprocessing import MinMaxScaler\n",
        "from sklearn.model_selection import train_test_split\n",
        "from sklearn.metrics import mean_squared_error\n",
        "import logging"
      ],
      "execution_count": 3,
      "outputs": [
        {
          "output_type": "stream",
          "text": [
            "Using TensorFlow backend.\n"
          ],
          "name": "stderr"
        }
      ]
    },
    {
      "cell_type": "code",
      "metadata": {
        "colab_type": "code",
        "id": "YDjFHyaS9hVF",
        "colab": {}
      },
      "source": [
        "#######################################################################################\n",
        "################################# CREATING LARGEDF  ###################################\n",
        "#######################################################################################\n",
        "\n",
        "def change_index_to_time(df):\n",
        "    if \"Time (UTC)\" in df.columns:\n",
        "      df['Time (UTC)'] = pd.to_datetime(df['Time (UTC)'])\n",
        "      df.set_index('Time (UTC)', inplace = True, drop = True)\n",
        "    \n",
        "#Finds the dataframe with largest number of time stamps and returns an empty dataframe with same index\n",
        "def create_empty_df(dir_name):\n",
        "    largest_timeframe = 0\n",
        "    path_to_largest = \"\"\n",
        "\n",
        "    for asset_class in os.listdir(dir_name):\n",
        "        for asset in os.listdir(dir_name +  \"/\" + asset_class):    \n",
        "            df = pd.read_csv(dir_name +  \"/\" + asset_class + \"/\" + asset)\n",
        "            if df.shape[0] > largest_timeframe:\n",
        "                largest_timeframe = df.shape[0]\n",
        "                path_to_largest = dir_name +  \"/\" + asset_class + \"/\" + asset\n",
        "\n",
        "    largest_dataframe = pd.read_csv(path_to_largest)\n",
        "    change_index_to_time(largest_dataframe)\n",
        "    largest_dataframe = pd.DataFrame(index = largest_dataframe.index)\n",
        "    return largest_dataframe\n",
        "\n",
        "#######################################################################################\n",
        "################################# FEATURE BUILDING  ###################################\n",
        "#######################################################################################\n",
        "\n",
        "def fill_large_df(dir_name, large_df):\n",
        "    asset67 = []\n",
        "    for asset_class in os.listdir(dir_name):\n",
        "        for asset in os.listdir(dir_name +  \"/\" + asset_class): \n",
        "            extract_name = asset.split(\"_\")\n",
        "            asset67.append(extract_name[0][:-4])\n",
        "            df = pd.read_csv(dir_name +  \"/\" + asset_class + \"/\" + asset)\n",
        "            change_index_to_time(df)\n",
        "            large_df = large_df.join(df)\n",
        "            rename_dic = {}\n",
        "            for column in df.columns:    \n",
        "                rename_dic[column] = column + \"@\" + extract_name[0][:-4]\n",
        "            large_df = large_df.rename(columns = rename_dic) \n",
        "            \n",
        "    return large_df, asset67\n",
        "\n",
        "def add_lag_features(only_feat_df):\n",
        "  lag_feat = only_feat_df.copy()\n",
        "  BASE_FEATURES = [\"Open@\" + target_asset, \"High@\" + target_asset, \"Low@\" + target_asset, \"Close@\" + target_asset]\n",
        "  N_WINDOW = [4, 24, 128, 256]\n",
        "  prevlag = 1 \n",
        "  for window in N_WINDOW:\n",
        "    rolled = lag_feat[BASE_FEATURES].shift(prevlag).rolling(window=window)\n",
        "    lag_feat = lag_feat.join(rolled.mean().add_suffix(f'_window_{window}_mean'))\n",
        "    lag_feat = lag_feat.join(rolled.max().add_suffix(f'_window_{window}_max'))\n",
        "    lag_feat = lag_feat.join(rolled.min().add_suffix(f'_window_{window}_min'))\n",
        "    lag_feat = lag_feat.join(rolled.std().add_suffix(f'_window_{window}_std'))\n",
        "  return lag_feat\n",
        "\n",
        "def remove_spread(df, target_asset):\n",
        "    target_asset_spread = []\n",
        "    features = [\"Open\", \"High\", \"Low\", \"Close\", \"Volume \"]\n",
        "\n",
        "    for feature in features:\n",
        "        target_asset_spread.append(feature + \"_spread@\" + target_asset)\n",
        "\n",
        "    remove_columns = []\n",
        "    for column in df.columns:\n",
        "        if (column not in target_asset_spread) and (\"spread\" in column):\n",
        "            remove_columns.append(column)\n",
        "\n",
        "    df = df.drop(columns = remove_columns)\n",
        "    return df\n",
        "\n",
        "def denoise_fft(df, target_asset, level):\n",
        "    features = [\"Open@\" + target_asset, \"High@\" + target_asset, \"Low@\" + target_asset, \"Close@\" + target_asset]\n",
        "    \n",
        "    for feature in features:\n",
        "        close_fft = np.fft.fft(np.asarray(df[feature].tolist()))\n",
        "        fft_df = pd.DataFrame({'fft':close_fft})\n",
        "        fft_list = np.asarray(fft_df['fft'].tolist())\n",
        "        fft_list_m10 = np.copy(fft_list)\n",
        "        fft_list_m10[level:-level] = 0\n",
        "        df[feature] = np.real(np.fft.ifft(fft_list_m10))\n",
        "\n",
        "def extract_features(large_df, target_asset, target_window, asset67, \\\n",
        "                    add_lag = False, keep_spread = True, denoise = True):\n",
        "    df = large_df.copy()\n",
        "\n",
        "    if denoise == True:\n",
        "        level = 2000\n",
        "        denoise_fft(df, target_asset, level)\n",
        "\n",
        "    #remove the spread columns of assets\n",
        "    #other than the target asset\n",
        "    if keep_spread == False:\n",
        "        df = remove_spread(df, target_asset)\n",
        "\n",
        "    #comment out this line if you \n",
        "    #don't want to use the lag features\n",
        "    if add_lag == True:\n",
        "      df = add_lag_features(df)\n",
        "\n",
        "    df[\"H-\" + str(target_window) + \"hr\" ] = df.pop(\"H-\" + str(target_window) + \"hr@\" + target_asset)\n",
        "    df[\"L-\" + str(target_window) + \"hr\" ] = df.pop(\"L-\" + str(target_window) + \"hr@\" + target_asset)\n",
        "    \n",
        "    #removing targets of assets other\n",
        "    # than the target assset\n",
        "    for asset in asset67:\n",
        "        if asset != target_asset:\n",
        "            df = df.drop(columns = [\"H-4hr@\" + asset, \"L-4hr@\" + asset, \"H-12hr@\" + asset,\n",
        "                               \"L-12hr@\" + asset, \"H-24hr@\" + asset,\"L-24hr@\" + asset])\n",
        "            \n",
        "    #this loop asserts that labels for target asset is\n",
        "    #not present for other windows\n",
        "    windows = [\"4\", \"12\", \"24\"]\n",
        "    for window in windows:\n",
        "      if window != str(target_window):\n",
        "        high = \"H-\" + window + \"hr@\" + target_asset\n",
        "        low = \"L-\" + window + \"hr@\" + target_asset\n",
        "        if high in df.columns:\n",
        "          df = df.drop(columns = [high])\n",
        "        if low in df.columns:\n",
        "          df = df.drop(columns = [low])\n",
        "\n",
        "    change_index_to_time(df)        \n",
        "    return df\n",
        "\n",
        "def normalize_df(df):\n",
        "    result = df.copy()\n",
        "    for feature_name in df.columns:\n",
        "        max_value = df[feature_name].max()\n",
        "        min_value = df[feature_name].min()\n",
        "        result[feature_name] = (df[feature_name] - min_value) / (max_value - min_value)\n",
        "    return result\n",
        "\n",
        "def standard_df(df):\n",
        "    result = df.copy()\n",
        "    for feature_name in df.columns:\n",
        "        df[feature_name] = (df[feature_name]-df[feature_name].mean()) / df[feature_name].std()\n",
        "    return result\n",
        "\n",
        "#######################################################################################\n",
        "################################# MODEL BUILDING  #####################################\n",
        "#######################################################################################\n",
        "\n",
        "\n",
        "#predicting the H as previous value\n",
        "def create_baseline(only_feat_df, direction, target_window):     \n",
        "    preds = np.array(pd.Series(only_feat_df[direction + \"-\" + str(target_window) + \"hr\"]).shift(1).bfill(axis = 0))\n",
        "    actual = np.array(only_feat_df[direction + \"-\" + str(target_window) + \"hr\"])\n",
        "    return preds, actual\n",
        "\n",
        "#######################################################################################\n",
        "############################# ACCURACY CALCULATIONS  ##################################\n",
        "#######################################################################################\n",
        "\n",
        "def acc_abs(preds, actual, tolerance):\n",
        "    tolerance /= 100\n",
        "    return np.sum(np.abs(preds/actual-1) <= tolerance) / preds.shape[0]\n",
        "\n",
        "def acc_dir(preds, actual, tolerance, direction):\n",
        "    tolerance /= 100\n",
        "    score = 0\n",
        "    for ix in range(preds.shape[0]):\n",
        "        if actual[ix] > preds[ix]*(1+tolerance)  and direction == \"H\":\n",
        "            score += 1\n",
        "        elif actual[ix] < preds[ix]*(1-tolerance)  and direction == \"L\":\n",
        "             score += 1\n",
        "    return score / preds.shape[0]\n",
        "\n",
        "def min_pips(preds, actual, opens, tolerance, pips, direction):\n",
        "    pips /= 100\n",
        "    tolerance /= 100\n",
        "    score = 0\n",
        "    for ix in range(preds.shape[0]):\n",
        "        if preds[ix] < actual[ix]*(1+tolerance)  and (direction == \"H\" and (actual[ix] - opens[ix])>=pips):\n",
        "            score += 1 \n",
        "        elif preds[ix] > actual[ix]*(1+tolerance)  and (direction == \"L\" and (opens[ix] - actual[ix])>=pips):\n",
        "             score += 1\n",
        "    return score / preds.shape[0]"
      ],
      "execution_count": 0,
      "outputs": []
    },
    {
      "cell_type": "code",
      "metadata": {
        "colab_type": "code",
        "id": "6ox-Y7o39hVJ",
        "colab": {}
      },
      "source": [
        "#name of the root directory which contains asset classes which further contain asset csv ask and bid pairs\n",
        "# dir_name = \"drive/My Drive/FGQ/Assets\"\n",
        "# large_df = create_empty_df(dir_name)"
      ],
      "execution_count": 0,
      "outputs": []
    },
    {
      "cell_type": "code",
      "metadata": {
        "colab_type": "code",
        "id": "dL0w8A809hVO",
        "colab": {}
      },
      "source": [
        "#asset67 contains the 67 selected assets which have data for more than 6 years\n",
        "# large_df_, asset67 = fill_large_df(dir_name, large_df)"
      ],
      "execution_count": 0,
      "outputs": []
    },
    {
      "cell_type": "code",
      "metadata": {
        "colab_type": "code",
        "id": "0lGdKz6O9hVS",
        "colab": {}
      },
      "source": [
        "#Filling in previous values for values in middle\n",
        "# large_df_ = large_df_.ffill(axis=0)\n",
        "\n",
        "#Filling in next value for initial nan values\n",
        "#This is used for assets which do not have initial data\n",
        "# large_df_ = large_df_.bfill(axis=0)"
      ],
      "execution_count": 0,
      "outputs": []
    },
    {
      "cell_type": "code",
      "metadata": {
        "colab_type": "code",
        "id": "Vztj-_QJ_Kah",
        "outputId": "99b54209-f8b8-43d3-8e04-c45abbfeafb6",
        "colab": {
          "base_uri": "https://localhost:8080/",
          "height": 52
        }
      },
      "source": [
        "#When using google drive\n",
        "\n",
        "#to extract to the home dir\n",
        "!unzip \"drive/My Drive/FGQ/large_df_.zip\"\n",
        "large_df_ = pd.read_csv(\"large_df_.csv\")\n",
        "\n",
        "#List of assets present in large_df_\n",
        "asset67 = np.array(pd.read_csv(\"drive/My Drive/FGQ/asset67.csv\").iloc[:, 1])"
      ],
      "execution_count": 5,
      "outputs": [
        {
          "output_type": "stream",
          "text": [
            "Archive:  drive/My Drive/FGQ/large_df_.zip\n",
            "  inflating: large_df_.csv           \n"
          ],
          "name": "stdout"
        }
      ]
    },
    {
      "cell_type": "code",
      "metadata": {
        "colab_type": "code",
        "id": "EDBBD8Sn9hVX",
        "colab": {}
      },
      "source": [
        "#input variables\n",
        "target_asset = \"XAGUSD\"\n",
        "target_window = 12\n",
        "direction = \"L\"\n",
        "#give tolerance in percent\n",
        "tolerance = 0.5\n",
        "#in the xlsx file, first row and columns have been removed for efficient reading\n",
        "pip_xl = pd.read_excel(\"drive/My Drive/FGQ/Labels to Forecast.xlsx\")\n",
        "\n",
        "#querying pips\n",
        "pips = pip_xl[pip_xl[\"Label\"] == target_asset][str(target_window) + \" Hour\"].values[0]\n",
        "\n",
        "only_feat_df = extract_features(large_df_, target_asset, target_window, asset67, add_lag=False, keep_spread=False, denoise=True)"
      ],
      "execution_count": 0,
      "outputs": []
    },
    {
      "cell_type": "markdown",
      "metadata": {
        "colab_type": "text",
        "id": "IK3HAvE1Eyl4"
      },
      "source": [
        ""
      ]
    },
    {
      "cell_type": "code",
      "metadata": {
        "colab_type": "code",
        "id": "57UvZ4hIqzXP",
        "colab": {}
      },
      "source": [
        "# preds, actual = create_baseline(only_feat_df, direction, target_window)\n",
        "\n",
        "# #calculate accuracies\n",
        "# print(acc_abs(preds, actual, tolerance))\n",
        "# print(acc_dir(preds, actual, tolerance, direction))\n",
        "# print(min_pips(preds, actual, only_feat_df[\"Open@\" + target_asset], tolerance, pips, direction))"
      ],
      "execution_count": 0,
      "outputs": []
    },
    {
      "cell_type": "code",
      "metadata": {
        "colab_type": "code",
        "id": "fA2iL8KQkUJb",
        "outputId": "21ffd891-b7f3-4bff-f9b9-8a77ac948cf0",
        "colab": {
          "base_uri": "https://localhost:8080/",
          "height": 35
        }
      },
      "source": [
        "# features = [\"Open@\" + target_asset, \"High@\" + target_asset, \"Low@\" + target_asset, \"Close@\" + target_asset, \"Volume @\" + target_asset,\n",
        "#             direction + \"-\" + str(target_window) + \"hr\"]\n",
        "\n",
        "features = []\n",
        "for feature in only_feat_df.columns:\n",
        "    if target_asset in feature:\n",
        "        features.append(feature)\n",
        "features.append(direction + \"-\" + str(target_window) + \"hr\")\n",
        "\n",
        "only_norm = normalize_df(only_feat_df[features])\n",
        "# only_norm = standard_df(only_feat_df[features])\n",
        "\n",
        "#using only half training data for faster training\n",
        "split = int(0.5 * only_norm.shape[0])\n",
        "only_norm = only_norm.iloc[:split, :]\n",
        "\n",
        "print(only_norm.shape)"
      ],
      "execution_count": 10,
      "outputs": [
        {
          "output_type": "stream",
          "text": [
            "(62363, 11)\n"
          ],
          "name": "stdout"
        }
      ]
    },
    {
      "cell_type": "code",
      "metadata": {
        "colab_type": "code",
        "id": "_FdLD68SEu3e",
        "colab": {}
      },
      "source": [
        "os.environ['TF_CPP_MIN_LOG_LEVEL'] = '2'\n",
        "logging.getLogger(\"tensorflow\").setLevel(logging.ERROR)\n",
        "\n",
        "params = {\n",
        "    \"batch_size\": 1024, \n",
        "    \"epochs\": 150,\n",
        "    \"lr\": 0.001000,\n",
        "    \"time_steps\": 256\n",
        "}\n",
        "\n",
        "OUTPUT_PATH = \"drive/My Drive/FGQ/models/\"\n",
        "TIME_STEPS = params[\"time_steps\"]\n",
        "BATCH_SIZE = params[\"batch_size\"]\n",
        "\n",
        "def trim_dataset(x_t,batch_size):\n",
        "    no_of_rows_drop = x_t.shape[0]%batch_size\n",
        "    if no_of_rows_drop > 0:\n",
        "        return x_t[:-no_of_rows_drop]\n",
        "    else:\n",
        "        return x_t\n",
        "\n",
        "def build_timeseries(only_norm):\n",
        "    Y = only_norm[direction + \"-\" + str(target_window) + \"hr\"]\n",
        "    dim_0 = only_norm.shape[0] - TIME_STEPS\n",
        "    dim_1 = only_norm.shape[1]-1\n",
        "    x = np.zeros((dim_0, TIME_STEPS, dim_1))\n",
        "    y = np.zeros((dim_0,))\n",
        "    for i in tqdm_notebook(range(dim_0)):\n",
        "        x[i] = only_norm.iloc[i:TIME_STEPS+i, :-1]\n",
        "        y[i] = Y[TIME_STEPS+i]\n",
        "    return x, y\n",
        "\n",
        "def create_model():\n",
        "    lstm_model = Sequential()\n",
        "    lstm_model.add(LSTM(64, batch_input_shape=(BATCH_SIZE, TIME_STEPS, x_t.shape[2]),\n",
        "                        dropout=0.2, recurrent_dropout=0.2, stateful=True, return_sequences=True,\n",
        "                        kernel_initializer='zeros'))\n",
        "    lstm_model.add(Dropout(0.4))\n",
        "    lstm_model.add(LSTM(32))\n",
        "    lstm_model.add(Dropout(0.4))\n",
        "    lstm_model.add(Dense(16))\n",
        "    lstm_model.add(LeakyReLU(alpha=0.1))\n",
        "    lstm_model.add(Dense(1))\n",
        "    optimizer = optimizers.Adam(lr=params[\"lr\"])\n",
        "    lstm_model.compile(loss='mean_squared_error', optimizer=optimizer)\n",
        "    return lstm_model"
      ],
      "execution_count": 0,
      "outputs": []
    },
    {
      "cell_type": "code",
      "metadata": {
        "colab_type": "code",
        "id": "ZtkdSnJHHMNL",
        "outputId": "0bd09f98-baf0-4c79-9b81-69671ad54d77",
        "colab": {
          "base_uri": "https://localhost:8080/",
          "height": 169,
          "referenced_widgets": [
            "47c6e8b7a05746838d05b67a9b5eb0a4",
            "67427e33dea648f587ec7249085befcd",
            "8302ebd64fd44e1dbc7a32891ea08f44",
            "a6e096e1b9d642eb86826ecca4bd2412",
            "89b815c9df1549618cc5f789866c02e2",
            "8a74b1a21f5b4654884286335ae0a336",
            "66545799ef6647f78e32e310754cef72",
            "a51d8e6ac17a4d79b2e4adee7ce0c290",
            "a76b4d231ba84a5ab8a480e84ceec351",
            "5805d1c4254347f98a30d5baad08d1d7",
            "dd424fc549cd45d3a7c017f1f72a59b6",
            "63052c8c3873489d9ae293a86f284e8b",
            "f1a2762318724ad280760280f5c98d9b",
            "0c35db054b2348ba95757861460ae7fb",
            "b557394eb73f4e75a83a42ea44272a84",
            "424d2ff6da2e48ffab3ce458ad90e510"
          ]
        }
      },
      "source": [
        "df_train, df_test = train_test_split(only_norm, train_size=0.8, test_size=0.2, shuffle=False)\n",
        "print(\"Train--Test size\", len(df_train), len(df_test))\n",
        "\n",
        "x_t, y_t = build_timeseries(df_train)\n",
        "x_t = trim_dataset(x_t, BATCH_SIZE)\n",
        "y_t = trim_dataset(y_t, BATCH_SIZE)\n",
        "print(\"Batch trimmed size\",x_t.shape, y_t.shape)\n",
        "\n",
        "x_temp, y_temp = build_timeseries(df_test)\n",
        "x_val, x_test_t = np.split(trim_dataset(x_temp, BATCH_SIZE),2)\n",
        "y_val, y_test_t = np.split(trim_dataset(y_temp, BATCH_SIZE),2)\n",
        "print(\"Test size\", x_test_t.shape, y_test_t.shape, x_val.shape, y_val.shape)"
      ],
      "execution_count": 12,
      "outputs": [
        {
          "output_type": "stream",
          "text": [
            "Train--Test size 49890 12473\n"
          ],
          "name": "stdout"
        },
        {
          "output_type": "display_data",
          "data": {
            "application/vnd.jupyter.widget-view+json": {
              "model_id": "47c6e8b7a05746838d05b67a9b5eb0a4",
              "version_minor": 0,
              "version_major": 2
            },
            "text/plain": [
              "HBox(children=(IntProgress(value=0, max=49634), HTML(value='')))"
            ]
          },
          "metadata": {
            "tags": []
          }
        },
        {
          "output_type": "stream",
          "text": [
            "\n",
            "Batch trimmed size (49152, 256, 10) (49152,)\n"
          ],
          "name": "stdout"
        },
        {
          "output_type": "display_data",
          "data": {
            "application/vnd.jupyter.widget-view+json": {
              "model_id": "a76b4d231ba84a5ab8a480e84ceec351",
              "version_minor": 0,
              "version_major": 2
            },
            "text/plain": [
              "HBox(children=(IntProgress(value=0, max=12217), HTML(value='')))"
            ]
          },
          "metadata": {
            "tags": []
          }
        },
        {
          "output_type": "stream",
          "text": [
            "\n",
            "Test size (5632, 256, 10) (5632,) (5632, 256, 10) (5632,)\n"
          ],
          "name": "stdout"
        }
      ]
    },
    {
      "cell_type": "code",
      "metadata": {
        "colab_type": "code",
        "id": "WImPvKoreXcd",
        "colab": {}
      },
      "source": [
        "model = create_model()"
      ],
      "execution_count": 0,
      "outputs": []
    },
    {
      "cell_type": "code",
      "metadata": {
        "colab_type": "code",
        "id": "K0DIK_osQL4d",
        "outputId": "634af784-8271-41d1-8069-7b3f41f20003",
        "colab": {
          "base_uri": "https://localhost:8080/",
          "height": 1000
        }
      },
      "source": [
        "r_lr_plat = ReduceLROnPlateau(monitor='val_loss', factor=0.1, patience=30, \n",
        "                                  verbose=0, mode='auto', min_delta=0.0001, cooldown=0, min_lr=0)\n",
        "\n",
        "es = EarlyStopping(monitor='val_loss', mode='min', verbose=1,\n",
        "                       patience=40, min_delta=0.0001)\n",
        "    \n",
        "mcp = ModelCheckpoint(os.path.join(OUTPUT_PATH,\n",
        "                        \"best_model.h5\"), monitor='val_loss', verbose=1,\n",
        "                        save_best_only=True, save_weights_only=False, mode='min', period=1)\n",
        "\n",
        "csv_logger = CSVLogger(os.path.join(OUTPUT_PATH, 'training_log_' + time.ctime().replace(\" \",\"_\") + '.log'), append=True)\n",
        "\n",
        "history = model.fit(x_t, y_t, epochs=params[\"epochs\"], verbose=2, batch_size=BATCH_SIZE,\n",
        "                    shuffle=False, validation_data=(trim_dataset(x_val, BATCH_SIZE),\n",
        "                    trim_dataset(y_val, BATCH_SIZE)), callbacks=[es, mcp, csv_logger, r_lr_plat])"
      ],
      "execution_count": 0,
      "outputs": [
        {
          "output_type": "stream",
          "text": [
            "Train on 49152 samples, validate on 5120 samples\n",
            "Epoch 1/150\n",
            " - 41s - loss: 0.0212 - val_loss: 0.0014\n",
            "\n",
            "Epoch 00001: val_loss improved from inf to 0.00145, saving model to drive/My Drive/FGQ/models/best_model.h5\n",
            "Epoch 2/150\n",
            " - 40s - loss: 0.0517 - val_loss: 0.0127\n",
            "\n",
            "Epoch 00002: val_loss did not improve from 0.00145\n",
            "Epoch 3/150\n",
            " - 39s - loss: 0.0420 - val_loss: 0.0072\n",
            "\n",
            "Epoch 00003: val_loss did not improve from 0.00145\n",
            "Epoch 4/150\n",
            " - 40s - loss: 0.0402 - val_loss: 0.0096\n",
            "\n",
            "Epoch 00004: val_loss did not improve from 0.00145\n",
            "Epoch 5/150\n",
            " - 40s - loss: 0.0378 - val_loss: 0.0106\n",
            "\n",
            "Epoch 00005: val_loss did not improve from 0.00145\n",
            "Epoch 6/150\n",
            " - 40s - loss: 0.0374 - val_loss: 0.0106\n",
            "\n",
            "Epoch 00006: val_loss did not improve from 0.00145\n",
            "Epoch 7/150\n",
            " - 40s - loss: 0.0339 - val_loss: 0.0109\n",
            "\n",
            "Epoch 00007: val_loss did not improve from 0.00145\n",
            "Epoch 8/150\n",
            " - 40s - loss: 0.0275 - val_loss: 0.0059\n",
            "\n",
            "Epoch 00008: val_loss did not improve from 0.00145\n",
            "Epoch 9/150\n",
            " - 40s - loss: 0.0257 - val_loss: 0.0052\n",
            "\n",
            "Epoch 00009: val_loss did not improve from 0.00145\n",
            "Epoch 10/150\n",
            " - 40s - loss: 0.0223 - val_loss: 0.0035\n",
            "\n",
            "Epoch 00010: val_loss did not improve from 0.00145\n",
            "Epoch 11/150\n",
            " - 39s - loss: 0.0209 - val_loss: 0.0032\n",
            "\n",
            "Epoch 00011: val_loss did not improve from 0.00145\n",
            "Epoch 12/150\n",
            " - 40s - loss: 0.0198 - val_loss: 0.0028\n",
            "\n",
            "Epoch 00012: val_loss did not improve from 0.00145\n",
            "Epoch 13/150\n",
            " - 40s - loss: 0.0189 - val_loss: 0.0024\n",
            "\n",
            "Epoch 00013: val_loss did not improve from 0.00145\n",
            "Epoch 14/150\n",
            " - 39s - loss: 0.0181 - val_loss: 0.0024\n",
            "\n",
            "Epoch 00014: val_loss did not improve from 0.00145\n",
            "Epoch 15/150\n",
            " - 40s - loss: 0.0179 - val_loss: 0.0021\n",
            "\n",
            "Epoch 00015: val_loss did not improve from 0.00145\n",
            "Epoch 16/150\n",
            " - 39s - loss: 0.0175 - val_loss: 0.0022\n",
            "\n",
            "Epoch 00016: val_loss did not improve from 0.00145\n",
            "Epoch 17/150\n",
            " - 39s - loss: 0.0173 - val_loss: 0.0018\n",
            "\n",
            "Epoch 00017: val_loss did not improve from 0.00145\n",
            "Epoch 18/150\n",
            " - 40s - loss: 0.0170 - val_loss: 0.0020\n",
            "\n",
            "Epoch 00018: val_loss did not improve from 0.00145\n",
            "Epoch 19/150\n",
            " - 39s - loss: 0.0166 - val_loss: 0.0017\n",
            "\n",
            "Epoch 00019: val_loss did not improve from 0.00145\n",
            "Epoch 20/150\n",
            " - 40s - loss: 0.0166 - val_loss: 0.0020\n",
            "\n",
            "Epoch 00020: val_loss did not improve from 0.00145\n",
            "Epoch 21/150\n",
            " - 40s - loss: 0.0164 - val_loss: 0.0018\n",
            "\n",
            "Epoch 00021: val_loss did not improve from 0.00145\n",
            "Epoch 22/150\n",
            " - 40s - loss: 0.0162 - val_loss: 0.0019\n",
            "\n",
            "Epoch 00022: val_loss did not improve from 0.00145\n",
            "Epoch 23/150\n",
            " - 40s - loss: 0.0162 - val_loss: 0.0017\n",
            "\n",
            "Epoch 00023: val_loss did not improve from 0.00145\n",
            "Epoch 24/150\n",
            " - 40s - loss: 0.0161 - val_loss: 0.0017\n",
            "\n",
            "Epoch 00024: val_loss did not improve from 0.00145\n",
            "Epoch 25/150\n",
            " - 40s - loss: 0.0159 - val_loss: 0.0017\n",
            "\n",
            "Epoch 00025: val_loss did not improve from 0.00145\n",
            "Epoch 26/150\n",
            " - 40s - loss: 0.0158 - val_loss: 0.0016\n",
            "\n",
            "Epoch 00026: val_loss did not improve from 0.00145\n",
            "Epoch 27/150\n",
            " - 40s - loss: 0.0153 - val_loss: 0.0015\n",
            "\n",
            "Epoch 00027: val_loss did not improve from 0.00145\n",
            "Epoch 28/150\n",
            " - 40s - loss: 0.0154 - val_loss: 0.0014\n",
            "\n",
            "Epoch 00028: val_loss improved from 0.00145 to 0.00140, saving model to drive/My Drive/FGQ/models/best_model.h5\n",
            "Epoch 29/150\n",
            " - 40s - loss: 0.0150 - val_loss: 0.0014\n",
            "\n",
            "Epoch 00029: val_loss did not improve from 0.00140\n",
            "Epoch 30/150\n",
            " - 39s - loss: 0.0149 - val_loss: 0.0010\n",
            "\n",
            "Epoch 00030: val_loss improved from 0.00140 to 0.00104, saving model to drive/My Drive/FGQ/models/best_model.h5\n",
            "Epoch 31/150\n",
            " - 39s - loss: 0.0146 - val_loss: 0.0013\n",
            "\n",
            "Epoch 00031: val_loss did not improve from 0.00104\n",
            "Epoch 32/150\n",
            " - 39s - loss: 0.0149 - val_loss: 0.0011\n",
            "\n",
            "Epoch 00032: val_loss did not improve from 0.00104\n",
            "Epoch 33/150\n",
            " - 39s - loss: 0.0143 - val_loss: 0.0011\n",
            "\n",
            "Epoch 00033: val_loss did not improve from 0.00104\n",
            "Epoch 34/150\n",
            " - 39s - loss: 0.0140 - val_loss: 6.2223e-04\n",
            "\n",
            "Epoch 00034: val_loss improved from 0.00104 to 0.00062, saving model to drive/My Drive/FGQ/models/best_model.h5\n",
            "Epoch 35/150\n",
            " - 40s - loss: 0.0134 - val_loss: 5.4943e-04\n",
            "\n",
            "Epoch 00035: val_loss improved from 0.00062 to 0.00055, saving model to drive/My Drive/FGQ/models/best_model.h5\n",
            "Epoch 36/150\n",
            " - 40s - loss: 0.0131 - val_loss: 1.1427e-04\n",
            "\n",
            "Epoch 00036: val_loss improved from 0.00055 to 0.00011, saving model to drive/My Drive/FGQ/models/best_model.h5\n",
            "Epoch 37/150\n",
            " - 40s - loss: 0.0125 - val_loss: 3.5476e-04\n",
            "\n",
            "Epoch 00037: val_loss did not improve from 0.00011\n",
            "Epoch 38/150\n",
            " - 39s - loss: 0.0114 - val_loss: 1.6244e-05\n",
            "\n",
            "Epoch 00038: val_loss improved from 0.00011 to 0.00002, saving model to drive/My Drive/FGQ/models/best_model.h5\n",
            "Epoch 39/150\n",
            " - 39s - loss: 0.0110 - val_loss: 1.8651e-04\n",
            "\n",
            "Epoch 00039: val_loss did not improve from 0.00002\n",
            "Epoch 40/150\n",
            " - 39s - loss: 0.0106 - val_loss: 5.3190e-05\n",
            "\n",
            "Epoch 00040: val_loss did not improve from 0.00002\n",
            "Epoch 41/150\n",
            " - 40s - loss: 0.0109 - val_loss: 5.8790e-05\n",
            "\n",
            "Epoch 00041: val_loss did not improve from 0.00002\n",
            "Epoch 42/150\n",
            " - 39s - loss: 0.0097 - val_loss: 1.3627e-04\n",
            "\n",
            "Epoch 00042: val_loss did not improve from 0.00002\n",
            "Epoch 43/150\n",
            " - 40s - loss: 0.0094 - val_loss: 2.2629e-04\n",
            "\n",
            "Epoch 00043: val_loss did not improve from 0.00002\n",
            "Epoch 44/150\n",
            " - 39s - loss: 0.0091 - val_loss: 3.1121e-04\n",
            "\n",
            "Epoch 00044: val_loss did not improve from 0.00002\n",
            "Epoch 45/150\n",
            " - 40s - loss: 0.0089 - val_loss: 2.1650e-04\n",
            "\n",
            "Epoch 00045: val_loss did not improve from 0.00002\n",
            "Epoch 46/150\n"
          ],
          "name": "stdout"
        }
      ]
    },
    {
      "cell_type": "code",
      "metadata": {
        "colab_type": "code",
        "id": "qKtNXfUXnM7a",
        "colab": {}
      },
      "source": [
        "model = load_model(\"drive/My Drive/FGQ/models/best_model.h5\")"
      ],
      "execution_count": 0,
      "outputs": []
    },
    {
      "cell_type": "code",
      "metadata": {
        "colab_type": "code",
        "id": "luBDbcL_TZQi",
        "colab": {}
      },
      "source": [
        "y_pred = model.predict(trim_dataset(x_test_t, BATCH_SIZE), batch_size=BATCH_SIZE)\n",
        "# y_pred = y_pred.flatten()\n",
        "y_test_t = trim_dataset(y_test_t, BATCH_SIZE)"
      ],
      "execution_count": 0,
      "outputs": []
    },
    {
      "cell_type": "code",
      "metadata": {
        "colab_type": "code",
        "id": "ugRpp-KkTxez",
        "outputId": "bb514fe2-94c7-44cd-edaa-95ff2b629e34",
        "colab": {
          "base_uri": "https://localhost:8080/",
          "height": 320
        }
      },
      "source": [
        "refer = np.array(only_feat_df[direction + \"-\" + str(target_window) + \"hr\"])\n",
        "y_org_t = (y_test_t * (np.max(refer) - np.min(refer))) + np.min(refer)\n",
        "y_org = (y_pred * (np.max(refer) - np.min(refer))) + np.min(refer)\n",
        "\n",
        "\n",
        "plt.figure(figsize = (18, 5))\n",
        "plt.plot(y_org, label = \"Preds\")\n",
        "plt.plot(y_org_t, label = \"Real\")\n",
        "plt.legend()\n",
        "plt.show()"
      ],
      "execution_count": 15,
      "outputs": [
        {
          "output_type": "display_data",
          "data": {
            "image/png": "[encoded data removed]",
            "text/plain": [
              "<Figure size 1296x360 with 1 Axes>"
            ]
          },
          "metadata": {
            "tags": []
          }
        }
      ]
    },
    {
      "cell_type": "code",
      "metadata": {
        "colab_type": "code",
        "id": "FxaIgF6ucyqc",
        "outputId": "998164c2-a739-4716-ff1b-a3e34a38908f",
        "colab": {
          "base_uri": "https://localhost:8080/",
          "height": 35
        }
      },
      "source": [
        "mean_squared_error(y_pred, y_test_t)"
      ],
      "execution_count": 16,
      "outputs": [
        {
          "output_type": "execute_result",
          "data": {
            "text/plain": [
              "0.00019253313974395818"
            ]
          },
          "metadata": {
            "tags": []
          },
          "execution_count": 16
        }
      ]
    },
    {
      "cell_type": "code",
      "metadata": {
        "colab_type": "code",
        "id": "mAMSfX2UCzRV",
        "outputId": "97cb3950-9e99-4637-a6a3-7e1dfb82dea5",
        "colab": {
          "base_uri": "https://localhost:8080/",
          "height": 35
        }
      },
      "source": [
        "scr = 0\n",
        "tolerance = 0.5\n",
        "tolerance /= 100\n",
        "for ix in range(y_org.shape[0]):\n",
        "    if np.abs(y_org[ix] - y_org_t[ix]) / y_org[ix] <= tolerance:\n",
        "        scr += 1\n",
        "print(scr / y_org_t.shape[0])"
      ],
      "execution_count": 17,
      "outputs": [
        {
          "output_type": "stream",
          "text": [
            "0.3619140625\n"
          ],
          "name": "stdout"
        }
      ]
    },
    {
      "cell_type": "code",
      "metadata": {
        "id": "YLc1Q-KgRE6l",
        "colab_type": "code",
        "colab": {}
      },
      "source": [
        ""
      ],
      "execution_count": 0,
      "outputs": []
    }
  ]
}