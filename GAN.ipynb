{
  "nbformat": 4,
  "nbformat_minor": 0,
  "metadata": {
    "accelerator": "GPU",
    "colab": {
      "name": "GAN.ipynb",
      "provenance": [],
      "collapsed_sections": [],
      "machine_shape": "hm",
      "include_colab_link": true
    },
    "kernelspec": {
      "name": "python3",
      "display_name": "Python 3"
    },
    "language_info": {
      "codemirror_mode": {
        "name": "ipython",
        "version": 3
      },
      "file_extension": ".py",
      "mimetype": "text/x-python",
      "name": "python",
      "nbconvert_exporter": "python",
      "pygments_lexer": "ipython3",
      "version": "3.6.9"
    },
    "widgets": {
      "application/vnd.jupyter.widget-state+json": {
        "b953f89fbe5f4cb188720640e2ddc9c6": {
          "model_module": "@jupyter-widgets/controls",
          "model_name": "HBoxModel",
          "state": {
            "_view_name": "HBoxView",
            "_dom_classes": [],
            "_model_name": "HBoxModel",
            "_view_module": "@jupyter-widgets/controls",
            "_model_module_version": "1.5.0",
            "_view_count": null,
            "_view_module_version": "1.5.0",
            "box_style": "",
            "layout": "IPY_MODEL_43a7f51bfdbd49bd97c99be6fb629cac",
            "_model_module": "@jupyter-widgets/controls",
            "children": [
              "IPY_MODEL_f76fd291f18f4f98903945604b78df52",
              "IPY_MODEL_5e3d4ae2a69a4fef972169110c35f53c"
            ]
          }
        },
        "43a7f51bfdbd49bd97c99be6fb629cac": {
          "model_module": "@jupyter-widgets/base",
          "model_name": "LayoutModel",
          "state": {
            "_view_name": "LayoutView",
            "grid_template_rows": null,
            "right": null,
            "justify_content": null,
            "_view_module": "@jupyter-widgets/base",
            "overflow": null,
            "_model_module_version": "1.2.0",
            "_view_count": null,
            "flex_flow": null,
            "width": null,
            "min_width": null,
            "border": null,
            "align_items": null,
            "bottom": null,
            "_model_module": "@jupyter-widgets/base",
            "top": null,
            "grid_column": null,
            "overflow_y": null,
            "overflow_x": null,
            "grid_auto_flow": null,
            "grid_area": null,
            "grid_template_columns": null,
            "flex": null,
            "_model_name": "LayoutModel",
            "justify_items": null,
            "grid_row": null,
            "max_height": null,
            "align_content": null,
            "visibility": null,
            "align_self": null,
            "height": null,
            "min_height": null,
            "padding": null,
            "grid_auto_rows": null,
            "grid_gap": null,
            "max_width": null,
            "order": null,
            "_view_module_version": "1.2.0",
            "grid_template_areas": null,
            "object_position": null,
            "object_fit": null,
            "grid_auto_columns": null,
            "margin": null,
            "display": null,
            "left": null
          }
        },
        "f76fd291f18f4f98903945604b78df52": {
          "model_module": "@jupyter-widgets/controls",
          "model_name": "IntProgressModel",
          "state": {
            "_view_name": "ProgressView",
            "style": "IPY_MODEL_c57529290112464eb78890134f935ec7",
            "_dom_classes": [],
            "description": "",
            "_model_name": "IntProgressModel",
            "bar_style": "success",
            "max": 49626,
            "_view_module": "@jupyter-widgets/controls",
            "_model_module_version": "1.5.0",
            "value": 49626,
            "_view_count": null,
            "_view_module_version": "1.5.0",
            "orientation": "horizontal",
            "min": 0,
            "description_tooltip": null,
            "_model_module": "@jupyter-widgets/controls",
            "layout": "IPY_MODEL_e49128ae78084141b657682383a29347"
          }
        },
        "5e3d4ae2a69a4fef972169110c35f53c": {
          "model_module": "@jupyter-widgets/controls",
          "model_name": "HTMLModel",
          "state": {
            "_view_name": "HTMLView",
            "style": "IPY_MODEL_b2196fcd59d84ee09dca87f12ad086a9",
            "_dom_classes": [],
            "description": "",
            "_model_name": "HTMLModel",
            "placeholder": "​",
            "_view_module": "@jupyter-widgets/controls",
            "_model_module_version": "1.5.0",
            "value": "100% 49626/49626 [00:41&lt;00:00, 1209.07it/s]",
            "_view_count": null,
            "_view_module_version": "1.5.0",
            "description_tooltip": null,
            "_model_module": "@jupyter-widgets/controls",
            "layout": "IPY_MODEL_b0e6593744b640619b11fac62379e130"
          }
        },
        "c57529290112464eb78890134f935ec7": {
          "model_module": "@jupyter-widgets/controls",
          "model_name": "ProgressStyleModel",
          "state": {
            "_view_name": "StyleView",
            "_model_name": "ProgressStyleModel",
            "description_width": "",
            "_view_module": "@jupyter-widgets/base",
            "_model_module_version": "1.5.0",
            "_view_count": null,
            "_view_module_version": "1.2.0",
            "bar_color": null,
            "_model_module": "@jupyter-widgets/controls"
          }
        },
        "e49128ae78084141b657682383a29347": {
          "model_module": "@jupyter-widgets/base",
          "model_name": "LayoutModel",
          "state": {
            "_view_name": "LayoutView",
            "grid_template_rows": null,
            "right": null,
            "justify_content": null,
            "_view_module": "@jupyter-widgets/base",
            "overflow": null,
            "_model_module_version": "1.2.0",
            "_view_count": null,
            "flex_flow": null,
            "width": null,
            "min_width": null,
            "border": null,
            "align_items": null,
            "bottom": null,
            "_model_module": "@jupyter-widgets/base",
            "top": null,
            "grid_column": null,
            "overflow_y": null,
            "overflow_x": null,
            "grid_auto_flow": null,
            "grid_area": null,
            "grid_template_columns": null,
            "flex": null,
            "_model_name": "LayoutModel",
            "justify_items": null,
            "grid_row": null,
            "max_height": null,
            "align_content": null,
            "visibility": null,
            "align_self": null,
            "height": null,
            "min_height": null,
            "padding": null,
            "grid_auto_rows": null,
            "grid_gap": null,
            "max_width": null,
            "order": null,
            "_view_module_version": "1.2.0",
            "grid_template_areas": null,
            "object_position": null,
            "object_fit": null,
            "grid_auto_columns": null,
            "margin": null,
            "display": null,
            "left": null
          }
        },
        "b2196fcd59d84ee09dca87f12ad086a9": {
          "model_module": "@jupyter-widgets/controls",
          "model_name": "DescriptionStyleModel",
          "state": {
            "_view_name": "StyleView",
            "_model_name": "DescriptionStyleModel",
            "description_width": "",
            "_view_module": "@jupyter-widgets/base",
            "_model_module_version": "1.5.0",
            "_view_count": null,
            "_view_module_version": "1.2.0",
            "_model_module": "@jupyter-widgets/controls"
          }
        },
        "b0e6593744b640619b11fac62379e130": {
          "model_module": "@jupyter-widgets/base",
          "model_name": "LayoutModel",
          "state": {
            "_view_name": "LayoutView",
            "grid_template_rows": null,
            "right": null,
            "justify_content": null,
            "_view_module": "@jupyter-widgets/base",
            "overflow": null,
            "_model_module_version": "1.2.0",
            "_view_count": null,
            "flex_flow": null,
            "width": null,
            "min_width": null,
            "border": null,
            "align_items": null,
            "bottom": null,
            "_model_module": "@jupyter-widgets/base",
            "top": null,
            "grid_column": null,
            "overflow_y": null,
            "overflow_x": null,
            "grid_auto_flow": null,
            "grid_area": null,
            "grid_template_columns": null,
            "flex": null,
            "_model_name": "LayoutModel",
            "justify_items": null,
            "grid_row": null,
            "max_height": null,
            "align_content": null,
            "visibility": null,
            "align_self": null,
            "height": null,
            "min_height": null,
            "padding": null,
            "grid_auto_rows": null,
            "grid_gap": null,
            "max_width": null,
            "order": null,
            "_view_module_version": "1.2.0",
            "grid_template_areas": null,
            "object_position": null,
            "object_fit": null,
            "grid_auto_columns": null,
            "margin": null,
            "display": null,
            "left": null
          }
        },
        "1bc030b251c14877b98a3ac271fce644": {
          "model_module": "@jupyter-widgets/controls",
          "model_name": "HBoxModel",
          "state": {
            "_view_name": "HBoxView",
            "_dom_classes": [],
            "_model_name": "HBoxModel",
            "_view_module": "@jupyter-widgets/controls",
            "_model_module_version": "1.5.0",
            "_view_count": null,
            "_view_module_version": "1.5.0",
            "box_style": "",
            "layout": "IPY_MODEL_d9b350c708774ae2bfb1f2206310db7c",
            "_model_module": "@jupyter-widgets/controls",
            "children": [
              "IPY_MODEL_aaa453ee671e4d129a820f1ee3ddd8e7",
              "IPY_MODEL_58c9a504558f4d6993df3a2db48653a5"
            ]
          }
        },
        "d9b350c708774ae2bfb1f2206310db7c": {
          "model_module": "@jupyter-widgets/base",
          "model_name": "LayoutModel",
          "state": {
            "_view_name": "LayoutView",
            "grid_template_rows": null,
            "right": null,
            "justify_content": null,
            "_view_module": "@jupyter-widgets/base",
            "overflow": null,
            "_model_module_version": "1.2.0",
            "_view_count": null,
            "flex_flow": null,
            "width": null,
            "min_width": null,
            "border": null,
            "align_items": null,
            "bottom": null,
            "_model_module": "@jupyter-widgets/base",
            "top": null,
            "grid_column": null,
            "overflow_y": null,
            "overflow_x": null,
            "grid_auto_flow": null,
            "grid_area": null,
            "grid_template_columns": null,
            "flex": null,
            "_model_name": "LayoutModel",
            "justify_items": null,
            "grid_row": null,
            "max_height": null,
            "align_content": null,
            "visibility": null,
            "align_self": null,
            "height": null,
            "min_height": null,
            "padding": null,
            "grid_auto_rows": null,
            "grid_gap": null,
            "max_width": null,
            "order": null,
            "_view_module_version": "1.2.0",
            "grid_template_areas": null,
            "object_position": null,
            "object_fit": null,
            "grid_auto_columns": null,
            "margin": null,
            "display": null,
            "left": null
          }
        },
        "aaa453ee671e4d129a820f1ee3ddd8e7": {
          "model_module": "@jupyter-widgets/controls",
          "model_name": "IntProgressModel",
          "state": {
            "_view_name": "ProgressView",
            "style": "IPY_MODEL_85ceb41e262044a9ac0fea59fa2d57a1",
            "_dom_classes": [],
            "description": "",
            "_model_name": "IntProgressModel",
            "bar_style": "success",
            "max": 12209,
            "_view_module": "@jupyter-widgets/controls",
            "_model_module_version": "1.5.0",
            "value": 12209,
            "_view_count": null,
            "_view_module_version": "1.5.0",
            "orientation": "horizontal",
            "min": 0,
            "description_tooltip": null,
            "_model_module": "@jupyter-widgets/controls",
            "layout": "IPY_MODEL_38ed69d9671346a89ad6f334257da156"
          }
        },
        "58c9a504558f4d6993df3a2db48653a5": {
          "model_module": "@jupyter-widgets/controls",
          "model_name": "HTMLModel",
          "state": {
            "_view_name": "HTMLView",
            "style": "IPY_MODEL_dedb6cca7fd14bdb92758fff90fec98e",
            "_dom_classes": [],
            "description": "",
            "_model_name": "HTMLModel",
            "placeholder": "​",
            "_view_module": "@jupyter-widgets/controls",
            "_model_module_version": "1.5.0",
            "value": "100% 12209/12209 [00:10&lt;00:00, 1114.56it/s]",
            "_view_count": null,
            "_view_module_version": "1.5.0",
            "description_tooltip": null,
            "_model_module": "@jupyter-widgets/controls",
            "layout": "IPY_MODEL_819451348dbc4977bbf820cd5471982a"
          }
        },
        "85ceb41e262044a9ac0fea59fa2d57a1": {
          "model_module": "@jupyter-widgets/controls",
          "model_name": "ProgressStyleModel",
          "state": {
            "_view_name": "StyleView",
            "_model_name": "ProgressStyleModel",
            "description_width": "",
            "_view_module": "@jupyter-widgets/base",
            "_model_module_version": "1.5.0",
            "_view_count": null,
            "_view_module_version": "1.2.0",
            "bar_color": null,
            "_model_module": "@jupyter-widgets/controls"
          }
        },
        "38ed69d9671346a89ad6f334257da156": {
          "model_module": "@jupyter-widgets/base",
          "model_name": "LayoutModel",
          "state": {
            "_view_name": "LayoutView",
            "grid_template_rows": null,
            "right": null,
            "justify_content": null,
            "_view_module": "@jupyter-widgets/base",
            "overflow": null,
            "_model_module_version": "1.2.0",
            "_view_count": null,
            "flex_flow": null,
            "width": null,
            "min_width": null,
            "border": null,
            "align_items": null,
            "bottom": null,
            "_model_module": "@jupyter-widgets/base",
            "top": null,
            "grid_column": null,
            "overflow_y": null,
            "overflow_x": null,
            "grid_auto_flow": null,
            "grid_area": null,
            "grid_template_columns": null,
            "flex": null,
            "_model_name": "LayoutModel",
            "justify_items": null,
            "grid_row": null,
            "max_height": null,
            "align_content": null,
            "visibility": null,
            "align_self": null,
            "height": null,
            "min_height": null,
            "padding": null,
            "grid_auto_rows": null,
            "grid_gap": null,
            "max_width": null,
            "order": null,
            "_view_module_version": "1.2.0",
            "grid_template_areas": null,
            "object_position": null,
            "object_fit": null,
            "grid_auto_columns": null,
            "margin": null,
            "display": null,
            "left": null
          }
        },
        "dedb6cca7fd14bdb92758fff90fec98e": {
          "model_module": "@jupyter-widgets/controls",
          "model_name": "DescriptionStyleModel",
          "state": {
            "_view_name": "StyleView",
            "_model_name": "DescriptionStyleModel",
            "description_width": "",
            "_view_module": "@jupyter-widgets/base",
            "_model_module_version": "1.5.0",
            "_view_count": null,
            "_view_module_version": "1.2.0",
            "_model_module": "@jupyter-widgets/controls"
          }
        },
        "819451348dbc4977bbf820cd5471982a": {
          "model_module": "@jupyter-widgets/base",
          "model_name": "LayoutModel",
          "state": {
            "_view_name": "LayoutView",
            "grid_template_rows": null,
            "right": null,
            "justify_content": null,
            "_view_module": "@jupyter-widgets/base",
            "overflow": null,
            "_model_module_version": "1.2.0",
            "_view_count": null,
            "flex_flow": null,
            "width": null,
            "min_width": null,
            "border": null,
            "align_items": null,
            "bottom": null,
            "_model_module": "@jupyter-widgets/base",
            "top": null,
            "grid_column": null,
            "overflow_y": null,
            "overflow_x": null,
            "grid_auto_flow": null,
            "grid_area": null,
            "grid_template_columns": null,
            "flex": null,
            "_model_name": "LayoutModel",
            "justify_items": null,
            "grid_row": null,
            "max_height": null,
            "align_content": null,
            "visibility": null,
            "align_self": null,
            "height": null,
            "min_height": null,
            "padding": null,
            "grid_auto_rows": null,
            "grid_gap": null,
            "max_width": null,
            "order": null,
            "_view_module_version": "1.2.0",
            "grid_template_areas": null,
            "object_position": null,
            "object_fit": null,
            "grid_auto_columns": null,
            "margin": null,
            "display": null,
            "left": null
          }
        },
        "fe98e46d922c4532942cf832efcec7df": {
          "model_module": "@jupyter-widgets/controls",
          "model_name": "HBoxModel",
          "state": {
            "_view_name": "HBoxView",
            "_dom_classes": [],
            "_model_name": "HBoxModel",
            "_view_module": "@jupyter-widgets/controls",
            "_model_module_version": "1.5.0",
            "_view_count": null,
            "_view_module_version": "1.5.0",
            "box_style": "",
            "layout": "IPY_MODEL_ca53c02badf14667a9d4b9498ed36508",
            "_model_module": "@jupyter-widgets/controls",
            "children": [
              "IPY_MODEL_c15f4faa54374b4daed7b4d694b60efb",
              "IPY_MODEL_48c85f51e42942cfa6bd7e2f42159cd4"
            ]
          }
        },
        "ca53c02badf14667a9d4b9498ed36508": {
          "model_module": "@jupyter-widgets/base",
          "model_name": "LayoutModel",
          "state": {
            "_view_name": "LayoutView",
            "grid_template_rows": null,
            "right": null,
            "justify_content": null,
            "_view_module": "@jupyter-widgets/base",
            "overflow": null,
            "_model_module_version": "1.2.0",
            "_view_count": null,
            "flex_flow": null,
            "width": null,
            "min_width": null,
            "border": null,
            "align_items": null,
            "bottom": null,
            "_model_module": "@jupyter-widgets/base",
            "top": null,
            "grid_column": null,
            "overflow_y": null,
            "overflow_x": null,
            "grid_auto_flow": null,
            "grid_area": null,
            "grid_template_columns": null,
            "flex": null,
            "_model_name": "LayoutModel",
            "justify_items": null,
            "grid_row": null,
            "max_height": null,
            "align_content": null,
            "visibility": null,
            "align_self": null,
            "height": null,
            "min_height": null,
            "padding": null,
            "grid_auto_rows": null,
            "grid_gap": null,
            "max_width": null,
            "order": null,
            "_view_module_version": "1.2.0",
            "grid_template_areas": null,
            "object_position": null,
            "object_fit": null,
            "grid_auto_columns": null,
            "margin": null,
            "display": null,
            "left": null
          }
        },
        "c15f4faa54374b4daed7b4d694b60efb": {
          "model_module": "@jupyter-widgets/controls",
          "model_name": "IntProgressModel",
          "state": {
            "_view_name": "ProgressView",
            "style": "IPY_MODEL_d29bbc6baad64234b88567ec014469b0",
            "_dom_classes": [],
            "description": "",
            "_model_name": "IntProgressModel",
            "bar_style": "success",
            "max": 96,
            "_view_module": "@jupyter-widgets/controls",
            "_model_module_version": "1.5.0",
            "value": 96,
            "_view_count": null,
            "_view_module_version": "1.5.0",
            "orientation": "horizontal",
            "min": 0,
            "description_tooltip": null,
            "_model_module": "@jupyter-widgets/controls",
            "layout": "IPY_MODEL_7848e423ee25456685b932437c4bad6d"
          }
        },
        "48c85f51e42942cfa6bd7e2f42159cd4": {
          "model_module": "@jupyter-widgets/controls",
          "model_name": "HTMLModel",
          "state": {
            "_view_name": "HTMLView",
            "style": "IPY_MODEL_7c7d8fb4eb6c476c8b91abd1123003c2",
            "_dom_classes": [],
            "description": "",
            "_model_name": "HTMLModel",
            "placeholder": "​",
            "_view_module": "@jupyter-widgets/controls",
            "_model_module_version": "1.5.0",
            "value": "100% 96/96 [01:31&lt;00:00,  1.34it/s]",
            "_view_count": null,
            "_view_module_version": "1.5.0",
            "description_tooltip": null,
            "_model_module": "@jupyter-widgets/controls",
            "layout": "IPY_MODEL_a88c3129521348e6b40fabd389f98866"
          }
        },
        "d29bbc6baad64234b88567ec014469b0": {
          "model_module": "@jupyter-widgets/controls",
          "model_name": "ProgressStyleModel",
          "state": {
            "_view_name": "StyleView",
            "_model_name": "ProgressStyleModel",
            "description_width": "",
            "_view_module": "@jupyter-widgets/base",
            "_model_module_version": "1.5.0",
            "_view_count": null,
            "_view_module_version": "1.2.0",
            "bar_color": null,
            "_model_module": "@jupyter-widgets/controls"
          }
        },
        "7848e423ee25456685b932437c4bad6d": {
          "model_module": "@jupyter-widgets/base",
          "model_name": "LayoutModel",
          "state": {
            "_view_name": "LayoutView",
            "grid_template_rows": null,
            "right": null,
            "justify_content": null,
            "_view_module": "@jupyter-widgets/base",
            "overflow": null,
            "_model_module_version": "1.2.0",
            "_view_count": null,
            "flex_flow": null,
            "width": null,
            "min_width": null,
            "border": null,
            "align_items": null,
            "bottom": null,
            "_model_module": "@jupyter-widgets/base",
            "top": null,
            "grid_column": null,
            "overflow_y": null,
            "overflow_x": null,
            "grid_auto_flow": null,
            "grid_area": null,
            "grid_template_columns": null,
            "flex": null,
            "_model_name": "LayoutModel",
            "justify_items": null,
            "grid_row": null,
            "max_height": null,
            "align_content": null,
            "visibility": null,
            "align_self": null,
            "height": null,
            "min_height": null,
            "padding": null,
            "grid_auto_rows": null,
            "grid_gap": null,
            "max_width": null,
            "order": null,
            "_view_module_version": "1.2.0",
            "grid_template_areas": null,
            "object_position": null,
            "object_fit": null,
            "grid_auto_columns": null,
            "margin": null,
            "display": null,
            "left": null
          }
        },
        "7c7d8fb4eb6c476c8b91abd1123003c2": {
          "model_module": "@jupyter-widgets/controls",
          "model_name": "DescriptionStyleModel",
          "state": {
            "_view_name": "StyleView",
            "_model_name": "DescriptionStyleModel",
            "description_width": "",
            "_view_module": "@jupyter-widgets/base",
            "_model_module_version": "1.5.0",
            "_view_count": null,
            "_view_module_version": "1.2.0",
            "_model_module": "@jupyter-widgets/controls"
          }
        },
        "a88c3129521348e6b40fabd389f98866": {
          "model_module": "@jupyter-widgets/base",
          "model_name": "LayoutModel",
          "state": {
            "_view_name": "LayoutView",
            "grid_template_rows": null,
            "right": null,
            "justify_content": null,
            "_view_module": "@jupyter-widgets/base",
            "overflow": null,
            "_model_module_version": "1.2.0",
            "_view_count": null,
            "flex_flow": null,
            "width": null,
            "min_width": null,
            "border": null,
            "align_items": null,
            "bottom": null,
            "_model_module": "@jupyter-widgets/base",
            "top": null,
            "grid_column": null,
            "overflow_y": null,
            "overflow_x": null,
            "grid_auto_flow": null,
            "grid_area": null,
            "grid_template_columns": null,
            "flex": null,
            "_model_name": "LayoutModel",
            "justify_items": null,
            "grid_row": null,
            "max_height": null,
            "align_content": null,
            "visibility": null,
            "align_self": null,
            "height": null,
            "min_height": null,
            "padding": null,
            "grid_auto_rows": null,
            "grid_gap": null,
            "max_width": null,
            "order": null,
            "_view_module_version": "1.2.0",
            "grid_template_areas": null,
            "object_position": null,
            "object_fit": null,
            "grid_auto_columns": null,
            "margin": null,
            "display": null,
            "left": null
          }
        },
        "d3521222855d4909b920881030cb5110": {
          "model_module": "@jupyter-widgets/controls",
          "model_name": "HBoxModel",
          "state": {
            "_view_name": "HBoxView",
            "_dom_classes": [],
            "_model_name": "HBoxModel",
            "_view_module": "@jupyter-widgets/controls",
            "_model_module_version": "1.5.0",
            "_view_count": null,
            "_view_module_version": "1.5.0",
            "box_style": "",
            "layout": "IPY_MODEL_b68ed66db96148e5907bddd4fd2a17da",
            "_model_module": "@jupyter-widgets/controls",
            "children": [
              "IPY_MODEL_6347f97076c94d4f8b4de9c01c37fa50",
              "IPY_MODEL_211f0de185ce4e739014d7e02ddcbc39"
            ]
          }
        },
        "b68ed66db96148e5907bddd4fd2a17da": {
          "model_module": "@jupyter-widgets/base",
          "model_name": "LayoutModel",
          "state": {
            "_view_name": "LayoutView",
            "grid_template_rows": null,
            "right": null,
            "justify_content": null,
            "_view_module": "@jupyter-widgets/base",
            "overflow": null,
            "_model_module_version": "1.2.0",
            "_view_count": null,
            "flex_flow": null,
            "width": null,
            "min_width": null,
            "border": null,
            "align_items": null,
            "bottom": null,
            "_model_module": "@jupyter-widgets/base",
            "top": null,
            "grid_column": null,
            "overflow_y": null,
            "overflow_x": null,
            "grid_auto_flow": null,
            "grid_area": null,
            "grid_template_columns": null,
            "flex": null,
            "_model_name": "LayoutModel",
            "justify_items": null,
            "grid_row": null,
            "max_height": null,
            "align_content": null,
            "visibility": null,
            "align_self": null,
            "height": null,
            "min_height": null,
            "padding": null,
            "grid_auto_rows": null,
            "grid_gap": null,
            "max_width": null,
            "order": null,
            "_view_module_version": "1.2.0",
            "grid_template_areas": null,
            "object_position": null,
            "object_fit": null,
            "grid_auto_columns": null,
            "margin": null,
            "display": null,
            "left": null
          }
        },
        "6347f97076c94d4f8b4de9c01c37fa50": {
          "model_module": "@jupyter-widgets/controls",
          "model_name": "IntProgressModel",
          "state": {
            "_view_name": "ProgressView",
            "style": "IPY_MODEL_19343fb064a740e09ef70a7dd72982c4",
            "_dom_classes": [],
            "description": "",
            "_model_name": "IntProgressModel",
            "bar_style": "danger",
            "max": 96,
            "_view_module": "@jupyter-widgets/controls",
            "_model_module_version": "1.5.0",
            "value": 13,
            "_view_count": null,
            "_view_module_version": "1.5.0",
            "orientation": "horizontal",
            "min": 0,
            "description_tooltip": null,
            "_model_module": "@jupyter-widgets/controls",
            "layout": "IPY_MODEL_56dcf65ea58846fabc4fcf5b3ef97a6e"
          }
        },
        "211f0de185ce4e739014d7e02ddcbc39": {
          "model_module": "@jupyter-widgets/controls",
          "model_name": "HTMLModel",
          "state": {
            "_view_name": "HTMLView",
            "style": "IPY_MODEL_54e738d26d054d2e91379bac5c15e4b4",
            "_dom_classes": [],
            "description": "",
            "_model_name": "HTMLModel",
            "placeholder": "​",
            "_view_module": "@jupyter-widgets/controls",
            "_model_module_version": "1.5.0",
            "value": " 14% 13/96 [00:09&lt;01:03,  1.31it/s]",
            "_view_count": null,
            "_view_module_version": "1.5.0",
            "description_tooltip": null,
            "_model_module": "@jupyter-widgets/controls",
            "layout": "IPY_MODEL_67080979f86d4bc5802866d9e6a78c42"
          }
        },
        "19343fb064a740e09ef70a7dd72982c4": {
          "model_module": "@jupyter-widgets/controls",
          "model_name": "ProgressStyleModel",
          "state": {
            "_view_name": "StyleView",
            "_model_name": "ProgressStyleModel",
            "description_width": "",
            "_view_module": "@jupyter-widgets/base",
            "_model_module_version": "1.5.0",
            "_view_count": null,
            "_view_module_version": "1.2.0",
            "bar_color": null,
            "_model_module": "@jupyter-widgets/controls"
          }
        },
        "56dcf65ea58846fabc4fcf5b3ef97a6e": {
          "model_module": "@jupyter-widgets/base",
          "model_name": "LayoutModel",
          "state": {
            "_view_name": "LayoutView",
            "grid_template_rows": null,
            "right": null,
            "justify_content": null,
            "_view_module": "@jupyter-widgets/base",
            "overflow": null,
            "_model_module_version": "1.2.0",
            "_view_count": null,
            "flex_flow": null,
            "width": null,
            "min_width": null,
            "border": null,
            "align_items": null,
            "bottom": null,
            "_model_module": "@jupyter-widgets/base",
            "top": null,
            "grid_column": null,
            "overflow_y": null,
            "overflow_x": null,
            "grid_auto_flow": null,
            "grid_area": null,
            "grid_template_columns": null,
            "flex": null,
            "_model_name": "LayoutModel",
            "justify_items": null,
            "grid_row": null,
            "max_height": null,
            "align_content": null,
            "visibility": null,
            "align_self": null,
            "height": null,
            "min_height": null,
            "padding": null,
            "grid_auto_rows": null,
            "grid_gap": null,
            "max_width": null,
            "order": null,
            "_view_module_version": "1.2.0",
            "grid_template_areas": null,
            "object_position": null,
            "object_fit": null,
            "grid_auto_columns": null,
            "margin": null,
            "display": null,
            "left": null
          }
        },
        "54e738d26d054d2e91379bac5c15e4b4": {
          "model_module": "@jupyter-widgets/controls",
          "model_name": "DescriptionStyleModel",
          "state": {
            "_view_name": "StyleView",
            "_model_name": "DescriptionStyleModel",
            "description_width": "",
            "_view_module": "@jupyter-widgets/base",
            "_model_module_version": "1.5.0",
            "_view_count": null,
            "_view_module_version": "1.2.0",
            "_model_module": "@jupyter-widgets/controls"
          }
        },
        "67080979f86d4bc5802866d9e6a78c42": {
          "model_module": "@jupyter-widgets/base",
          "model_name": "LayoutModel",
          "state": {
            "_view_name": "LayoutView",
            "grid_template_rows": null,
            "right": null,
            "justify_content": null,
            "_view_module": "@jupyter-widgets/base",
            "overflow": null,
            "_model_module_version": "1.2.0",
            "_view_count": null,
            "flex_flow": null,
            "width": null,
            "min_width": null,
            "border": null,
            "align_items": null,
            "bottom": null,
            "_model_module": "@jupyter-widgets/base",
            "top": null,
            "grid_column": null,
            "overflow_y": null,
            "overflow_x": null,
            "grid_auto_flow": null,
            "grid_area": null,
            "grid_template_columns": null,
            "flex": null,
            "_model_name": "LayoutModel",
            "justify_items": null,
            "grid_row": null,
            "max_height": null,
            "align_content": null,
            "visibility": null,
            "align_self": null,
            "height": null,
            "min_height": null,
            "padding": null,
            "grid_auto_rows": null,
            "grid_gap": null,
            "max_width": null,
            "order": null,
            "_view_module_version": "1.2.0",
            "grid_template_areas": null,
            "object_position": null,
            "object_fit": null,
            "grid_auto_columns": null,
            "margin": null,
            "display": null,
            "left": null
          }
        }
      }
    }
  },
  "cells": [
    {
      "cell_type": "markdown",
      "metadata": {
        "id": "view-in-github",
        "colab_type": "text"
      },
      "source": [
        "<a href=\"https://colab.research.google.com/github/kushsharma2910/FGQ/blob/kush/GAN.ipynb\" target=\"_parent\"><img src=\"https://colab.research.google.com/assets/colab-badge.svg\" alt=\"Open In Colab\"/></a>"
      ]
    },
    {
      "cell_type": "code",
      "metadata": {
        "colab_type": "code",
        "collapsed": true,
        "id": "u4Ofmk-G-Nk4",
        "outputId": "ff96b1e7-8f0a-46b3-dc1a-ee4145ec89a7",
        "colab": {
          "base_uri": "https://localhost:8080/",
          "height": 125
        }
      },
      "source": [
        "from google.colab import drive\n",
        "drive.mount('/content/drive')"
      ],
      "execution_count": 1,
      "outputs": [
        {
          "output_type": "stream",
          "text": [
            "Go to this URL in a browser: https://accounts.google.com/o/oauth2/auth?client_id=947318989803-6bn6qk8qdgf4n4g3pfee6491hc0brc4i.apps.googleusercontent.com&redirect_uri=urn%3aietf%3awg%3aoauth%3a2.0%3aoob&response_type=code&scope=email%20https%3a%2f%2fwww.googleapis.com%2fauth%2fdocs.test%20https%3a%2f%2fwww.googleapis.com%2fauth%2fdrive%20https%3a%2f%2fwww.googleapis.com%2fauth%2fdrive.photos.readonly%20https%3a%2f%2fwww.googleapis.com%2fauth%2fpeopleapi.readonly\n",
            "\n",
            "Enter your authorization code:\n",
            "··········\n",
            "Mounted at /content/drive\n"
          ],
          "name": "stdout"
        }
      ]
    },
    {
      "cell_type": "code",
      "metadata": {
        "colab_type": "code",
        "id": "fSXEcqqhhBBY",
        "outputId": "861a44c4-14ce-419f-f1e0-03928c9c72fc",
        "colab": {
          "base_uri": "https://localhost:8080/",
          "height": 81
        }
      },
      "source": [
        "import tensorflow as tf\n",
        "device_name = tf.test.gpu_device_name()\n",
        "if device_name != '/device:GPU:0':\n",
        "    raise SystemError('GPU device not found')\n",
        "print('Found GPU at: {}'.format(device_name))"
      ],
      "execution_count": 2,
      "outputs": [
        {
          "output_type": "display_data",
          "data": {
            "text/html": [
              "<p style=\"color: red;\">\n",
              "The default version of TensorFlow in Colab will soon switch to TensorFlow 2.x.<br>\n",
              "We recommend you <a href=\"https://www.tensorflow.org/guide/migrate\" target=\"_blank\">upgrade</a> now \n",
              "or ensure your notebook will continue to use TensorFlow 1.x via the <code>%tensorflow_version 1.x</code> magic:\n",
              "<a href=\"https://colab.research.google.com/notebooks/tensorflow_version.ipynb\" target=\"_blank\">more info</a>.</p>\n"
            ],
            "text/plain": [
              "<IPython.core.display.HTML object>"
            ]
          },
          "metadata": {
            "tags": []
          }
        },
        {
          "output_type": "stream",
          "text": [
            "Found GPU at: /device:GPU:0\n"
          ],
          "name": "stdout"
        }
      ]
    },
    {
      "cell_type": "code",
      "metadata": {
        "colab_type": "code",
        "id": "32BpqMho9hU-",
        "outputId": "68794d2e-36a1-446f-84ef-569a633f2c41",
        "colab": {
          "base_uri": "https://localhost:8080/",
          "height": 35
        }
      },
      "source": [
        "import os\n",
        "import pandas as pd\n",
        "import numpy as np\n",
        "import matplotlib.pyplot as plt\n",
        "from sklearn.decomposition import PCA\n",
        "import os\n",
        "import time\n",
        "from tqdm._tqdm_notebook import tqdm_notebook\n",
        "import pickle\n",
        "from keras.models import Sequential, Model, load_model\n",
        "from keras.layers import Dense, Dropout, BatchNormalization, TimeDistributed, RepeatVector, Reshape, Lambda\n",
        "from keras.layers import LSTM, LeakyReLU, RepeatVector, Conv1D, MaxPooling1D, Flatten, Input, concatenate\n",
        "from keras.callbacks import ModelCheckpoint, EarlyStopping, ReduceLROnPlateau, CSVLogger\n",
        "from keras import optimizers, initializers\n",
        "from keras import backend as K\n",
        "from sklearn.preprocessing import MinMaxScaler\n",
        "from sklearn.model_selection import train_test_split\n",
        "from sklearn.metrics import mean_squared_error\n",
        "import logging\n",
        "import keras.backend.tensorflow_backend as tfb"
      ],
      "execution_count": 3,
      "outputs": [
        {
          "output_type": "stream",
          "text": [
            "Using TensorFlow backend.\n"
          ],
          "name": "stderr"
        }
      ]
    },
    {
      "cell_type": "code",
      "metadata": {
        "colab_type": "code",
        "id": "YDjFHyaS9hVF",
        "colab": {}
      },
      "source": [
        "#######################################################################################\n",
        "################################# CREATING LARGEDF  ###################################\n",
        "#######################################################################################\n",
        "\n",
        "def change_index_to_time(df):\n",
        "    if \"Time (UTC)\" in df.columns:\n",
        "      df['Time (UTC)'] = pd.to_datetime(df['Time (UTC)'])\n",
        "      df.set_index('Time (UTC)', inplace = True, drop = True)\n",
        "    \n",
        "#Finds the dataframe with largest number of time stamps and returns an empty dataframe with same index\n",
        "def create_empty_df(dir_name):\n",
        "    largest_timeframe = 0\n",
        "    path_to_largest = \"\"\n",
        "\n",
        "    for asset_class in os.listdir(dir_name):\n",
        "        for asset in os.listdir(dir_name +  \"/\" + asset_class):    \n",
        "            df = pd.read_csv(dir_name +  \"/\" + asset_class + \"/\" + asset)\n",
        "            if df.shape[0] > largest_timeframe:\n",
        "                largest_timeframe = df.shape[0]\n",
        "                path_to_largest = dir_name +  \"/\" + asset_class + \"/\" + asset\n",
        "\n",
        "    largest_dataframe = pd.read_csv(path_to_largest)\n",
        "    change_index_to_time(largest_dataframe)\n",
        "    largest_dataframe = pd.DataFrame(index = largest_dataframe.index)\n",
        "    return largest_dataframe\n",
        "\n",
        "#######################################################################################\n",
        "################################# FEATURE BUILDING  ###################################\n",
        "#######################################################################################\n",
        "\n",
        "def fill_large_df(dir_name, large_df):\n",
        "    asset67 = []\n",
        "    for asset_class in os.listdir(dir_name):\n",
        "        for asset in os.listdir(dir_name +  \"/\" + asset_class): \n",
        "            extract_name = asset.split(\"_\")\n",
        "            asset67.append(extract_name[0][:-4])\n",
        "            df = pd.read_csv(dir_name +  \"/\" + asset_class + \"/\" + asset)\n",
        "            change_index_to_time(df)\n",
        "            large_df = large_df.join(df)\n",
        "            rename_dic = {}\n",
        "            for column in df.columns:    \n",
        "                rename_dic[column] = column + \"@\" + extract_name[0][:-4]\n",
        "            large_df = large_df.rename(columns = rename_dic) \n",
        "            \n",
        "    return large_df, asset67\n",
        "\n",
        "def add_lag_features(only_feat_df):\n",
        "  lag_feat = only_feat_df.copy()\n",
        "  BASE_FEATURES = [\"Open@\" + target_asset, \"High@\" + target_asset, \"Low@\" + target_asset, \"Close@\" + target_asset]\n",
        "  N_WINDOW = [4, 24, 128, 256]\n",
        "  prevlag = 1 \n",
        "  for window in N_WINDOW:\n",
        "    rolled = lag_feat[BASE_FEATURES].shift(prevlag).rolling(window=window)\n",
        "    lag_feat = lag_feat.join(rolled.mean().add_suffix(f'_window_{window}_mean'))\n",
        "    lag_feat = lag_feat.join(rolled.max().add_suffix(f'_window_{window}_max'))\n",
        "    lag_feat = lag_feat.join(rolled.min().add_suffix(f'_window_{window}_min'))\n",
        "    lag_feat = lag_feat.join(rolled.std().add_suffix(f'_window_{window}_std'))\n",
        "  return lag_feat\n",
        "\n",
        "def remove_spread(df, target_asset):\n",
        "    target_asset_spread = []\n",
        "    features = [\"Open\", \"High\", \"Low\", \"Close\", \"Volume \"]\n",
        "\n",
        "    for feature in features:\n",
        "        target_asset_spread.append(feature + \"_spread@\" + target_asset)\n",
        "\n",
        "    remove_columns = []\n",
        "    for column in df.columns:\n",
        "        if (column not in target_asset_spread) and (\"spread\" in column):\n",
        "            remove_columns.append(column)\n",
        "\n",
        "    df = df.drop(columns = remove_columns)\n",
        "    return df\n",
        "\n",
        "def denoise_fft(df, target_asset, level):\n",
        "    features = [\"Open@\" + target_asset, \"High@\" + target_asset, \"Low@\" + target_asset, \"Close@\" + target_asset]\n",
        "    \n",
        "    for feature in features:\n",
        "        close_fft = np.fft.fft(np.asarray(df[feature].tolist()))\n",
        "        fft_df = pd.DataFrame({'fft':close_fft})\n",
        "        fft_list = np.asarray(fft_df['fft'].tolist())\n",
        "        fft_list_m10 = np.copy(fft_list)\n",
        "        fft_list_m10[level:-level] = 0\n",
        "        df[feature] = np.real(np.fft.ifft(fft_list_m10))\n",
        "\n",
        "def extract_features(large_df, target_asset, target_window, asset67, \\\n",
        "                    add_lag = False, keep_spread = True, denoise = True):\n",
        "    df = large_df.copy()\n",
        "\n",
        "    if denoise == True:\n",
        "        level = 2000\n",
        "        denoise_fft(df, target_asset, level)\n",
        "\n",
        "    #remove the spread columns of assets\n",
        "    #other than the target asset\n",
        "    if keep_spread == False:\n",
        "        df = remove_spread(df, target_asset)\n",
        "\n",
        "    #comment out this line if you \n",
        "    #don't want to use the lag features\n",
        "    if add_lag == True:\n",
        "      df = add_lag_features(df)\n",
        "\n",
        "    df[\"H-\" + str(target_window) + \"hr\" ] = df.pop(\"H-\" + str(target_window) + \"hr@\" + target_asset)\n",
        "    df[\"L-\" + str(target_window) + \"hr\" ] = df.pop(\"L-\" + str(target_window) + \"hr@\" + target_asset)\n",
        "    \n",
        "    #removing targets of assets other\n",
        "    # than the target assset\n",
        "    for asset in asset67:\n",
        "        if asset != target_asset:\n",
        "            df = df.drop(columns = [\"H-4hr@\" + asset, \"L-4hr@\" + asset, \"H-12hr@\" + asset,\n",
        "                               \"L-12hr@\" + asset, \"H-24hr@\" + asset,\"L-24hr@\" + asset])\n",
        "            \n",
        "    #this loop asserts that labels for target asset is\n",
        "    #not present for other windows\n",
        "    windows = [\"4\", \"12\", \"24\"]\n",
        "    for window in windows:\n",
        "      if window != str(target_window):\n",
        "        high = \"H-\" + window + \"hr@\" + target_asset\n",
        "        low = \"L-\" + window + \"hr@\" + target_asset\n",
        "        if high in df.columns:\n",
        "          df = df.drop(columns = [high])\n",
        "        if low in df.columns:\n",
        "          df = df.drop(columns = [low])\n",
        "\n",
        "    change_index_to_time(df)        \n",
        "    return df\n",
        "\n",
        "def normalize_df(df):\n",
        "    result = df.copy()\n",
        "    for feature_name in df.columns:\n",
        "        max_value = df[feature_name].max()\n",
        "        min_value = df[feature_name].min()\n",
        "        result[feature_name] = (df[feature_name] - min_value) / (max_value - min_value)\n",
        "    return result\n",
        "\n",
        "def standard_df(df):\n",
        "    result = df.copy()\n",
        "    for feature_name in df.columns:\n",
        "        df[feature_name] = (df[feature_name]-df[feature_name].mean()) / df[feature_name].std()\n",
        "    return result\n",
        "\n",
        "#######################################################################################\n",
        "################################# MODEL BUILDING  #####################################\n",
        "#######################################################################################\n",
        "\n",
        "\n",
        "#predicting the H as previous value\n",
        "def create_baseline(only_feat_df, direction, target_window):     \n",
        "    preds = np.array(pd.Series(only_feat_df[direction + \"-\" + str(target_window) + \"hr\"]).shift(1).bfill(axis = 0))\n",
        "    actual = np.array(only_feat_df[direction + \"-\" + str(target_window) + \"hr\"])\n",
        "    return preds, actual\n",
        "\n",
        "#######################################################################################\n",
        "############################# ACCURACY CALCULATIONS  ##################################\n",
        "#######################################################################################\n",
        "\n",
        "def acc_abs(preds, actual, tolerance):\n",
        "    tolerance /= 100\n",
        "    return np.sum(np.abs(preds/actual-1) <= tolerance) / preds.shape[0]\n",
        "\n",
        "def acc_dir(preds, actual, tolerance, direction):\n",
        "    tolerance /= 100\n",
        "    score = 0\n",
        "    for ix in range(preds.shape[0]):\n",
        "        if actual[ix] > preds[ix]*(1+tolerance)  and direction == \"H\":\n",
        "            score += 1\n",
        "        elif actual[ix] < preds[ix]*(1-tolerance)  and direction == \"L\":\n",
        "             score += 1\n",
        "    return score / preds.shape[0]\n",
        "\n",
        "def min_pips(preds, actual, opens, tolerance, pips, direction):\n",
        "    pips /= 100\n",
        "    tolerance /= 100\n",
        "    score = 0\n",
        "    for ix in range(preds.shape[0]):\n",
        "        if preds[ix] < actual[ix]*(1+tolerance)  and (direction == \"H\" and (actual[ix] - opens[ix])>=pips):\n",
        "            score += 1 \n",
        "        elif preds[ix] > actual[ix]*(1+tolerance)  and (direction == \"L\" and (opens[ix] - actual[ix])>=pips):\n",
        "             score += 1\n",
        "    return score / preds.shape[0]"
      ],
      "execution_count": 0,
      "outputs": []
    },
    {
      "cell_type": "code",
      "metadata": {
        "colab_type": "code",
        "id": "6ox-Y7o39hVJ",
        "colab": {}
      },
      "source": [
        "#name of the root directory which contains asset classes which further contain asset csv ask and bid pairs\n",
        "# dir_name = \"drive/My Drive/FGQ/Assets\"\n",
        "# large_df = create_empty_df(dir_name)"
      ],
      "execution_count": 0,
      "outputs": []
    },
    {
      "cell_type": "code",
      "metadata": {
        "colab_type": "code",
        "id": "dL0w8A809hVO",
        "colab": {}
      },
      "source": [
        "#asset67 contains the 67 selected assets which have data for more than 6 years\n",
        "# large_df_, asset67 = fill_large_df(dir_name, large_df)"
      ],
      "execution_count": 0,
      "outputs": []
    },
    {
      "cell_type": "code",
      "metadata": {
        "colab_type": "code",
        "id": "0lGdKz6O9hVS",
        "colab": {}
      },
      "source": [
        "#Filling in previous values for values in middle\n",
        "# large_df_ = large_df_.ffill(axis=0)\n",
        "\n",
        "#Filling in next value for initial nan values\n",
        "#This is used for assets which do not have initial data\n",
        "# large_df_ = large_df_.bfill(axis=0)"
      ],
      "execution_count": 0,
      "outputs": []
    },
    {
      "cell_type": "code",
      "metadata": {
        "colab_type": "code",
        "id": "Vztj-_QJ_Kah",
        "outputId": "9c88bece-bb77-4eca-829b-cff1a45d19c6",
        "colab": {
          "base_uri": "https://localhost:8080/",
          "height": 52
        }
      },
      "source": [
        "#When using google drive\n",
        "\n",
        "#to extract to the home dir\n",
        "!unzip \"drive/My Drive/FGQ/large_df_.zip\"\n",
        "large_df_ = pd.read_csv(\"large_df_.csv\")\n",
        "\n",
        "#List of assets present in large_df_\n",
        "asset67 = np.array(pd.read_csv(\"drive/My Drive/FGQ/asset67.csv\").iloc[:, 1])"
      ],
      "execution_count": 8,
      "outputs": [
        {
          "output_type": "stream",
          "text": [
            "Archive:  drive/My Drive/FGQ/large_df_.zip\n",
            "  inflating: large_df_.csv           \n"
          ],
          "name": "stdout"
        }
      ]
    },
    {
      "cell_type": "code",
      "metadata": {
        "colab_type": "code",
        "id": "EDBBD8Sn9hVX",
        "colab": {}
      },
      "source": [
        "#input variables\n",
        "target_asset = \"XAGUSD\"\n",
        "target_window = 12\n",
        "direction = \"L\"\n",
        "#give tolerance in percent\n",
        "tolerance = 0.5\n",
        "#in the xlsx file, first row and columns have been removed for efficient reading\n",
        "pip_xl = pd.read_excel(\"drive/My Drive/FGQ/Labels to Forecast.xlsx\")\n",
        "\n",
        "#querying pips\n",
        "pips = pip_xl[pip_xl[\"Label\"] == target_asset][str(target_window) + \" Hour\"].values[0]\n",
        "\n",
        "only_feat_df = extract_features(large_df_, target_asset, target_window, asset67, add_lag=False, keep_spread=False, denoise=True)"
      ],
      "execution_count": 0,
      "outputs": []
    },
    {
      "cell_type": "markdown",
      "metadata": {
        "colab_type": "text",
        "id": "IK3HAvE1Eyl4"
      },
      "source": [
        ""
      ]
    },
    {
      "cell_type": "code",
      "metadata": {
        "colab_type": "code",
        "id": "57UvZ4hIqzXP",
        "colab": {}
      },
      "source": [
        "# preds, actual = create_baseline(only_feat_df, direction, target_window)\n",
        "\n",
        "# #calculate accuracies\n",
        "# print(acc_abs(preds, actual, tolerance))\n",
        "# print(acc_dir(preds, actual, tolerance, direction))\n",
        "# print(min_pips(preds, actual, only_feat_df[\"Open@\" + target_asset], tolerance, pips, direction))"
      ],
      "execution_count": 0,
      "outputs": []
    },
    {
      "cell_type": "code",
      "metadata": {
        "colab_type": "code",
        "id": "fA2iL8KQkUJb",
        "outputId": "b4cd2e2c-8c29-4861-8019-1a7d5c1ce8bc",
        "colab": {
          "base_uri": "https://localhost:8080/",
          "height": 35
        }
      },
      "source": [
        "features = [\"Open@\" + target_asset, \"High@\" + target_asset, \"Low@\" + target_asset, \"Close@\" + target_asset, direction + \"-\" + str(target_window) + \"hr\"]\n",
        "\n",
        "# features = []\n",
        "# for feature in only_feat_df.columns:\n",
        "#     if target_asset in feature:\n",
        "#         features.append(feature)\n",
        "# features.append(direction + \"-\" + str(target_window) + \"hr\")\n",
        "\n",
        "only_norm = normalize_df(only_feat_df[features])\n",
        "# only_norm = standard_df(only_feat_df[features])\n",
        "\n",
        "#using only half training data for faster training\n",
        "split = int(0.5 * only_norm.shape[0])\n",
        "only_norm = only_norm.iloc[:split, :]\n",
        "\n",
        "print(only_norm.shape)"
      ],
      "execution_count": 11,
      "outputs": [
        {
          "output_type": "stream",
          "text": [
            "(62363, 5)\n"
          ],
          "name": "stdout"
        }
      ]
    },
    {
      "cell_type": "code",
      "metadata": {
        "colab_type": "code",
        "id": "_FdLD68SEu3e",
        "colab": {}
      },
      "source": [
        "os.environ['TF_CPP_MIN_LOG_LEVEL'] = '2'\n",
        "logging.getLogger(\"tensorflow\").setLevel(logging.ERROR)\n",
        "\n",
        "params = {\n",
        "    \"batch_size\": 512, \n",
        "    \"epochs\": 150,\n",
        "    \"lr_g\": 0.00070000,\n",
        "    \"lr_d\": 0.00700000,\n",
        "    \"time_steps\": 256,\n",
        "    #\"n_outputs\" : 2*target_window\n",
        "    \"n_outputs\" : 8\n",
        "}\n",
        "\n",
        "OUTPUT_PATH = \"drive/My Drive/FGQ/models/\"\n",
        "TIME_STEPS = params[\"time_steps\"]\n",
        "BATCH_SIZE = params[\"batch_size\"]\n",
        "N_OUTPUTS = params[\"n_outputs\"]\n",
        "\n",
        "def trim_dataset(x_t,batch_size):\n",
        "    no_of_rows_drop = x_t.shape[0]%batch_size\n",
        "    if no_of_rows_drop > 0:\n",
        "        return x_t[:-no_of_rows_drop]\n",
        "    else:\n",
        "        return x_t\n",
        "\n",
        "def build_timeseries(only_norm):\n",
        "    temp_dir = direction\n",
        "    if temp_dir == \"H\":\n",
        "        temp_dir = \"High@\"\n",
        "    else:\n",
        "        temp_dir = \"Low@\"\n",
        "    Y = only_norm[temp_dir + target_asset]\n",
        "    dim_0 = only_norm.shape[0] - N_OUTPUTS - TIME_STEPS\n",
        "    dim_1 = only_norm.shape[1]-1\n",
        "    x = np.zeros((dim_0, TIME_STEPS, dim_1))\n",
        "    y = np.zeros((dim_0, N_OUTPUTS))\n",
        "    target_prices = np.zeros((dim_0, ))\n",
        "    for i in tqdm_notebook(range(dim_0)):\n",
        "        x[i] = only_norm.iloc[i:TIME_STEPS+i, :-1]\n",
        "        y[i] = Y[TIME_STEPS+i : TIME_STEPS+i+N_OUTPUTS]\n",
        "        target_prices[i] = only_norm[direction + \"-\" + str(target_window) + \"hr\"].iloc[i+TIME_STEPS]\n",
        "    return x, y, target_prices"
      ],
      "execution_count": 0,
      "outputs": []
    },
    {
      "cell_type": "code",
      "metadata": {
        "id": "D_7NyhVwLJLM",
        "colab_type": "code",
        "colab": {}
      },
      "source": [
        "feat_to_ind = {\n",
        "    'O' : 0,\n",
        "    'H' : 1,\n",
        "    'L' : 2,\n",
        "    'C' : 3\n",
        "}"
      ],
      "execution_count": 0,
      "outputs": []
    },
    {
      "cell_type": "code",
      "metadata": {
        "id": "BSJwYMpZ-lE-",
        "colab_type": "code",
        "colab": {}
      },
      "source": [
        "def create_generator():\n",
        "    generator = Sequential()\n",
        "    generator.add(LSTM(50, input_shape=(TIME_STEPS, x_t.shape[2]), dropout=0.2, recurrent_dropout=0.2, stateful=False, kernel_initializer='zeros'))\n",
        "    generator.add(RepeatVector(N_OUTPUTS))\n",
        "    generator.add(LSTM(25, return_sequences=True))\n",
        "    # generator.add(TimeDistributed(Dense(16, activation='relu')))\n",
        "    generator.add(TimeDistributed(Dense(1)))\n",
        "    optimizer = optimizers.Adam(lr=params[\"lr_g\"])\n",
        "    generator.compile(loss='mse', optimizer=optimizer)\n",
        "    return generator\n",
        "\n",
        "def create_discriminator():\n",
        "    discriminator = Sequential()\n",
        "    discriminator.add(Conv1D(8, kernel_size=3, strides=2, padding = 'same', input_shape=(N_OUTPUTS + TIME_STEPS, 1), \n",
        "                            kernel_initializer=initializers.RandomNormal(stddev=0.02)))\n",
        "    discriminator.add(LeakyReLU(alpha = 0.01))\n",
        "    discriminator.add(Conv1D(16, kernel_size=3, strides=2, padding = 'same'))\n",
        "    discriminator.add(LeakyReLU(alpha = 0.01))\n",
        "    discriminator.add(BatchNormalization())\n",
        "    discriminator.add(Dropout(0.2))\n",
        "    discriminator.add(MaxPooling1D(pool_size=2))\n",
        "    discriminator.add(Flatten())\n",
        "    discriminator.add(Dense(50, activation='relu'))\n",
        "    discriminator.add(Dense(1, activation='sigmoid'))\n",
        "    optimizer = optimizers.Adam(lr=params[\"lr_d\"])\n",
        "    discriminator.compile(loss='binary_crossentropy', optimizer=optimizer)\n",
        "    return discriminator\n",
        "\n",
        "def modify(tensors):\n",
        "    return concatenate([tf.slice(tensors[0], [0, 0, feat_to_ind[direction]], [-1, -1, 1]), tensors[1]], axis = 1)\n",
        "\n",
        "def binary_crossentropy_custom(y_true, y_pred):\n",
        "    return K.mean(binary_crossentropy_custom_tf(y_true, y_pred), axis=-1)\n",
        "\n",
        "def binary_crossentropy_custom_tf(target, output, from_logits=False):\n",
        "    \"\"\"Binary crossentropy between an output tensor and a target tensor.\n",
        "\n",
        "    # Arguments\n",
        "        target: A tensor with the same shape as `output`.\n",
        "        output: A tensor.\n",
        "        from_logits: Whether `output` is expected to be a logits tensor.\n",
        "            By default, we consider that `output`\n",
        "            encodes a probability distribution.\n",
        "\n",
        "    # Returns\n",
        "        A tensor.\n",
        "    \"\"\"\n",
        "    # Note: tf.nn.sigmoid_cross_entropy_with_logits\n",
        "    # expects logits, Keras expects probabilities.\n",
        "    if not from_logits:\n",
        "        # transform back to logits\n",
        "        _epsilon = tfb._to_tensor(tfb.epsilon(), output.dtype.base_dtype)\n",
        "        output = tf.clip_by_value(output, _epsilon, 1 - _epsilon)\n",
        "        output = tf.log(output / (1 - output))\n",
        "\n",
        "    return tf.nn.sigmoid_cross_entropy_with_logits(labels=target,\n",
        "                                                   logits=output)\n",
        "\n",
        "# def custom_loss():\n",
        "#     _EPSILON = K.epsilon()\n",
        "#     def loss(y_true,y_pred):\n",
        "#         y_pred = K.constant(y_pred) if not K.is_tensor(y_pred) else y_pred\n",
        "#         y_true = K.cast(y_true, y_pred.dtype)\n",
        "#         return K.mean(\n",
        "#             K.binary_crossentropy(y_true, y_pred, axis=-1)\n",
        "\n",
        "#     return loss\n",
        "\n",
        "def create_gan(generator, discriminator):\n",
        "    discriminator.trainable = False\n",
        "    ganInput = Input(shape=(TIME_STEPS, x_t.shape[2]))\n",
        "    x = generator(ganInput)\n",
        "    mod_x = Lambda(modify)([ganInput, x])\n",
        "    ganOutput = discriminator(mod_x)\n",
        "    gan = Model(inputs=ganInput, outputs=ganOutput)\n",
        "    optimizer = optimizers.Adam(lr=params[\"lr_g\"])\n",
        "    gan.compile(loss = binary_crossentropy_custom, optimizer=optimizer, metrics =['binary_accuracy'])\n",
        "    return gan"
      ],
      "execution_count": 0,
      "outputs": []
    },
    {
      "cell_type": "code",
      "metadata": {
        "colab_type": "code",
        "id": "ogLeUxBGvKiH",
        "outputId": "35219a79-2cf3-49ff-ffe4-dd44d25e59a2",
        "colab": {
          "base_uri": "https://localhost:8080/",
          "height": 169,
          "referenced_widgets": [
            "b953f89fbe5f4cb188720640e2ddc9c6",
            "43a7f51bfdbd49bd97c99be6fb629cac",
            "f76fd291f18f4f98903945604b78df52",
            "5e3d4ae2a69a4fef972169110c35f53c",
            "c57529290112464eb78890134f935ec7",
            "e49128ae78084141b657682383a29347",
            "b2196fcd59d84ee09dca87f12ad086a9",
            "b0e6593744b640619b11fac62379e130",
            "1bc030b251c14877b98a3ac271fce644",
            "d9b350c708774ae2bfb1f2206310db7c",
            "aaa453ee671e4d129a820f1ee3ddd8e7",
            "58c9a504558f4d6993df3a2db48653a5",
            "85ceb41e262044a9ac0fea59fa2d57a1",
            "38ed69d9671346a89ad6f334257da156",
            "dedb6cca7fd14bdb92758fff90fec98e",
            "819451348dbc4977bbf820cd5471982a"
          ]
        }
      },
      "source": [
        "df_train, df_test = train_test_split(only_norm, train_size=0.8, test_size=0.2, shuffle=False)\n",
        "print(\"Train--Test size\", len(df_train), len(df_test))\n",
        "\n",
        "x_t, y_t, target_prices_t = build_timeseries(df_train)\n",
        "x_t = trim_dataset(x_t, BATCH_SIZE)\n",
        "y_t = trim_dataset(y_t, BATCH_SIZE)\n",
        "target_prices_t = trim_dataset(target_prices_t, BATCH_SIZE)\n",
        "print(\"Batch trimmed size\",x_t.shape, y_t.shape)\n",
        "\n",
        "x_temp, y_temp, target_prices_temp = build_timeseries(df_test)\n",
        "x_val, x_test_t = np.split(trim_dataset(x_temp, BATCH_SIZE),2)\n",
        "y_val, y_test_t = np.split(trim_dataset(y_temp, BATCH_SIZE),2)\n",
        "target_prices_val, target_prices_test_t = np.split(trim_dataset(target_prices_temp, BATCH_SIZE),2)\n",
        "\n",
        "x_val = trim_dataset(x_val, BATCH_SIZE)\n",
        "y_val = trim_dataset(y_val, BATCH_SIZE)\n",
        "target_prices_val = trim_dataset(target_prices_val, BATCH_SIZE)\n",
        "\n",
        "x_test_t = trim_dataset(x_test_t, BATCH_SIZE)\n",
        "y_test_t = trim_dataset(y_test_t, BATCH_SIZE)\n",
        "target_prices_test_t = trim_dataset(target_prices_t, BATCH_SIZE)\n",
        "\n",
        "print(\"Test size\", x_test_t.shape, y_test_t.shape, x_val.shape, y_val.shape)"
      ],
      "execution_count": 15,
      "outputs": [
        {
          "output_type": "stream",
          "text": [
            "Train--Test size 49890 12473\n"
          ],
          "name": "stdout"
        },
        {
          "output_type": "display_data",
          "data": {
            "application/vnd.jupyter.widget-view+json": {
              "model_id": "b953f89fbe5f4cb188720640e2ddc9c6",
              "version_minor": 0,
              "version_major": 2
            },
            "text/plain": [
              "HBox(children=(IntProgress(value=0, max=49626), HTML(value='')))"
            ]
          },
          "metadata": {
            "tags": []
          }
        },
        {
          "output_type": "stream",
          "text": [
            "\n",
            "Batch trimmed size (49152, 256, 4) (49152, 8)\n"
          ],
          "name": "stdout"
        },
        {
          "output_type": "display_data",
          "data": {
            "application/vnd.jupyter.widget-view+json": {
              "model_id": "1bc030b251c14877b98a3ac271fce644",
              "version_minor": 0,
              "version_major": 2
            },
            "text/plain": [
              "HBox(children=(IntProgress(value=0, max=12209), HTML(value='')))"
            ]
          },
          "metadata": {
            "tags": []
          }
        },
        {
          "output_type": "stream",
          "text": [
            "\n",
            "Test size (5632, 256, 4) (5632, 8) (5632, 256, 4) (5632, 8)\n"
          ],
          "name": "stdout"
        }
      ]
    },
    {
      "cell_type": "code",
      "metadata": {
        "id": "rt3PbABPBRUX",
        "colab_type": "code",
        "colab": {}
      },
      "source": [
        "discriminator = create_discriminator()\n",
        "generator = create_generator()\n",
        "gan = create_gan(generator, discriminator)"
      ],
      "execution_count": 0,
      "outputs": []
    },
    {
      "cell_type": "code",
      "metadata": {
        "colab_type": "code",
        "id": "qqC_3XDs7HMb",
        "colab": {}
      },
      "source": [
        "def validation_plot():\n",
        "    BATCH_COUNT_VAL = int(x_val.shape[0] / BATCH_SIZE)\n",
        "    x_val_list = np.split(x_val, BATCH_COUNT_VAL)\n",
        "    pred_prices = np.zeros((target_prices_val.shape[0], ))\n",
        "    for b_num in range(BATCH_COUNT_VAL):\n",
        "        pred_seq = generator.predict(x_val_list[b_num], batch_size=BATCH_SIZE)\n",
        "        if direction == \"L\":\n",
        "            pred_prices[b_num*BATCH_SIZE : (b_num+1)*BATCH_SIZE] = np.min(pred_seq, axis = 1)[:, 0]\n",
        "        else:\n",
        "            pred_prices[b_num*BATCH_SIZE : (b_num+1)*BATCH_SIZE] = np.max(pred_seq, axis = 1)[:, 0]\n",
        "\n",
        "\n",
        "    print(\"mse : \")\n",
        "    print(mean_squared_error(target_prices_val, pred_prices))\n",
        "\n",
        "    plt.figure(figsize = (18, 5))\n",
        "    plt.plot(pred_prices, label = 'pred_prices')\n",
        "    # plt.show()\n",
        "\n",
        "    # plt.figure(figsize = (18, 5))\n",
        "    plt.plot(target_prices_val, label = 'target_prices')\n",
        "    plt.legend()\n",
        "    plt.show()"
      ],
      "execution_count": 0,
      "outputs": []
    },
    {
      "cell_type": "code",
      "metadata": {
        "id": "SAs0bpm1WwpL",
        "colab_type": "code",
        "colab": {}
      },
      "source": [
        "dLosses = []\n",
        "gLosses = []"
      ],
      "execution_count": 0,
      "outputs": []
    },
    {
      "cell_type": "code",
      "metadata": {
        "id": "hs7lVZSaWG1A",
        "colab_type": "code",
        "colab": {}
      },
      "source": [
        "def plot_loss():\n",
        "    plt.figure(figsize=(18, 5))\n",
        "    plt.plot(dLosses, label='Discriminitive loss')\n",
        "    plt.plot(gLosses, label='Generative loss')\n",
        "    plt.legend()\n",
        "    plt.show()"
      ],
      "execution_count": 0,
      "outputs": []
    },
    {
      "cell_type": "code",
      "metadata": {
        "id": "HC0h86HPqTxX",
        "colab_type": "code",
        "colab": {}
      },
      "source": [
        "def train_():\n",
        "    EPOCHS = params[\"epochs\"]\n",
        "    BATCH_SIZE = params[\"batch_size\"]\n",
        "    BATCH_COUNT = int(x_t.shape[0] / BATCH_SIZE)\n",
        "    for e in (range(1, EPOCHS+1)):\n",
        "        print ('-'*15, 'Epoch %d' % e, '-'*15)\n",
        "        x_t_list = np.split(x_t, BATCH_COUNT)\n",
        "        y_t_list = np.split(y_t, BATCH_COUNT)\n",
        "\n",
        "        for b_num in tqdm_notebook(range(BATCH_COUNT)):\n",
        "\n",
        "            fake_seq = generator.predict(x_t_list[b_num], batch_size = BATCH_SIZE) \n",
        "            fake_seq = np.concatenate((x_t_list[b_num][:, :, feat_to_ind['L']], fake_seq[:, :, 0]), axis = 1)\n",
        "            fake_seq = fake_seq.reshape(BATCH_SIZE, N_OUTPUTS + TIME_STEPS, 1)\n",
        "\n",
        "            real_seq = y_t_list[b_num]\n",
        "            real_seq = np.concatenate((x_t_list[b_num][:, :, feat_to_ind['L']], real_seq), axis = 1)\n",
        "            real_seq = real_seq.reshape(BATCH_SIZE, N_OUTPUTS + TIME_STEPS, 1)\n",
        "\n",
        "            x_stack = np.concatenate([fake_seq, real_seq])\n",
        "            \n",
        "            y_stack = np.zeros(2*BATCH_SIZE)\n",
        "            y_stack[BATCH_SIZE:] = 0.9\n",
        "            y_stack = y_stack.reshape(-1, 1)\n",
        "            \n",
        "            discriminator.trainable = True\n",
        "            dloss = discriminator.train_on_batch(x_stack, y_stack)\n",
        "            \n",
        "            discriminator.trainable = False\n",
        "            gloss = gan.train_on_batch(x_t_list[b_num], np.ones(BATCH_SIZE))\n",
        "\n",
        "        dLosses.append(dloss)\n",
        "        gLosses.append(gloss)\n",
        "\n",
        "            #This line of code checks that generator works well as a standalone\n",
        "            # generator.train_on_batch(x_t_list[b_num], y_t_list[b_num].reshape(BATCH_SIZE, N_OUTPUTS, 1))\n",
        "\n",
        "        if e == 1 or e % 1 == 0:\n",
        "            validation_plot()   \n",
        "            #plot_loss()"
      ],
      "execution_count": 0,
      "outputs": []
    },
    {
      "cell_type": "code",
      "metadata": {
        "id": "OWiTrDFBYxeb",
        "colab_type": "code",
        "outputId": "45f1e980-52c3-43c5-87b7-e5b02bced94e",
        "colab": {
          "base_uri": "https://localhost:8080/",
          "height": 1000,
          "referenced_widgets": [
            "fe98e46d922c4532942cf832efcec7df",
            "ca53c02badf14667a9d4b9498ed36508",
            "c15f4faa54374b4daed7b4d694b60efb",
            "48c85f51e42942cfa6bd7e2f42159cd4",
            "d29bbc6baad64234b88567ec014469b0",
            "7848e423ee25456685b932437c4bad6d",
            "7c7d8fb4eb6c476c8b91abd1123003c2",
            "a88c3129521348e6b40fabd389f98866",
            "d3521222855d4909b920881030cb5110",
            "b68ed66db96148e5907bddd4fd2a17da",
            "6347f97076c94d4f8b4de9c01c37fa50",
            "211f0de185ce4e739014d7e02ddcbc39",
            "19343fb064a740e09ef70a7dd72982c4",
            "56dcf65ea58846fabc4fcf5b3ef97a6e",
            "54e738d26d054d2e91379bac5c15e4b4",
            "67080979f86d4bc5802866d9e6a78c42"
          ]
        }
      },
      "source": [
        "train_()"
      ],
      "execution_count": 21,
      "outputs": [
        {
          "output_type": "stream",
          "text": [
            "--------------- Epoch 1 ---------------\n"
          ],
          "name": "stdout"
        },
        {
          "output_type": "display_data",
          "data": {
            "application/vnd.jupyter.widget-view+json": {
              "model_id": "fe98e46d922c4532942cf832efcec7df",
              "version_minor": 0,
              "version_major": 2
            },
            "text/plain": [
              "HBox(children=(IntProgress(value=0, max=96), HTML(value='')))"
            ]
          },
          "metadata": {
            "tags": []
          }
        },
        {
          "output_type": "stream",
          "text": [
            "\n",
            "mse : \n",
            "0.0012742885963622004\n"
          ],
          "name": "stdout"
        },
        {
          "output_type": "display_data",
          "data": {
            "image/png": "[encoded data removed]",
            "text/plain": [
              "<Figure size 1296x360 with 1 Axes>"
            ]
          },
          "metadata": {
            "tags": []
          }
        },
        {
          "output_type": "stream",
          "text": [
            "--------------- Epoch 2 ---------------\n"
          ],
          "name": "stdout"
        },
        {
          "output_type": "display_data",
          "data": {
            "application/vnd.jupyter.widget-view+json": {
              "model_id": "d3521222855d4909b920881030cb5110",
              "version_minor": 0,
              "version_major": 2
            },
            "text/plain": [
              "HBox(children=(IntProgress(value=0, max=96), HTML(value='')))"
            ]
          },
          "metadata": {
            "tags": []
          }
        },
        {
          "output_type": "stream",
          "text": [
            "ERROR:root:Internal Python error in the inspect module.\n",
            "Below is the traceback from this internal error.\n",
            "\n"
          ],
          "name": "stderr"
        },
        {
          "output_type": "stream",
          "text": [
            "Traceback (most recent call last):\n",
            "  File \"/usr/local/lib/python3.6/dist-packages/IPython/core/interactiveshell.py\", line 2882, in run_code\n",
            "    exec(code_obj, self.user_global_ns, self.user_ns)\n",
            "  File \"<ipython-input-21-e8af12e8afbe>\", line 1, in <module>\n",
            "    train_()\n",
            "  File \"<ipython-input-20-4d7d0375f069>\", line 30, in train_\n",
            "    gloss = gan.train_on_batch(x_t_list[b_num], np.ones(BATCH_SIZE))\n",
            "  File \"/usr/local/lib/python3.6/dist-packages/keras/engine/training.py\", line 1449, in train_on_batch\n",
            "    outputs = self.train_function(ins)\n",
            "  File \"/usr/local/lib/python3.6/dist-packages/keras/backend/tensorflow_backend.py\", line 2979, in __call__\n",
            "    return self._call(inputs)\n",
            "  File \"/usr/local/lib/python3.6/dist-packages/keras/backend/tensorflow_backend.py\", line 2937, in _call\n",
            "    fetched = self._callable_fn(*array_vals)\n",
            "  File \"/usr/local/lib/python3.6/dist-packages/tensorflow_core/python/client/session.py\", line 1472, in __call__\n",
            "    run_metadata_ptr)\n",
            "KeyboardInterrupt\n",
            "\n",
            "During handling of the above exception, another exception occurred:\n",
            "\n",
            "Traceback (most recent call last):\n",
            "  File \"/usr/local/lib/python3.6/dist-packages/IPython/core/interactiveshell.py\", line 1823, in showtraceback\n",
            "    stb = value._render_traceback_()\n",
            "AttributeError: 'KeyboardInterrupt' object has no attribute '_render_traceback_'\n",
            "\n",
            "During handling of the above exception, another exception occurred:\n",
            "\n",
            "Traceback (most recent call last):\n",
            "  File \"/usr/local/lib/python3.6/dist-packages/IPython/core/ultratb.py\", line 1132, in get_records\n",
            "    return _fixed_getinnerframes(etb, number_of_lines_of_context, tb_offset)\n",
            "  File \"/usr/local/lib/python3.6/dist-packages/IPython/core/ultratb.py\", line 313, in wrapped\n",
            "    return f(*args, **kwargs)\n",
            "  File \"/usr/local/lib/python3.6/dist-packages/IPython/core/ultratb.py\", line 358, in _fixed_getinnerframes\n",
            "    records = fix_frame_records_filenames(inspect.getinnerframes(etb, context))\n",
            "  File \"/usr/lib/python3.6/inspect.py\", line 1490, in getinnerframes\n",
            "    frameinfo = (tb.tb_frame,) + getframeinfo(tb, context)\n",
            "  File \"/usr/lib/python3.6/inspect.py\", line 1448, in getframeinfo\n",
            "    filename = getsourcefile(frame) or getfile(frame)\n",
            "  File \"/usr/lib/python3.6/inspect.py\", line 696, in getsourcefile\n",
            "    if getattr(getmodule(object, filename), '__loader__', None) is not None:\n",
            "  File \"/usr/lib/python3.6/inspect.py\", line 733, in getmodule\n",
            "    if ismodule(module) and hasattr(module, '__file__'):\n",
            "  File \"/usr/local/lib/python3.6/dist-packages/tensorflow/__init__.py\", line 50, in __getattr__\n",
            "    module = self._load()\n",
            "  File \"/usr/local/lib/python3.6/dist-packages/tensorflow/__init__.py\", line 44, in _load\n",
            "    module = _importlib.import_module(self.__name__)\n",
            "  File \"/usr/lib/python3.6/importlib/__init__.py\", line 126, in import_module\n",
            "    return _bootstrap._gcd_import(name[level:], package, level)\n",
            "  File \"<frozen importlib._bootstrap>\", line 994, in _gcd_import\n",
            "  File \"<frozen importlib._bootstrap>\", line 971, in _find_and_load\n",
            "  File \"<frozen importlib._bootstrap>\", line 955, in _find_and_load_unlocked\n",
            "  File \"<frozen importlib._bootstrap>\", line 665, in _load_unlocked\n",
            "  File \"<frozen importlib._bootstrap_external>\", line 678, in exec_module\n",
            "  File \"<frozen importlib._bootstrap>\", line 219, in _call_with_frames_removed\n",
            "  File \"/usr/local/lib/python3.6/dist-packages/tensorflow_core/contrib/__init__.py\", line 43, in <module>\n",
            "    from tensorflow.contrib import cudnn_rnn\n",
            "  File \"/usr/local/lib/python3.6/dist-packages/tensorflow_core/contrib/cudnn_rnn/__init__.py\", line 38, in <module>\n",
            "    from tensorflow.contrib.cudnn_rnn.python.layers import *\n",
            "  File \"/usr/local/lib/python3.6/dist-packages/tensorflow_core/contrib/cudnn_rnn/__init__.py\", line 38, in <module>\n",
            "    from tensorflow.contrib.cudnn_rnn.python.layers import *\n",
            "  File \"/usr/local/lib/python3.6/dist-packages/tensorflow_core/contrib/cudnn_rnn/python/layers/__init__.py\", line 23, in <module>\n",
            "    from tensorflow.contrib.cudnn_rnn.python.layers.cudnn_rnn import *\n",
            "  File \"/usr/local/lib/python3.6/dist-packages/tensorflow_core/contrib/cudnn_rnn/python/layers/cudnn_rnn.py\", line 20, in <module>\n",
            "    from tensorflow.contrib.cudnn_rnn.python.ops import cudnn_rnn_ops\n",
            "  File \"/usr/local/lib/python3.6/dist-packages/tensorflow_core/contrib/cudnn_rnn/python/ops/cudnn_rnn_ops.py\", line 22, in <module>\n",
            "    from tensorflow.contrib.rnn.python.ops import lstm_ops\n",
            "  File \"/usr/local/lib/python3.6/dist-packages/tensorflow_core/contrib/rnn/__init__.py\", line 93, in <module>\n",
            "    from tensorflow.contrib.rnn.python.ops.rnn_cell import *\n",
            "  File \"/usr/local/lib/python3.6/dist-packages/tensorflow_core/contrib/rnn/python/ops/rnn_cell.py\", line 24, in <module>\n",
            "    from tensorflow.contrib.layers.python.layers import layers\n",
            "  File \"/usr/local/lib/python3.6/dist-packages/tensorflow_core/contrib/layers/__init__.py\", line 116, in <module>\n",
            "    from tensorflow.contrib.layers.python.layers import *\n",
            "  File \"/usr/local/lib/python3.6/dist-packages/tensorflow_core/contrib/layers/python/layers/__init__.py\", line 22, in <module>\n",
            "    from tensorflow.contrib.layers.python.layers.embedding_ops import *\n",
            "  File \"/usr/local/lib/python3.6/dist-packages/tensorflow_core/contrib/layers/python/layers/embedding_ops.py\", line 23, in <module>\n",
            "    from tensorflow.contrib.layers.python.ops import sparse_feature_cross_op\n",
            "  File \"/usr/local/lib/python3.6/dist-packages/tensorflow_core/contrib/layers/python/ops/sparse_feature_cross_op.py\", line 21, in <module>\n",
            "    from tensorflow.contrib.layers.ops import gen_sparse_feature_cross_op\n",
            "  File \"<frozen importlib._bootstrap>\", line 971, in _find_and_load\n",
            "  File \"<frozen importlib._bootstrap>\", line 955, in _find_and_load_unlocked\n",
            "  File \"<frozen importlib._bootstrap>\", line 665, in _load_unlocked\n",
            "  File \"<frozen importlib._bootstrap_external>\", line 674, in exec_module\n",
            "  File \"<frozen importlib._bootstrap_external>\", line 764, in get_code\n",
            "  File \"<frozen importlib._bootstrap_external>\", line 833, in get_data\n",
            "KeyboardInterrupt\n"
          ],
          "name": "stdout"
        },
        {
          "output_type": "error",
          "ename": "KeyboardInterrupt",
          "evalue": "ignored",
          "traceback": [
            "\u001b[0;31m---------------------------------------------------------------------------\u001b[0m"
          ]
        }
      ]
    },
    {
      "cell_type": "code",
      "metadata": {
        "id": "qg2N784rsw4B",
        "colab_type": "code",
        "colab": {}
      },
      "source": [
        " def test_plot():\n",
        "    BATCH_COUNT_TES = int(x_test_t.shape[0] / BATCH_SIZE)\n",
        "    x_test_list = np.split(x_test_t, BATCH_COUNT_TES)\n",
        "    pred_prices = np.zeros((target_prices_test_t.shape[0], ))\n",
        "    for b_num in range(BATCH_COUNT_TES):\n",
        "        pred_seq = generator.predict(x_test_list[b_num], batch_size=BATCH_SIZE)\n",
        "        if direction == \"L\":\n",
        "            pred_prices[b_num*BATCH_SIZE : (b_num+1)*BATCH_SIZE] = np.min(pred_seq, axis = 1)[:, 0]\n",
        "        else:\n",
        "            pred_prices[b_num*BATCH_SIZE : (b_num+1)*BATCH_SIZE] = np.max(pred_seq, axis = 1)[:, 0]\n",
        "\n",
        "\n",
        "    print(\"mse : \")\n",
        "    print(mean_squared_error(target_prices_test_t, pred_prices))\n",
        "\n",
        "    plt.figure(figsize = (18, 5))\n",
        "    plt.plot(pred_prices, label = 'pred_prices')\n",
        "    plt.show()\n",
        "\n",
        "    plt.figure(figsize = (18, 5))\n",
        "    plt.plot(target_prices_test_t, label = 'target_prices')\n",
        "    plt.show()"
      ],
      "execution_count": 0,
      "outputs": []
    },
    {
      "cell_type": "code",
      "metadata": {
        "id": "AX46nhEljS3f",
        "colab_type": "code",
        "outputId": "25f5989e-2324-4866-d95d-d56c9b089391",
        "colab": {
          "base_uri": "https://localhost:8080/",
          "height": 658
        }
      },
      "source": [
        "test_plot()"
      ],
      "execution_count": 19,
      "outputs": [
        {
          "output_type": "stream",
          "text": [
            "mse : \n",
            "0.19913432480093604\n"
          ],
          "name": "stdout"
        },
        {
          "output_type": "display_data",
          "data": {
            "image/png": "[encoded data removed]",
            "text/plain": [
              "<Figure size 1296x360 with 1 Axes>"
            ]
          },
          "metadata": {
            "tags": []
          }
        },
        {
          "output_type": "display_data",
          "data": {
            "image/png": "[encoded data removed]",
            "text/plain": [
              "<Figure size 1296x360 with 1 Axes>"
            ]
          },
          "metadata": {
            "tags": []
          }
        }
      ]
    },
    {
      "cell_type": "code",
      "metadata": {
        "id": "DVDzMmA5iUhZ",
        "colab_type": "code",
        "colab": {}
      },
      "source": [
        ""
      ],
      "execution_count": 0,
      "outputs": []
    }
  ]
}